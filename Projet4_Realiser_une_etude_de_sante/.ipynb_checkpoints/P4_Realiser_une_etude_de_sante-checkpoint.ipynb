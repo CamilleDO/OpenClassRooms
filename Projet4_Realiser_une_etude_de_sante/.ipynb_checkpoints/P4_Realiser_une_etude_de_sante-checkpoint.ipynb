{
 "cells": [
  {
   "cell_type": "markdown",
   "id": "b9a4a0ed",
   "metadata": {},
   "source": [
    "<div style=\"display: flex; text-align:center; background-color: rgb(153,102,153);\" >\n",
    "<h1 style=\"margin: auto; padding: 30px; \">Réaliser une étude de santé avec Python <br>\n",
    "</h1>\n",
    "</div>"
   ]
  },
  {
   "cell_type": "markdown",
   "id": "e60cfffa",
   "metadata": {},
   "source": [
    "# Scénario"
   ]
  },
  {
   "cell_type": "markdown",
   "id": "d7aed2cd",
   "metadata": {},
   "source": [
    "Je viens de rejoindre une équipe de chercheurs de la FAO en tant que data analyst. Notre mission est de réaliser une étude de grande ampleur sur le thème de la sous-nutrition dans le monde :\n",
    "\n",
    "- Avoir un panorama de l’état de la malnutrition dans le monde en 2017 (Questions de Marc + 2 de Julien)\n",
    "- Avoir une étude un peu plus fine pour chacun des pays (Question de Mélanie)"
   ]
  },
  {
   "cell_type": "markdown",
   "id": "997caec8",
   "metadata": {},
   "source": [
    "<div style=\"background-color: RGB(51,165,182);\" >\n",
    "<h2 style=\"margin: auto; padding: 20px; color:#fff; \">Partie 1 - Importation des librairies et fichiers</h2>\n",
    "</div>"
   ]
  },
  {
   "cell_type": "code",
   "execution_count": 1,
   "id": "d2704bc0",
   "metadata": {},
   "outputs": [],
   "source": [
    "import pandas as pd\n",
    "import numpy as np\n",
    "import matplotlib.pyplot as plt\n",
    "import seaborn as sns"
   ]
  },
  {
   "cell_type": "code",
   "execution_count": 2,
   "id": "fb92c965",
   "metadata": {},
   "outputs": [
    {
     "ename": "FileNotFoundError",
     "evalue": "[Errno 2] No such file or directory: 'population.csv'",
     "output_type": "error",
     "traceback": [
      "\u001b[1;31m---------------------------------------------------------------------------\u001b[0m",
      "\u001b[1;31mFileNotFoundError\u001b[0m                         Traceback (most recent call last)",
      "Input \u001b[1;32mIn [2]\u001b[0m, in \u001b[0;36m<cell line: 1>\u001b[1;34m()\u001b[0m\n\u001b[1;32m----> 1\u001b[0m df_pop \u001b[38;5;241m=\u001b[39m \u001b[43mpd\u001b[49m\u001b[38;5;241;43m.\u001b[39;49m\u001b[43mread_csv\u001b[49m\u001b[43m(\u001b[49m\u001b[38;5;124;43m\"\u001b[39;49m\u001b[38;5;124;43mpopulation.csv\u001b[39;49m\u001b[38;5;124;43m\"\u001b[39;49m\u001b[43m)\u001b[49m\n\u001b[0;32m      2\u001b[0m df_sous_nutri \u001b[38;5;241m=\u001b[39m pd\u001b[38;5;241m.\u001b[39mread_csv(\u001b[38;5;124m\"\u001b[39m\u001b[38;5;124msous_nutrition.csv\u001b[39m\u001b[38;5;124m\"\u001b[39m)\n\u001b[0;32m      3\u001b[0m df_aide_ali \u001b[38;5;241m=\u001b[39mpd\u001b[38;5;241m.\u001b[39mread_csv(\u001b[38;5;124m\"\u001b[39m\u001b[38;5;124maide_alimentaire.csv\u001b[39m\u001b[38;5;124m\"\u001b[39m)\n",
      "File \u001b[1;32m~\\anaconda3\\lib\\site-packages\\pandas\\util\\_decorators.py:311\u001b[0m, in \u001b[0;36mdeprecate_nonkeyword_arguments.<locals>.decorate.<locals>.wrapper\u001b[1;34m(*args, **kwargs)\u001b[0m\n\u001b[0;32m    305\u001b[0m \u001b[38;5;28;01mif\u001b[39;00m \u001b[38;5;28mlen\u001b[39m(args) \u001b[38;5;241m>\u001b[39m num_allow_args:\n\u001b[0;32m    306\u001b[0m     warnings\u001b[38;5;241m.\u001b[39mwarn(\n\u001b[0;32m    307\u001b[0m         msg\u001b[38;5;241m.\u001b[39mformat(arguments\u001b[38;5;241m=\u001b[39marguments),\n\u001b[0;32m    308\u001b[0m         \u001b[38;5;167;01mFutureWarning\u001b[39;00m,\n\u001b[0;32m    309\u001b[0m         stacklevel\u001b[38;5;241m=\u001b[39mstacklevel,\n\u001b[0;32m    310\u001b[0m     )\n\u001b[1;32m--> 311\u001b[0m \u001b[38;5;28;01mreturn\u001b[39;00m func(\u001b[38;5;241m*\u001b[39margs, \u001b[38;5;241m*\u001b[39m\u001b[38;5;241m*\u001b[39mkwargs)\n",
      "File \u001b[1;32m~\\anaconda3\\lib\\site-packages\\pandas\\io\\parsers\\readers.py:680\u001b[0m, in \u001b[0;36mread_csv\u001b[1;34m(filepath_or_buffer, sep, delimiter, header, names, index_col, usecols, squeeze, prefix, mangle_dupe_cols, dtype, engine, converters, true_values, false_values, skipinitialspace, skiprows, skipfooter, nrows, na_values, keep_default_na, na_filter, verbose, skip_blank_lines, parse_dates, infer_datetime_format, keep_date_col, date_parser, dayfirst, cache_dates, iterator, chunksize, compression, thousands, decimal, lineterminator, quotechar, quoting, doublequote, escapechar, comment, encoding, encoding_errors, dialect, error_bad_lines, warn_bad_lines, on_bad_lines, delim_whitespace, low_memory, memory_map, float_precision, storage_options)\u001b[0m\n\u001b[0;32m    665\u001b[0m kwds_defaults \u001b[38;5;241m=\u001b[39m _refine_defaults_read(\n\u001b[0;32m    666\u001b[0m     dialect,\n\u001b[0;32m    667\u001b[0m     delimiter,\n\u001b[1;32m   (...)\u001b[0m\n\u001b[0;32m    676\u001b[0m     defaults\u001b[38;5;241m=\u001b[39m{\u001b[38;5;124m\"\u001b[39m\u001b[38;5;124mdelimiter\u001b[39m\u001b[38;5;124m\"\u001b[39m: \u001b[38;5;124m\"\u001b[39m\u001b[38;5;124m,\u001b[39m\u001b[38;5;124m\"\u001b[39m},\n\u001b[0;32m    677\u001b[0m )\n\u001b[0;32m    678\u001b[0m kwds\u001b[38;5;241m.\u001b[39mupdate(kwds_defaults)\n\u001b[1;32m--> 680\u001b[0m \u001b[38;5;28;01mreturn\u001b[39;00m \u001b[43m_read\u001b[49m\u001b[43m(\u001b[49m\u001b[43mfilepath_or_buffer\u001b[49m\u001b[43m,\u001b[49m\u001b[43m \u001b[49m\u001b[43mkwds\u001b[49m\u001b[43m)\u001b[49m\n",
      "File \u001b[1;32m~\\anaconda3\\lib\\site-packages\\pandas\\io\\parsers\\readers.py:575\u001b[0m, in \u001b[0;36m_read\u001b[1;34m(filepath_or_buffer, kwds)\u001b[0m\n\u001b[0;32m    572\u001b[0m _validate_names(kwds\u001b[38;5;241m.\u001b[39mget(\u001b[38;5;124m\"\u001b[39m\u001b[38;5;124mnames\u001b[39m\u001b[38;5;124m\"\u001b[39m, \u001b[38;5;28;01mNone\u001b[39;00m))\n\u001b[0;32m    574\u001b[0m \u001b[38;5;66;03m# Create the parser.\u001b[39;00m\n\u001b[1;32m--> 575\u001b[0m parser \u001b[38;5;241m=\u001b[39m TextFileReader(filepath_or_buffer, \u001b[38;5;241m*\u001b[39m\u001b[38;5;241m*\u001b[39mkwds)\n\u001b[0;32m    577\u001b[0m \u001b[38;5;28;01mif\u001b[39;00m chunksize \u001b[38;5;129;01mor\u001b[39;00m iterator:\n\u001b[0;32m    578\u001b[0m     \u001b[38;5;28;01mreturn\u001b[39;00m parser\n",
      "File \u001b[1;32m~\\anaconda3\\lib\\site-packages\\pandas\\io\\parsers\\readers.py:933\u001b[0m, in \u001b[0;36mTextFileReader.__init__\u001b[1;34m(self, f, engine, **kwds)\u001b[0m\n\u001b[0;32m    930\u001b[0m     \u001b[38;5;28mself\u001b[39m\u001b[38;5;241m.\u001b[39moptions[\u001b[38;5;124m\"\u001b[39m\u001b[38;5;124mhas_index_names\u001b[39m\u001b[38;5;124m\"\u001b[39m] \u001b[38;5;241m=\u001b[39m kwds[\u001b[38;5;124m\"\u001b[39m\u001b[38;5;124mhas_index_names\u001b[39m\u001b[38;5;124m\"\u001b[39m]\n\u001b[0;32m    932\u001b[0m \u001b[38;5;28mself\u001b[39m\u001b[38;5;241m.\u001b[39mhandles: IOHandles \u001b[38;5;241m|\u001b[39m \u001b[38;5;28;01mNone\u001b[39;00m \u001b[38;5;241m=\u001b[39m \u001b[38;5;28;01mNone\u001b[39;00m\n\u001b[1;32m--> 933\u001b[0m \u001b[38;5;28mself\u001b[39m\u001b[38;5;241m.\u001b[39m_engine \u001b[38;5;241m=\u001b[39m \u001b[38;5;28;43mself\u001b[39;49m\u001b[38;5;241;43m.\u001b[39;49m\u001b[43m_make_engine\u001b[49m\u001b[43m(\u001b[49m\u001b[43mf\u001b[49m\u001b[43m,\u001b[49m\u001b[43m \u001b[49m\u001b[38;5;28;43mself\u001b[39;49m\u001b[38;5;241;43m.\u001b[39;49m\u001b[43mengine\u001b[49m\u001b[43m)\u001b[49m\n",
      "File \u001b[1;32m~\\anaconda3\\lib\\site-packages\\pandas\\io\\parsers\\readers.py:1217\u001b[0m, in \u001b[0;36mTextFileReader._make_engine\u001b[1;34m(self, f, engine)\u001b[0m\n\u001b[0;32m   1213\u001b[0m     mode \u001b[38;5;241m=\u001b[39m \u001b[38;5;124m\"\u001b[39m\u001b[38;5;124mrb\u001b[39m\u001b[38;5;124m\"\u001b[39m\n\u001b[0;32m   1214\u001b[0m \u001b[38;5;66;03m# error: No overload variant of \"get_handle\" matches argument types\u001b[39;00m\n\u001b[0;32m   1215\u001b[0m \u001b[38;5;66;03m# \"Union[str, PathLike[str], ReadCsvBuffer[bytes], ReadCsvBuffer[str]]\"\u001b[39;00m\n\u001b[0;32m   1216\u001b[0m \u001b[38;5;66;03m# , \"str\", \"bool\", \"Any\", \"Any\", \"Any\", \"Any\", \"Any\"\u001b[39;00m\n\u001b[1;32m-> 1217\u001b[0m \u001b[38;5;28mself\u001b[39m\u001b[38;5;241m.\u001b[39mhandles \u001b[38;5;241m=\u001b[39m \u001b[43mget_handle\u001b[49m\u001b[43m(\u001b[49m\u001b[43m  \u001b[49m\u001b[38;5;66;43;03m# type: ignore[call-overload]\u001b[39;49;00m\n\u001b[0;32m   1218\u001b[0m \u001b[43m    \u001b[49m\u001b[43mf\u001b[49m\u001b[43m,\u001b[49m\n\u001b[0;32m   1219\u001b[0m \u001b[43m    \u001b[49m\u001b[43mmode\u001b[49m\u001b[43m,\u001b[49m\n\u001b[0;32m   1220\u001b[0m \u001b[43m    \u001b[49m\u001b[43mencoding\u001b[49m\u001b[38;5;241;43m=\u001b[39;49m\u001b[38;5;28;43mself\u001b[39;49m\u001b[38;5;241;43m.\u001b[39;49m\u001b[43moptions\u001b[49m\u001b[38;5;241;43m.\u001b[39;49m\u001b[43mget\u001b[49m\u001b[43m(\u001b[49m\u001b[38;5;124;43m\"\u001b[39;49m\u001b[38;5;124;43mencoding\u001b[39;49m\u001b[38;5;124;43m\"\u001b[39;49m\u001b[43m,\u001b[49m\u001b[43m \u001b[49m\u001b[38;5;28;43;01mNone\u001b[39;49;00m\u001b[43m)\u001b[49m\u001b[43m,\u001b[49m\n\u001b[0;32m   1221\u001b[0m \u001b[43m    \u001b[49m\u001b[43mcompression\u001b[49m\u001b[38;5;241;43m=\u001b[39;49m\u001b[38;5;28;43mself\u001b[39;49m\u001b[38;5;241;43m.\u001b[39;49m\u001b[43moptions\u001b[49m\u001b[38;5;241;43m.\u001b[39;49m\u001b[43mget\u001b[49m\u001b[43m(\u001b[49m\u001b[38;5;124;43m\"\u001b[39;49m\u001b[38;5;124;43mcompression\u001b[39;49m\u001b[38;5;124;43m\"\u001b[39;49m\u001b[43m,\u001b[49m\u001b[43m \u001b[49m\u001b[38;5;28;43;01mNone\u001b[39;49;00m\u001b[43m)\u001b[49m\u001b[43m,\u001b[49m\n\u001b[0;32m   1222\u001b[0m \u001b[43m    \u001b[49m\u001b[43mmemory_map\u001b[49m\u001b[38;5;241;43m=\u001b[39;49m\u001b[38;5;28;43mself\u001b[39;49m\u001b[38;5;241;43m.\u001b[39;49m\u001b[43moptions\u001b[49m\u001b[38;5;241;43m.\u001b[39;49m\u001b[43mget\u001b[49m\u001b[43m(\u001b[49m\u001b[38;5;124;43m\"\u001b[39;49m\u001b[38;5;124;43mmemory_map\u001b[39;49m\u001b[38;5;124;43m\"\u001b[39;49m\u001b[43m,\u001b[49m\u001b[43m \u001b[49m\u001b[38;5;28;43;01mFalse\u001b[39;49;00m\u001b[43m)\u001b[49m\u001b[43m,\u001b[49m\n\u001b[0;32m   1223\u001b[0m \u001b[43m    \u001b[49m\u001b[43mis_text\u001b[49m\u001b[38;5;241;43m=\u001b[39;49m\u001b[43mis_text\u001b[49m\u001b[43m,\u001b[49m\n\u001b[0;32m   1224\u001b[0m \u001b[43m    \u001b[49m\u001b[43merrors\u001b[49m\u001b[38;5;241;43m=\u001b[39;49m\u001b[38;5;28;43mself\u001b[39;49m\u001b[38;5;241;43m.\u001b[39;49m\u001b[43moptions\u001b[49m\u001b[38;5;241;43m.\u001b[39;49m\u001b[43mget\u001b[49m\u001b[43m(\u001b[49m\u001b[38;5;124;43m\"\u001b[39;49m\u001b[38;5;124;43mencoding_errors\u001b[39;49m\u001b[38;5;124;43m\"\u001b[39;49m\u001b[43m,\u001b[49m\u001b[43m \u001b[49m\u001b[38;5;124;43m\"\u001b[39;49m\u001b[38;5;124;43mstrict\u001b[39;49m\u001b[38;5;124;43m\"\u001b[39;49m\u001b[43m)\u001b[49m\u001b[43m,\u001b[49m\n\u001b[0;32m   1225\u001b[0m \u001b[43m    \u001b[49m\u001b[43mstorage_options\u001b[49m\u001b[38;5;241;43m=\u001b[39;49m\u001b[38;5;28;43mself\u001b[39;49m\u001b[38;5;241;43m.\u001b[39;49m\u001b[43moptions\u001b[49m\u001b[38;5;241;43m.\u001b[39;49m\u001b[43mget\u001b[49m\u001b[43m(\u001b[49m\u001b[38;5;124;43m\"\u001b[39;49m\u001b[38;5;124;43mstorage_options\u001b[39;49m\u001b[38;5;124;43m\"\u001b[39;49m\u001b[43m,\u001b[49m\u001b[43m \u001b[49m\u001b[38;5;28;43;01mNone\u001b[39;49;00m\u001b[43m)\u001b[49m\u001b[43m,\u001b[49m\n\u001b[0;32m   1226\u001b[0m \u001b[43m\u001b[49m\u001b[43m)\u001b[49m\n\u001b[0;32m   1227\u001b[0m \u001b[38;5;28;01massert\u001b[39;00m \u001b[38;5;28mself\u001b[39m\u001b[38;5;241m.\u001b[39mhandles \u001b[38;5;129;01mis\u001b[39;00m \u001b[38;5;129;01mnot\u001b[39;00m \u001b[38;5;28;01mNone\u001b[39;00m\n\u001b[0;32m   1228\u001b[0m f \u001b[38;5;241m=\u001b[39m \u001b[38;5;28mself\u001b[39m\u001b[38;5;241m.\u001b[39mhandles\u001b[38;5;241m.\u001b[39mhandle\n",
      "File \u001b[1;32m~\\anaconda3\\lib\\site-packages\\pandas\\io\\common.py:789\u001b[0m, in \u001b[0;36mget_handle\u001b[1;34m(path_or_buf, mode, encoding, compression, memory_map, is_text, errors, storage_options)\u001b[0m\n\u001b[0;32m    784\u001b[0m \u001b[38;5;28;01melif\u001b[39;00m \u001b[38;5;28misinstance\u001b[39m(handle, \u001b[38;5;28mstr\u001b[39m):\n\u001b[0;32m    785\u001b[0m     \u001b[38;5;66;03m# Check whether the filename is to be opened in binary mode.\u001b[39;00m\n\u001b[0;32m    786\u001b[0m     \u001b[38;5;66;03m# Binary mode does not support 'encoding' and 'newline'.\u001b[39;00m\n\u001b[0;32m    787\u001b[0m     \u001b[38;5;28;01mif\u001b[39;00m ioargs\u001b[38;5;241m.\u001b[39mencoding \u001b[38;5;129;01mand\u001b[39;00m \u001b[38;5;124m\"\u001b[39m\u001b[38;5;124mb\u001b[39m\u001b[38;5;124m\"\u001b[39m \u001b[38;5;129;01mnot\u001b[39;00m \u001b[38;5;129;01min\u001b[39;00m ioargs\u001b[38;5;241m.\u001b[39mmode:\n\u001b[0;32m    788\u001b[0m         \u001b[38;5;66;03m# Encoding\u001b[39;00m\n\u001b[1;32m--> 789\u001b[0m         handle \u001b[38;5;241m=\u001b[39m \u001b[38;5;28;43mopen\u001b[39;49m\u001b[43m(\u001b[49m\n\u001b[0;32m    790\u001b[0m \u001b[43m            \u001b[49m\u001b[43mhandle\u001b[49m\u001b[43m,\u001b[49m\n\u001b[0;32m    791\u001b[0m \u001b[43m            \u001b[49m\u001b[43mioargs\u001b[49m\u001b[38;5;241;43m.\u001b[39;49m\u001b[43mmode\u001b[49m\u001b[43m,\u001b[49m\n\u001b[0;32m    792\u001b[0m \u001b[43m            \u001b[49m\u001b[43mencoding\u001b[49m\u001b[38;5;241;43m=\u001b[39;49m\u001b[43mioargs\u001b[49m\u001b[38;5;241;43m.\u001b[39;49m\u001b[43mencoding\u001b[49m\u001b[43m,\u001b[49m\n\u001b[0;32m    793\u001b[0m \u001b[43m            \u001b[49m\u001b[43merrors\u001b[49m\u001b[38;5;241;43m=\u001b[39;49m\u001b[43merrors\u001b[49m\u001b[43m,\u001b[49m\n\u001b[0;32m    794\u001b[0m \u001b[43m            \u001b[49m\u001b[43mnewline\u001b[49m\u001b[38;5;241;43m=\u001b[39;49m\u001b[38;5;124;43m\"\u001b[39;49m\u001b[38;5;124;43m\"\u001b[39;49m\u001b[43m,\u001b[49m\n\u001b[0;32m    795\u001b[0m \u001b[43m        \u001b[49m\u001b[43m)\u001b[49m\n\u001b[0;32m    796\u001b[0m     \u001b[38;5;28;01melse\u001b[39;00m:\n\u001b[0;32m    797\u001b[0m         \u001b[38;5;66;03m# Binary mode\u001b[39;00m\n\u001b[0;32m    798\u001b[0m         handle \u001b[38;5;241m=\u001b[39m \u001b[38;5;28mopen\u001b[39m(handle, ioargs\u001b[38;5;241m.\u001b[39mmode)\n",
      "\u001b[1;31mFileNotFoundError\u001b[0m: [Errno 2] No such file or directory: 'population.csv'"
     ]
    }
   ],
   "source": [
    "df_pop = pd.read_csv(\"population.csv\")\n",
    "df_sous_nutri = pd.read_csv(\"sous_nutrition.csv\")\n",
    "df_aide_ali =pd.read_csv(\"aide_alimentaire.csv\")\n",
    "df_dispo_ali = pd.read_csv(\"dispo_alimentaire.csv\")\n",
    "liste_cereales = pd.read_csv(\"liste_cereales2.csv\")"
   ]
  },
  {
   "cell_type": "markdown",
   "id": "8c4f5889",
   "metadata": {},
   "source": [
    "<div style=\"background-color: RGB(51,165,182);\" >\n",
    "<h2 style=\"margin: auto; padding: 20px; color:#fff; \">Partie 2 - Nettoyage </h2>\n",
    "</div>"
   ]
  },
  {
   "cell_type": "markdown",
   "id": "3bf2c352",
   "metadata": {},
   "source": [
    "Méthodologie : \n",
    "- Premier visuel : head(), shape, dtypes, unique(), describe()...\n",
    "- Modification du nom des colonnes : rename(), .columns=\n",
    "- Modification des types de D si besoin : astype(), to_numeric()\n",
    "- Recherche doublon : duplicated()\n",
    "- Recherche et modifications valeur manquante : isna(), fillna()...\n",
    "- Conversion des unités au besoin : column*10^x"
   ]
  },
  {
   "cell_type": "markdown",
   "id": "8386faf8",
   "metadata": {},
   "source": [
    "<div style=\"border: 1px solid RGB(51,165,182);\" >\n",
    "<h3 style=\"margin: auto; padding: 10px; color: RGB(51,165,182); \">1.1- Fichier population </h3>\n",
    "</div>\n"
   ]
  },
  {
   "cell_type": "code",
   "execution_count": null,
   "id": "f18c975a",
   "metadata": {},
   "outputs": [],
   "source": [
    "df_pop.head()"
   ]
  },
  {
   "cell_type": "code",
   "execution_count": null,
   "id": "06370de0",
   "metadata": {},
   "outputs": [],
   "source": [
    "df_pop.shape"
   ]
  },
  {
   "cell_type": "code",
   "execution_count": null,
   "id": "d6096e5a",
   "metadata": {},
   "outputs": [],
   "source": [
    "df_pop.dtypes"
   ]
  },
  {
   "cell_type": "code",
   "execution_count": null,
   "id": "a5c3dd3d",
   "metadata": {},
   "outputs": [],
   "source": [
    "df_pop[\"Année\"].unique()"
   ]
  },
  {
   "cell_type": "code",
   "execution_count": null,
   "id": "44eaf643",
   "metadata": {},
   "outputs": [],
   "source": [
    "#df_pop[\"Valeur\"].unique().tolist()"
   ]
  },
  {
   "cell_type": "code",
   "execution_count": null,
   "id": "34be880e",
   "metadata": {},
   "outputs": [],
   "source": [
    "df_pop.columns= [\"Pays\", \"Annee\", \"Nb_habitants\"]"
   ]
  },
  {
   "cell_type": "code",
   "execution_count": null,
   "id": "6edc12a2",
   "metadata": {},
   "outputs": [],
   "source": [
    "df_pop.Nb_habitants=df_pop.Nb_habitants*10**3\n",
    "df_pop.head()"
   ]
  },
  {
   "cell_type": "code",
   "execution_count": null,
   "id": "82aa5b9d",
   "metadata": {},
   "outputs": [],
   "source": [
    "df_pop.duplicated().sum()"
   ]
  },
  {
   "cell_type": "code",
   "execution_count": null,
   "id": "cee32949",
   "metadata": {},
   "outputs": [],
   "source": [
    "df_pop.isna().sum()"
   ]
  },
  {
   "cell_type": "markdown",
   "id": "d27dac7c",
   "metadata": {},
   "source": [
    "<div style=\"border: 1px solid RGB(51,165,182);\" >\n",
    "<h3 style=\"margin: auto; padding: 10px; color: RGB(51,165,182); \">1.2- Fichier sous_nutrition </h3>\n",
    "</div>"
   ]
  },
  {
   "cell_type": "code",
   "execution_count": null,
   "id": "c8d9395d",
   "metadata": {},
   "outputs": [],
   "source": [
    "df_sous_nutri.head()"
   ]
  },
  {
   "cell_type": "code",
   "execution_count": null,
   "id": "1d6a2663",
   "metadata": {},
   "outputs": [],
   "source": [
    "df_sous_nutri.shape"
   ]
  },
  {
   "cell_type": "code",
   "execution_count": null,
   "id": "afa4e05c",
   "metadata": {},
   "outputs": [],
   "source": [
    "df_sous_nutri.dtypes"
   ]
  },
  {
   "cell_type": "code",
   "execution_count": null,
   "id": "b246e13d",
   "metadata": {},
   "outputs": [],
   "source": [
    "df_sous_nutri[\"Valeur\"].unique()"
   ]
  },
  {
   "cell_type": "code",
   "execution_count": null,
   "id": "752908b6",
   "metadata": {},
   "outputs": [],
   "source": [
    "## On voit qu'il y a des nan et des \"<0.1\", on va d'abord remplacer par 0 le <0.1\n",
    "df_sous_nutri=df_sous_nutri.replace(\"<0.1\", \"0\")\n",
    "df_sous_nutri[\"Valeur\"].unique()"
   ]
  },
  {
   "cell_type": "code",
   "execution_count": null,
   "id": "ca4542d2",
   "metadata": {},
   "outputs": [],
   "source": [
    "df_sous_nutri[\"Valeur\"]=pd.to_numeric(df_sous_nutri[\"Valeur\"])*10**6\n",
    "df_sous_nutri[\"Valeur\"].head()"
   ]
  },
  {
   "cell_type": "code",
   "execution_count": null,
   "id": "3c618870",
   "metadata": {},
   "outputs": [],
   "source": [
    "df_sous_nutri.columns= [\"Pays\", \"Annee\", \"Valeur_sous_nutri\"]"
   ]
  },
  {
   "cell_type": "code",
   "execution_count": null,
   "id": "248587db",
   "metadata": {},
   "outputs": [],
   "source": [
    "df_sous_nutri[\"Annee\"].replace(\"2012-2014\",\"2013\", inplace=True)\n",
    "df_sous_nutri[\"Annee\"].replace(\"2013-2015\",\"2014\", inplace=True)\n",
    "df_sous_nutri[\"Annee\"].replace(\"2014-2016\",\"2015\", inplace=True)\n",
    "df_sous_nutri[\"Annee\"].replace(\"2015-2017\",\"2016\", inplace=True)\n",
    "df_sous_nutri[\"Annee\"].replace(\"2016-2018\",\"2017\", inplace=True)\n",
    "df_sous_nutri[\"Annee\"].replace(\"2017-2019\",\"2018\", inplace=True)"
   ]
  },
  {
   "cell_type": "code",
   "execution_count": null,
   "id": "9292fdaa",
   "metadata": {},
   "outputs": [],
   "source": [
    "df_sous_nutri.duplicated().sum()"
   ]
  },
  {
   "cell_type": "code",
   "execution_count": null,
   "id": "1a00ec8a",
   "metadata": {},
   "outputs": [],
   "source": [
    "#On a vu tout à l'heure qu'il y avait des nan, effectivement il y en a 594\n",
    "df_sous_nutri.isna().sum()"
   ]
  },
  {
   "cell_type": "code",
   "execution_count": null,
   "id": "2d12819f",
   "metadata": {},
   "outputs": [],
   "source": [
    "df_sous_nutri[\"Valeur_sous_nutri\"].fillna(0, inplace=True)\n",
    "df_sous_nutri.isna().sum()"
   ]
  },
  {
   "cell_type": "markdown",
   "id": "8e4e75de",
   "metadata": {},
   "source": [
    "<div style=\"border: 1px solid RGB(51,165,182);\" >\n",
    "<h3 style=\"margin: auto; padding: 10px; color: RGB(51,165,182); \">1.3- Fichier aide_alimentaire </h3>\n",
    "</div>"
   ]
  },
  {
   "cell_type": "code",
   "execution_count": null,
   "id": "2a08174c",
   "metadata": {},
   "outputs": [],
   "source": [
    "df_aide_ali.head()"
   ]
  },
  {
   "cell_type": "code",
   "execution_count": null,
   "id": "774caabc",
   "metadata": {},
   "outputs": [],
   "source": [
    "df_aide_ali.shape"
   ]
  },
  {
   "cell_type": "code",
   "execution_count": null,
   "id": "8bbf1e96",
   "metadata": {},
   "outputs": [],
   "source": [
    "df_aide_ali.dtypes"
   ]
  },
  {
   "cell_type": "code",
   "execution_count": null,
   "id": "3928eb3a",
   "metadata": {},
   "outputs": [],
   "source": [
    "df_aide_ali.columns=[\"Pays\", \"Annee\", \"Produit_aide\", \"Qte_produit_aide(tonne)\" ]\n",
    "df_aide_ali.head()"
   ]
  },
  {
   "cell_type": "code",
   "execution_count": null,
   "id": "e523d9fa",
   "metadata": {},
   "outputs": [],
   "source": [
    "df_aide_ali.duplicated().sum()"
   ]
  },
  {
   "cell_type": "code",
   "execution_count": null,
   "id": "15df58ae",
   "metadata": {},
   "outputs": [],
   "source": [
    "df_aide_ali.isna().sum()"
   ]
  },
  {
   "cell_type": "code",
   "execution_count": null,
   "id": "6700d954",
   "metadata": {},
   "outputs": [],
   "source": [
    "df_aide_ali.describe(include=\"all\")"
   ]
  },
  {
   "cell_type": "markdown",
   "id": "3af8600b",
   "metadata": {},
   "source": [
    "<div style=\"border: 1px solid RGB(51,165,182);\" >\n",
    "<h3 style=\"margin: auto; padding: 10px; color: RGB(51,165,182); \">1.4- Fichier Dispo_alimentaire </h3>\n",
    "</div>"
   ]
  },
  {
   "cell_type": "code",
   "execution_count": null,
   "id": "0a3d670a",
   "metadata": {},
   "outputs": [],
   "source": [
    "df_dispo_ali.head()"
   ]
  },
  {
   "cell_type": "code",
   "execution_count": null,
   "id": "5f61ba17",
   "metadata": {},
   "outputs": [],
   "source": [
    "df_dispo_ali.shape"
   ]
  },
  {
   "cell_type": "code",
   "execution_count": null,
   "id": "8f976c12",
   "metadata": {},
   "outputs": [],
   "source": [
    "df_dispo_ali.dtypes"
   ]
  },
  {
   "cell_type": "code",
   "execution_count": null,
   "id": "70b38130",
   "metadata": {},
   "outputs": [],
   "source": [
    "df_dispo_ali.columns = [\"Pays\", \"Produit\", \"Origine\", \"Aliment_animaux\", \"Autre_utilisation\", \"Dispo_alim(cal/personne/jour)\", \"Dispo_ali_qte(kg/personne/an)\", \"Dispo_matiere_grasse(g/personne/jour)\", \"Dispo_proteine(g/personne/jour)\", \"Dispo_interieure\", \"Exportations\", \"Importations\",  \"Nourriture\", \"Pertes\", \"Production\", \"Semences\", \"Traitement\", \"Variation_stock\"]"
   ]
  },
  {
   "cell_type": "code",
   "execution_count": null,
   "id": "053f48ef",
   "metadata": {},
   "outputs": [],
   "source": [
    "df_dispo_ali.Aliment_animaux=df_dispo_ali.Aliment_animaux*10**3\n",
    "df_dispo_ali.Autre_utilisation=df_dispo_ali.Autre_utilisation*10**3\n",
    "df_dispo_ali.Dispo_interieure=df_dispo_ali.Dispo_interieure*10**3\n",
    "df_dispo_ali.Exportations=df_dispo_ali.Exportations*10**3\n",
    "df_dispo_ali.Importations=df_dispo_ali.Importations*10**3\n",
    "df_dispo_ali.Nourriture=df_dispo_ali.Nourriture*10**3\n",
    "df_dispo_ali.Pertes=df_dispo_ali.Pertes*10**3\n",
    "df_dispo_ali.Production=df_dispo_ali.Production*10**3\n",
    "df_dispo_ali.Semences=df_dispo_ali.Semences*10**3\n",
    "df_dispo_ali.Traitement=df_dispo_ali.Traitement*10**3\n",
    "df_dispo_ali.Variation_stock=df_dispo_ali.Variation_stock*10**3"
   ]
  },
  {
   "cell_type": "code",
   "execution_count": null,
   "id": "3ca72b4e",
   "metadata": {},
   "outputs": [],
   "source": [
    "df_dispo_ali.duplicated().sum()"
   ]
  },
  {
   "cell_type": "code",
   "execution_count": null,
   "id": "7bc1aba2",
   "metadata": {},
   "outputs": [],
   "source": [
    "#mean pour changer un peu de sum(), bcp de données manquantes\n",
    "df_dispo_ali.isna().mean()"
   ]
  },
  {
   "cell_type": "code",
   "execution_count": null,
   "id": "cf0965a4",
   "metadata": {},
   "outputs": [],
   "source": [
    "df_dispo_ali.fillna(0, inplace=True)\n",
    "df_dispo_ali.isna().sum()"
   ]
  },
  {
   "cell_type": "code",
   "execution_count": null,
   "id": "84db15e4",
   "metadata": {},
   "outputs": [],
   "source": [
    "df_dispo_ali.describe(include=\"all\")"
   ]
  },
  {
   "cell_type": "markdown",
   "id": "c7de8cb4",
   "metadata": {},
   "source": [
    "<div style=\"background-color: RGB(51,165,182);\" >\n",
    "<h2 style=\"margin: auto; padding: 20px; color:#fff; \">Partie 3 - Analyse</h2>\n",
    "</div>"
   ]
  },
  {
   "cell_type": "markdown",
   "id": "5c99fef8",
   "metadata": {},
   "source": [
    "<div style=\"border: 1px solid RGB(51,165,182);\" >\n",
    "<h3 style=\"margin: auto; padding: 10px; color: RGB(51,165,182); \">3.1- Questions de Marc </h3>\n",
    "</div>\n"
   ]
  },
  {
   "cell_type": "markdown",
   "id": "765c53a0",
   "metadata": {},
   "source": [
    "### Question 1 : proportion de personnes en état de sous-nutrition "
   ]
  },
  {
   "cell_type": "code",
   "execution_count": null,
   "id": "63704f52",
   "metadata": {},
   "outputs": [],
   "source": [
    "#Merge entre fichier population et sous nutrition de 2017\n",
    "prop_sous_nutri = pd.merge(df_pop.loc[df_pop[\"Annee\"]== 2017, [\"Pays\", \"Nb_habitants\"]],\n",
    "                           df_sous_nutri.loc[df_sous_nutri[\"Annee\"]== \"2017\", [\"Pays\", \"Valeur_sous_nutri\"]],\n",
    "                           on=\"Pays\")\n",
    "prop_sous_nutri"
   ]
  },
  {
   "cell_type": "code",
   "execution_count": null,
   "id": "04014cf9",
   "metadata": {},
   "outputs": [],
   "source": [
    "# Pop mondiale de 2017 : \n",
    "total_pop2017 = df_pop.loc[df_pop['Annee'] == 2017,\"Nb_habitants\"].sum()\n",
    "print(\"La population mondiale en 2017 est de : \", str(total_pop2017))"
   ]
  },
  {
   "cell_type": "code",
   "execution_count": null,
   "id": "84288a52",
   "metadata": {},
   "outputs": [],
   "source": [
    "# Nb de personnes sous-nutries :\n",
    "pop_sous_nutri = prop_sous_nutri.Valeur_sous_nutri.sum() \n",
    "print(\"Il y a au total \" , str(pop_sous_nutri), \" personnes sous-nutries en 2017\")"
   ]
  },
  {
   "cell_type": "code",
   "execution_count": null,
   "id": "a10b98eb",
   "metadata": {},
   "outputs": [],
   "source": [
    "pop = [7548134111]\n",
    "x2 = [\"Population totale\"]\n",
    "x3 = [\"Population sous-nutrie\"]\n",
    "sous_nutrie = [535700000]\n",
    "\n",
    "plt.figure(figsize=(9,9))\n",
    "plt.bar(x2, pop,  width= 1, label=\"Total nombre de personnes\")\n",
    "plt.bar(x3, sous_nutrie, width= 1, label=\"Nombre de personne sous-nutries\")\n",
    "plt.title(\"Nombre de personnes en état de sous-nutrition en 2017\", pad=(20),\n",
    "          fontdict={'family': 'serif', \n",
    "                    'color' : 'black',\n",
    "                    'weight': 'bold',\n",
    "                    'size': 18});\n",
    "plt.ylabel(\"Nombre de personnes (milliards)\")\n",
    "plt.legend()\n",
    "\n",
    "# Annotating the bar plot with the values midle\n",
    "plt.annotate(pop[0], (0,pop[0]/2), ha=\"center\")\n",
    "plt.annotate(sous_nutrie[0], ( 1,sous_nutrie[0]/2),ha=\"center\")\n",
    "\n",
    "\n",
    "\n",
    "\n",
    "# TOUT EN HAUT DES BARS\n",
    "#plt.annotate(pop[0], (0,pop[0]+1), ha=\"center\")\n",
    "#plt.annotate(sous_nutrie[0], ( 1, sous_nutrie[0]+1),ha=\"center\")"
   ]
  },
  {
   "cell_type": "code",
   "execution_count": null,
   "id": "f322d5af",
   "metadata": {},
   "outputs": [],
   "source": [
    "# On veut connaître la proportion de personnes sous-nutries :\n",
    "prop_sous_nutri_mondiale = ((prop_sous_nutri.Valeur_sous_nutri.sum() * 100) / prop_sous_nutri.Nb_habitants.sum()) \n",
    "print(\"La proportion mondiale de personnes en sous nutrition est de \", \"{:.2f}\".format(round(prop_sous_nutri_mondiale,2)) ,\"%\")"
   ]
  },
  {
   "cell_type": "code",
   "execution_count": null,
   "id": "4f6598dc",
   "metadata": {},
   "outputs": [],
   "source": [
    "graph_popsousnutrie = [7548134111-535700000, 535700000]\n",
    "\n",
    "plt.figure(figsize=(9,9))\n",
    "plt.pie(graph_popsousnutrie, labels=[\"Population totale\",\"Population sous-nutrie\"],\n",
    "         normalize = True,\n",
    "       autopct =lambda x: str(round(x, 2)) + '%' )\n",
    "my_circle=plt.Circle( (0,0), 0.7, color='white')\n",
    "p=plt.gcf()\n",
    "p.gca().add_artist(my_circle)\n",
    "plt.title(\"Proportion de personnes en état de sous-nutrition en 2017\",\n",
    "          fontdict={'family': 'serif', \n",
    "                    'color' : 'black',\n",
    "                    'weight': 'bold',\n",
    "                    'size': 18})\n",
    "plt.legend()"
   ]
  },
  {
   "cell_type": "markdown",
   "id": "15d5416d",
   "metadata": {},
   "source": [
    "### Question 2 : nombre théorique de personnes qui pourraient être nourries "
   ]
  },
  {
   "cell_type": "code",
   "execution_count": null,
   "id": "191f27bb",
   "metadata": {},
   "outputs": [],
   "source": [
    "#Merge entre dispo_alimentaire et population\n",
    "pop_nourries = pd.merge(left= df_dispo_ali[[\"Pays\", \"Produit\", \"Origine\", \"Dispo_alim(cal/personne/jour)\"]], \\\n",
    "                       right= df_pop.loc[df_pop[\"Annee\"]==2017, [\"Pays\", \"Nb_habitants\"]], how=\"left\", on=\"Pays\")\n",
    "pop_nourries"
   ]
  },
  {
   "cell_type": "code",
   "execution_count": null,
   "id": "717a1ca7",
   "metadata": {},
   "outputs": [],
   "source": [
    "# On crée une nouvelle colonne ds le tableau avec comme résultat le nb de personne nourries par an en fct de la dispo ali de chaque pdt\n",
    "pop_nourries[\"dispo_total_annee\"]=pop_nourries[\"Dispo_alim(cal/personne/jour)\"] * 365 * pop_nourries[\"Nb_habitants\"]\n",
    "pop_nourries[\"dispo_total_annee\"]"
   ]
  },
  {
   "cell_type": "code",
   "execution_count": null,
   "id": "d0cff622",
   "metadata": {},
   "outputs": [],
   "source": [
    "# On veut savoir cmb de personnes on pourrait nourrir par an :\n",
    "dispo_mondiale= pop_nourries[\"dispo_total_annee\"].sum() / (2500*365)\n",
    "print(\"On peut nourrir \" , (round(dispo_mondiale,0)), \"personnes au niveau mondial\")"
   ]
  },
  {
   "cell_type": "code",
   "execution_count": null,
   "id": "9a6067df",
   "metadata": {},
   "outputs": [],
   "source": [
    "pop = [7548134111]\n",
    "x2 = [\"Population totale\"]\n",
    "x3 = [\"Population nourrie\"]\n",
    "pop_nourrie = [8367593851]\n",
    "\n",
    "plt.figure(figsize=(9,9))\n",
    "plt.bar(x2, pop,  width= 1, label=\"Total nombre de personnes\")\n",
    "plt.bar(x3, pop_nourrie, width= 1, label=\"Nombre de personnes nourries\", color=\"green\")\n",
    "plt.title(\"Nombre de personnes pouvant être nourries en 2017\", pad=(20),\n",
    "          fontdict={'family': 'serif', \n",
    "                    'color' : 'black',\n",
    "                    'weight': 'bold',\n",
    "                    'size': 18});\n",
    "plt.ylabel(\"Nombre de personnes (milliards)\")\n",
    "plt.legend()\n",
    "\n",
    "# Annotating the bar plot with the values midle\n",
    "plt.annotate(pop[0], (0,pop[0]/2), ha=\"center\")\n",
    "plt.annotate(pop_nourrie[0], ( 1,pop_nourrie[0]/2),ha=\"center\")\n"
   ]
  },
  {
   "cell_type": "code",
   "execution_count": null,
   "id": "5aa94403",
   "metadata": {},
   "outputs": [],
   "source": [
    "# Proportion:\n",
    "print(\"La proportion de personnes qui pourraient être nourries en 2017 est :\", round((dispo_mondiale*100)/total_pop2017,2),\"% de la population mondiale\")"
   ]
  },
  {
   "cell_type": "markdown",
   "id": "31316eb2",
   "metadata": {},
   "source": [
    "### Question 3 : nb théorique de personnes qui pourraient être nourries avec les pdts végétaux "
   ]
  },
  {
   "cell_type": "code",
   "execution_count": null,
   "id": "c2be913a",
   "metadata": {},
   "outputs": [],
   "source": [
    "# On avait déjà un merge où on avait mis la colonne origine pour anticiper cette question :\n",
    "dispo_alim_veg = pop_nourries.loc[pop_nourries[\"Origine\"]==\"vegetale\" ]\n",
    "dispo_alim_veg"
   ]
  },
  {
   "cell_type": "markdown",
   "id": "ad93f30c",
   "metadata": {},
   "source": [
    "On note qu'il y a bcp plus de pdts d'origine végétale que animale (76,23%)"
   ]
  },
  {
   "cell_type": "code",
   "execution_count": null,
   "id": "dee202c1",
   "metadata": {},
   "outputs": [],
   "source": [
    "# Cmb de personnes on pourrait nourrir avec des pdts végétaux :\n",
    "dispo_veg_mondiale=dispo_alim_veg[\"dispo_total_annee\"].sum() / (2500*365)\n",
    "print(\"On pourrait nourrir\", int(dispo_veg_mondiale), \"personnes avec des pdts d'origine végétale par an\")"
   ]
  },
  {
   "cell_type": "code",
   "execution_count": null,
   "id": "858c4c92",
   "metadata": {},
   "outputs": [],
   "source": [
    "pop = [7548134111]\n",
    "x2 = [\"Population totale\"]\n",
    "x3 = [\"Population nourrie (végétal)\"]\n",
    "pop_nourrie = [6904305684]\n",
    "\n",
    "plt.figure(figsize=(9,9))\n",
    "plt.bar(x2, pop,  width= 1, label=\"Total nombre de personnes\")\n",
    "plt.bar(x3, pop_nourrie, width= 1, label=\"Nombre de personnes nourries\", color=\"grey\")\n",
    "plt.title(\"Nombre de personnes pouvant être nourries avec du végétal en 2017\", pad=(20),\n",
    "          fontdict={'family': 'serif', \n",
    "                    'color' : 'black',\n",
    "                    'weight': 'bold',\n",
    "                    'size': 18});\n",
    "plt.ylabel(\"Nombre de personnes (milliards)\")\n",
    "plt.legend()\n",
    "\n",
    "# Annotating the bar plot with the values midle\n",
    "plt.annotate(pop[0], (0,pop[0]/2), ha=\"center\")\n",
    "plt.annotate(pop_nourrie[0], ( 1,pop_nourrie[0]/2),ha=\"center\")"
   ]
  },
  {
   "cell_type": "code",
   "execution_count": null,
   "id": "0ce6662b",
   "metadata": {},
   "outputs": [],
   "source": [
    "# Sa proportion :\n",
    "prop_dispo_veg_mondiale = (dispo_veg_mondiale*100)/total_pop2017\n",
    "print(\"La proportion de personne qui pourrait être nourrie avec des produits d'origine végétale en 2017 est : \", str(round(prop_dispo_veg_mondiale,2)),\"% de la population mondiale\")"
   ]
  },
  {
   "cell_type": "code",
   "execution_count": null,
   "id": "bc5954de",
   "metadata": {},
   "outputs": [],
   "source": [
    "graph_vegetaux = [7548134111-6904305684, 6904305684]\n",
    "\n",
    "\n",
    "plt.figure(figsize=(9,9))\n",
    "plt.pie(graph_vegetaux, labels=[\"Population restante\",\"Population nourrie (végétal)\"],colors=[\"grey\", \"skyblue\"], \n",
    "         normalize = True,\n",
    "       autopct =lambda x: str(round(x, 2)) + '%' )\n",
    "my_circle=plt.Circle( (0,0), 0.7, color='white')\n",
    "p=plt.gcf()\n",
    "p.gca().add_artist(my_circle)\n",
    "plt.title(\"Proportion de personnes pouvant être nourrie avec du végétal en 2017\",\n",
    "          fontdict={'family': 'serif', \n",
    "                    'color' : 'black',\n",
    "                    'weight': 'bold',\n",
    "                    'size': 18})\n",
    "plt.legend()\n",
    "\n",
    "\n"
   ]
  },
  {
   "cell_type": "markdown",
   "id": "9f1fbd3c",
   "metadata": {},
   "source": [
    "### Question 4 : l’utilisation de la disponibilité intérieure avec la part de l’alimentation animale, humaine et celle qui est perdue"
   ]
  },
  {
   "cell_type": "markdown",
   "id": "ed5ece08",
   "metadata": {},
   "source": [
    "**Disponibilité intérieure (quantités disponibles d'un aliment pour un pays) =** Production + importations - exportations + variations des stocks (baisse ou augmentation) \\\n",
    "source :http://www.fao.org/3/x9892f/x9892f03.htm"
   ]
  },
  {
   "cell_type": "code",
   "execution_count": null,
   "id": "0e531c37",
   "metadata": {},
   "outputs": [],
   "source": [
    "# Qté de disponibilité alimentaire mondiale en 2017 : \n",
    "dispo_interieur2017= df_dispo_ali[\"Dispo_interieure\"].sum()\n",
    "print(\"Pour l'année 2017, la dispo intérieure mondiale était de \" , str(dispo_interieur2017) , \" tonnes.\")"
   ]
  },
  {
   "cell_type": "code",
   "execution_count": null,
   "id": "9d4d4d27",
   "metadata": {},
   "outputs": [],
   "source": [
    "# Création d'une fonction pour calculer les pourcentages :\n",
    "def afficherPart(df, col, total):\n",
    "    part = (df[str(col)].sum()*100)/total\n",
    "    print(\"La part attribuée à :\" , str(col),\"est :\", round(part, 2) , \"%.\")\n",
    "\n",
    "# Puis boucle for pour les différentes variales demandées :\n",
    "variables = \"Aliment_animaux\", \"Nourriture\", \"Pertes\", \"Autre_utilisation\", \"Semences\", \"Traitement\" \n",
    "for i in variables :\n",
    "    afficherPart(df_dispo_ali,i,dispo_interieur2017)"
   ]
  },
  {
   "cell_type": "code",
   "execution_count": null,
   "id": "0b40a8a7",
   "metadata": {},
   "outputs": [],
   "source": [
    "x = [13.24, 49.51, 4.61, 8.78, 1.57, 22.38] \n",
    "\n",
    "\n",
    "plt.figure(figsize=(9,9))\n",
    "plt.pie(x, labels = ['Aliment_animaux', 'Nourriture', 'Pertes', 'Autre_utilisation', 'Semences', 'Traitement'],\\\n",
    "       normalize = True,\n",
    "       autopct = lambda x: str(round(x, 2)) + '%' )\n",
    "plt.title(\"Utilisation de la disponibilité intérieure 2017\",\n",
    "          fontdict={'family': 'serif', \n",
    "                    'color' : 'darkblue',\n",
    "                    'weight': 'bold',\n",
    "                    'size': 18})\n",
    "plt.legend()\n"
   ]
  },
  {
   "cell_type": "markdown",
   "id": "905f957d",
   "metadata": {},
   "source": [
    "### Question 5 : L'utilisation des céréales dans la répartition entre l'alimentation humaine et animale"
   ]
  },
  {
   "cell_type": "code",
   "execution_count": null,
   "id": "675cb3ba",
   "metadata": {
    "scrolled": true
   },
   "outputs": [],
   "source": [
    "df_dispo_ali.loc[df_dispo_ali[\"Origine\"]=='vegetale', 'Produit'].unique()"
   ]
  },
  {
   "cell_type": "code",
   "execution_count": null,
   "id": "ddc58fea",
   "metadata": {},
   "outputs": [],
   "source": [
    "liste_cereales[\"Produit\"].unique()"
   ]
  },
  {
   "cell_type": "code",
   "execution_count": null,
   "id": "ae719499",
   "metadata": {},
   "outputs": [],
   "source": [
    "liste_cereales = [\"Blé et produits\", \"Riz et produits\", \"Orge et produits\", \"Maïs et produits\", \"Seigle et produits\",\n",
    "                  \"Avoine\", \"Millet et produits\", \"Sorgho et produits\", \"Céréales, Autres\"]"
   ]
  },
  {
   "cell_type": "code",
   "execution_count": null,
   "id": "97fd8f21",
   "metadata": {},
   "outputs": [],
   "source": [
    "df_cereales = df_dispo_ali.loc[df_dispo_ali[\"Produit\"].isin(liste_cereales), :]"
   ]
  },
  {
   "cell_type": "code",
   "execution_count": null,
   "id": "95fabf2f",
   "metadata": {},
   "outputs": [],
   "source": [
    "df_cereales.shape"
   ]
  },
  {
   "cell_type": "code",
   "execution_count": null,
   "id": "910a4880",
   "metadata": {},
   "outputs": [],
   "source": [
    "# Calcul de la dispo intérieure total des céréales :\n",
    "dispo_int_cereales2017 = df_cereales[\"Dispo_interieure\"].sum()\n",
    "dispo_int_cereales2017"
   ]
  },
  {
   "cell_type": "code",
   "execution_count": null,
   "id": "babf4ba1",
   "metadata": {},
   "outputs": [],
   "source": [
    "# boucle for pour les différentes variales demandées :\n",
    "variables = \"Aliment_animaux\", \"Nourriture\", \"Pertes\", \"Autre_utilisation\", \"Semences\", \"Traitement\" \n",
    "for i in variables :\n",
    "    afficherPart(df_cereales,i,dispo_int_cereales2017)"
   ]
  },
  {
   "cell_type": "code",
   "execution_count": null,
   "id": "600d3437",
   "metadata": {},
   "outputs": [],
   "source": [
    "x = [69.34, 18.13, 2.55, 3.13, 7.25, 0.39] \n",
    "\n",
    "\n",
    "plt.figure(figsize=(10,9))\n",
    "plt.pie(x, labels = ['Aliment_animaux', 'Nourriture', 'Pertes', 'Autre_utilisation', 'Semences', 'Traitement'],\\\n",
    "       normalize = True,\n",
    "       autopct = lambda x: str(round(x, 2)) + '%' )\n",
    "plt.title(\"Utilisation de la disponibilité intérieure (céréales) 2017\",\n",
    "          fontdict={'family': 'serif', \n",
    "                    'color' : 'darkblue',\n",
    "                    'weight': 'bold',\n",
    "                    'size': 18})\n",
    "plt.legend(loc='upper right')"
   ]
  },
  {
   "cell_type": "markdown",
   "id": "dc4ace8d",
   "metadata": {},
   "source": [
    "### Question 6 : Utilisation du manioc par la Thaïlande aux égards de la proportion de personnes en sous-nutrition"
   ]
  },
  {
   "cell_type": "code",
   "execution_count": null,
   "id": "09da1e31",
   "metadata": {},
   "outputs": [],
   "source": [
    "#Sélectionne le manioc au niveau mondial\n",
    "manioc_mondial = pop_nourries.loc[(pop_nourries[\"Produit\"]==\"Manioc\")]\n",
    "manioc_mondial"
   ]
  },
  {
   "cell_type": "code",
   "execution_count": null,
   "id": "8ff04c80",
   "metadata": {},
   "outputs": [],
   "source": [
    "dispo_manioc_mondial = manioc_mondial[\"dispo_total_annee\"].sum() / (2500*365)\n",
    "print(\"On pourrait nourrir avec le manioc \", int(dispo_manioc_mondial), \" personnes par an.\")"
   ]
  },
  {
   "cell_type": "code",
   "execution_count": null,
   "id": "7c4960b3",
   "metadata": {},
   "outputs": [],
   "source": [
    "prop_dispo_manioc_mondial = (dispo_manioc_mondial*100)/total_pop2017\n",
    "round(prop_dispo_manioc_mondial,2)"
   ]
  },
  {
   "cell_type": "code",
   "execution_count": null,
   "id": "3a9c9818",
   "metadata": {},
   "outputs": [],
   "source": [
    "#Voir le manioc pour la Thaïlande\n",
    "thailande_manioc = df_dispo_ali.loc[(df_dispo_ali[\"Produit\"]==\"Manioc\") & (df_dispo_ali[\"Pays\"]==\"Thaïlande\")]\n",
    "thailande_manioc"
   ]
  },
  {
   "cell_type": "markdown",
   "id": "ef4eafae",
   "metadata": {},
   "source": [
    "On voit que le manioc représente 40cal par jour par personne, ce qui n'est pas négligeable. Le pays en pdt 30 millions de tonnes, en exporte 25 millions. Seulement 871k tonnes sont consacrées à la nourriture humaine. "
   ]
  },
  {
   "cell_type": "code",
   "execution_count": null,
   "id": "3d9b3bfe",
   "metadata": {},
   "outputs": [],
   "source": [
    "# Ajout colonne proportion pour voir le tx de sous_nutri par pays ds notre ancien merge (fichier pop et sous nut) :\n",
    "prop_sous_nutri[\"proportion\"] = (prop_sous_nutri[\"Valeur_sous_nutri\"] *100) / prop_sous_nutri[\"Nb_habitants\"]\n",
    "prop_sous_nutri"
   ]
  },
  {
   "cell_type": "code",
   "execution_count": null,
   "id": "0f3b2300",
   "metadata": {},
   "outputs": [],
   "source": [
    "# % et pop sous_nutrie de la thailande \n",
    "Thailande_sous_nutri=prop_sous_nutri.loc[prop_sous_nutri[\"Pays\"]==\"Thaïlande\", :]\n",
    "Thailande_sous_nutri"
   ]
  },
  {
   "cell_type": "markdown",
   "id": "7a401778",
   "metadata": {},
   "source": [
    "En thaïlande, plus de 6 millions d'habitants, soit 9% sont en état de sous_nutrition. Pourtant, le pays exporte plus de 25 millions de tonnes de manioc chaque année."
   ]
  },
  {
   "cell_type": "code",
   "execution_count": null,
   "id": "4fc5c1af",
   "metadata": {},
   "outputs": [],
   "source": [
    "#Calcul du tx d'exportation du manioc\n",
    "exportation_manioc =(thailande_manioc[\"Exportations\"] * 100) / thailande_manioc[\"Production\"]\n",
    "print('Proportion de manioc exporté :', \"{:.2f}\".format(thailande_manioc['Exportations'].iloc[0]*100 / thailande_manioc['Production'].iloc[0]), \"%\")"
   ]
  },
  {
   "cell_type": "markdown",
   "id": "6af7a7d9",
   "metadata": {},
   "source": [
    "Le manioc a une grande valeur calorique/nutritive (40cal/j/p) ce qui permettrait d'éviter cette sous-nutrition. Pourquoi la thaïlande en exporte t-elle autant ? Ne pourrait elle pas les garder pour sa propre population ? Qu'en est il des 1.5 millions de perte, peut-on les limiter ? "
   ]
  },
  {
   "cell_type": "markdown",
   "id": "5b0ff4d5",
   "metadata": {},
   "source": [
    "<div style=\"border: 1px solid RGB(51,165,182);\" >\n",
    "<h3 style=\"margin: auto; padding: 10px; color: RGB(51,165,182); \">3.1- Questions de Mélanie </h3>\n",
    "</div>\n"
   ]
  },
  {
   "cell_type": "markdown",
   "id": "ad35ef98",
   "metadata": {},
   "source": [
    "### Question 1 : liste des pays en 2017 où la proportion des pays sous-nutri est la plus élevé"
   ]
  },
  {
   "cell_type": "code",
   "execution_count": null,
   "id": "038650fe",
   "metadata": {},
   "outputs": [],
   "source": [
    "liste_pays_sous_nutris =prop_sous_nutri.sort_values(by = \"proportion\", ascending=False).head(10)\n",
    "liste_pays_sous_nutris"
   ]
  },
  {
   "cell_type": "code",
   "execution_count": null,
   "id": "8bda60ed",
   "metadata": {},
   "outputs": [],
   "source": [
    "df1=pd.DataFrame ({\n",
    "                \"Group\":[\"Afghanistan\",\"Timor-Leste\",\"Mozambique\",\"Rwanda\",\"Tchad\",\"Lesotho\",\"Libéria\",\"Madagascar\",\"RD de Corée\",\"Haïti\"],\n",
    "                \"Valeurs\": [28.93, 32.17, 32.81, 35.05, 37.96, 38.25, 38.28, 41.06, 47.19, 48.26]\n",
    "})\n",
    "\n",
    "plt.figure(figsize=(10,7))\n",
    "plt.bar(df1[\"Group\"], df1[\"Valeurs\"], width= 0.7, color=\"green\")\n",
    "plt.title(\"Liste des 10 pays où la sous_nutrition est la plus élevée en 2017\",\n",
    "                     fontdict={'family': 'serif', \n",
    "                    'color' : 'black',\n",
    "                    'weight': 'bold',\n",
    "                    'size': 16});\n",
    "plt.ylabel('Proportion sous-nutrition (%)')\n",
    "plt.xticks(rotation=45)\n",
    "plt.grid(False)\n",
    "i = 0\n",
    "j = 1\n",
    "# Annotating the bar plot with the values (proportion sous-nut)\n",
    "for i in range(len(df1.Group)):\n",
    "    plt.annotate(df1.Valeurs[i], (-0.1 + i, df1.Valeurs[i] + j), ha=\"center\")\n",
    "    \n",
    "plt.savefig(\"Liste des 10 pays les plus sous-nutris\")"
   ]
  },
  {
   "cell_type": "markdown",
   "id": "4ba4439d",
   "metadata": {},
   "source": [
    "### Question 2 : liste des pays qui ont le plus bénéficié d'aide depuis 2013"
   ]
  },
  {
   "cell_type": "code",
   "execution_count": null,
   "id": "42d93e4d",
   "metadata": {},
   "outputs": [],
   "source": [
    "liste_pays_aide = df_aide_ali.groupby([\"Pays\"]).sum().sort_values(by=\"Qte_produit_aide(tonne)\", ascending=False).head(10)\n",
    "liste_pays_aide"
   ]
  },
  {
   "cell_type": "code",
   "execution_count": null,
   "id": "eb5a0560",
   "metadata": {},
   "outputs": [],
   "source": [
    "df2=pd.DataFrame ({\n",
    "                \"Group\":[\"R Arabe syrienne\",\"Ethiopie\",\"Yémen\",\"Soudan du Sud\",\"Soudan\",\"Kenya\",\"Bangladesh\",\"Somalie\",\"RD du Congo\",\"Niger\"],\n",
    "                \"Valeurs\": [1858943, 1381294, 1206484, 695248, 669784, 552836, 348188, 292678, 288502, 276344]\n",
    "})\n",
    "\n",
    "plt.figure(figsize=(10,7))\n",
    "plt.bar(df2.Group, df2.Valeurs, width= 0.7)\n",
    "plt.title(\"Liste des 10 pays qui ont le plus bénéficié d'aides depuis 2013\",pad=(20),\n",
    "                     fontdict={'family': 'serif', \n",
    "                    'color' : 'darkblue',\n",
    "                    'weight': 'bold',\n",
    "                    'size': 16});\n",
    "plt.ylabel('Quantité de produits données (tonnes)')\n",
    "plt.xticks(rotation=45)\n",
    "plt.ylim([0, 2000000])\n",
    "i = 0\n",
    "j = 1\n",
    "# Annotating the bar plot with the values (qte pdts donnees)\n",
    "for i in range(len(df2.Group)):\n",
    "    plt.annotate(df2.Valeurs[i], (-0.1 + i, df2.Valeurs[i] + j), ha=\"center\")\n",
    "    \n",
    "plt.savefig(\"Liste des 10 pays qui ont le plus bénéficié d'aides\")"
   ]
  },
  {
   "cell_type": "markdown",
   "id": "c0c38e55",
   "metadata": {},
   "source": [
    "Liste des pays qui ont le plus bénéficié d'aides depuis 2013\n",
    "On voit que sur ces 10 aucun des pays qui ont reçu le plus d'aide depuis 2013 ne font partie des pays qui sont les plus dénutris. Mais ils ont des contextes géo-politique plutôt complexes (guerres?)"
   ]
  },
  {
   "cell_type": "code",
   "execution_count": null,
   "id": "a8870a09",
   "metadata": {},
   "outputs": [],
   "source": [
    "liste_pays_aide_moins = df_aide_ali.groupby([\"Pays\"]).sum().sort_values(by=\"Qte_produit_aide(tonne)\", ascending=True).head(10)\n",
    "liste_pays_aide_moins"
   ]
  },
  {
   "cell_type": "code",
   "execution_count": null,
   "id": "b45ef672",
   "metadata": {},
   "outputs": [],
   "source": [
    "df3=pd.DataFrame ({\n",
    "                \"Group\":[\"Bolivie\",\"Géorgie\",\"Timor-Leste\",\"Vanuatu\",\"Egypte\",\"Chine\",\"Equateur\",\"Sao Tomé-&-principe\",\"Tadjikistan\",\"Bhoutan\"],\n",
    "                \"Valeurs\": [6, 70, 116, 802, 1122, 1298, 1362, 1826, 2028, 2666]\n",
    "})\n",
    "\n",
    "\n",
    "plt.figure(figsize=(10,7))\n",
    "plt.bar(df3.Group, df3.Valeurs, width= 0.7)\n",
    "plt.title(\"Liste des 10 pays qui ont le moins bénéficié d'aides depuis 2013\",\n",
    "                     fontdict={'family': 'serif', \n",
    "                    'color' : 'darkblue',\n",
    "                    'weight': 'bold',\n",
    "                    'size': 16});\n",
    "plt.ylabel('Quantité de produits données (tonnes)')\n",
    "plt.xticks(rotation=45)\n",
    "plt.ylim([0, 3000])\n",
    "i = 1\n",
    "j = 0\n",
    "# Annotating the bar plot with the values (qte pdts donnees)\n",
    "for i in range(len(df3.Group)):\n",
    "    plt.annotate(df3.Valeurs[i], (-0.1 + i, df3.Valeurs[i] + j), ha=\"center\")\n",
    "    \n",
    "plt.savefig(\"Liste des 10 pays qui ont le moins bénéficié d'aides\")"
   ]
  },
  {
   "cell_type": "markdown",
   "id": "8965c8f9",
   "metadata": {},
   "source": [
    "Si on prends les deux valeurs les plus hautes de qte de pdt données pour les tableaux : 1858943/2666=697.28\n",
    "\n",
    "On peut presque dire que les pays avec le moinds d'aide, on eu 700 fois moins d'aide que ceux qui en ont eu le plus. "
   ]
  },
  {
   "cell_type": "markdown",
   "id": "d3e1d299",
   "metadata": {},
   "source": [
    "### Question 3 : Liste des pays ayant le plus et le moins de dispo alimentaire depuis 2013"
   ]
  },
  {
   "cell_type": "code",
   "execution_count": null,
   "id": "b189dbf3",
   "metadata": {},
   "outputs": [],
   "source": [
    "dispo_totale_plus= df_dispo_ali[['Pays','Produit','Dispo_alim(cal/personne/jour)']].groupby([\"Pays\"]).sum()\n",
    "dispo_totale_plus.sort_values(by='Dispo_alim(cal/personne/jour)',ascending=False).head(10)"
   ]
  },
  {
   "cell_type": "code",
   "execution_count": null,
   "id": "60595f7b",
   "metadata": {},
   "outputs": [],
   "source": [
    "df4=pd.DataFrame = ({\n",
    "        \"Group\":[\"Autriche\",\"Belgique\",\"Turquie\",\"E.U\",\"Israël\",\"Irlande\",\"Italie\",\"Luxembourg\",\"Egypte\",\"Allemagne\"],\n",
    "        \"Valeurs\": [3770, 3737, 3708, 3682, 3610, 3602, 3578, 3540, 3518, 3503]\n",
    "})\n",
    "                    \n",
    "plt.figure(figsize=(11,6))\n",
    "plt.barh( df4[\"Group\"], df4[\"Valeurs\"], height=0.7, color=\"maroon\")\n",
    "plt.title(\"Liste des 10 pays qui ont le plus de dispo alimentaire depuis 2013\",\n",
    "                     fontdict={'family': 'serif', \n",
    "                    'color' : 'black',\n",
    "                    'weight': 'bold',\n",
    "                    'size': 16});\n",
    "plt.xlabel('Dispo alimentaire (cal/jour/personne)')\n",
    "plt.xlim([0, 4000])\n",
    "    \n",
    "plt.savefig(\"Liste des 10 pays qui ont le plus de dispo alimentaire depuis 2013\")"
   ]
  },
  {
   "cell_type": "code",
   "execution_count": null,
   "id": "c83882eb",
   "metadata": {},
   "outputs": [],
   "source": [
    "dispo_totale_moins= df_dispo_ali[['Pays','Produit','Dispo_alim(cal/personne/jour)']].groupby([\"Pays\"]).sum()\n",
    "dispo_totale_moins.sort_values(by='Dispo_alim(cal/personne/jour)',ascending=True).head(10)"
   ]
  },
  {
   "cell_type": "code",
   "execution_count": null,
   "id": "ca2ed513",
   "metadata": {},
   "outputs": [],
   "source": [
    "df5=pd.DataFrame = ({\n",
    "        \"Group\":[\"R centrafricaine\",\"Zambie\",\"Madagascar\",\"Afghanistan\",\"Haïti\",\"RPD de Corée\",\"Tchad\",\"Zimbabwe\",\"Ouganda\",\"Timor-Leste\"],\n",
    "        \"Valeurs\": [1879, 1924, 2056, 2087, 2089, 2093, 2109, 2113, 2126, 2129]\n",
    "})\n",
    "                    \n",
    "plt.figure(figsize=(11,6))\n",
    "plt.barh( df5[\"Group\"], df5[\"Valeurs\"], height=0.7, color=\"maroon\")\n",
    "plt.title(\"Liste des 10 pays qui ont le moins de dispo alimentaire depuis 2013\",\n",
    "                     fontdict={'family': 'serif', \n",
    "                    'color' : 'black',\n",
    "                    'weight': 'bold',\n",
    "                    'size': 16});\n",
    "plt.xlabel('Dispo alimentaire (cal/jour/personne)')\n",
    "plt.xlim([0, 4000])\n",
    "    \n",
    "plt.savefig(\"Liste des 10 pays qui ont le moins de dispo alimentaire depuis 2013\")"
   ]
  },
  {
   "cell_type": "markdown",
   "id": "d9c00ba5",
   "metadata": {},
   "source": [
    "<div style=\"background-color: RGB(51,165,182);\" >\n",
    "<h2 style=\"margin: auto; padding: 20px; color:#fff; \">Partie 4 - Conclusion</h2>\n",
    "</div>"
   ]
  },
  {
   "cell_type": "markdown",
   "id": "44e3c204",
   "metadata": {},
   "source": [
    "La liste des 10 pays les plus sous nutris ne font pas partie de ceux qui ont eu le plus d’aide, \n",
    "\n",
    "Ceux qui ont eu le moins d’aide ne font pas partie de ceux qui sont sous nutris\n",
    "\n",
    "Ceux qui ont eu le plus d’aide semble être des pays en guerre, contexte géo politiques compliqués\n",
    "\n",
    "Ceux qui ont eu le plus de dispo alimentaire sont des pays développés\n",
    "Et inversement ceux qui ont eu le moins sont des pays pauvres, on peut voir sur le graffique qu'il y a une différence de presque 50% entre ceux qui ont le plus et le moins d’aides\n",
    "\n",
    "Timor-lesthe fait partie des pays les plus sous_nutris, qui ont le moins bénéficié d’aide et de ceux qui ont le moins de dispo alimentaire \n",
    "Haïti fait partie des pays les plus sous nutris et de ceux qui ont le moins de dispo alimentaire\n",
    "\n",
    "D'ailleurs les pays suivants : Corée, Madagascar, Tchad, Timor-Leste, Afghanistan font parties de ceux qui sont le plus sous-nutries\n",
    "\n",
    "Le pays de Timor-Leste fait pourtant partie des pays qui ont le moins bénéficié d'aides"
   ]
  },
  {
   "cell_type": "markdown",
   "id": "44022501",
   "metadata": {},
   "source": [
    "Axe d'amélioration : \n",
    "- Chercher le nombre théorique de personne pouvant être nourries et sa proportion pour chaque catégorie de produit\n",
    "- Voir quels sont les produits les plus disponibles, les plus exportés, importés, ceux qui sont le plus nourrissants etc... \n",
    "- Voir dans les années passées les pays les plus et les moins aidés, ceux qui ont le plus et le moins de dispo alim par habitants et ceux qui étaient les plus sous-nutries pour voir l'évolution en fonction de 2017. (p-e que ceux qui ont eu le plus d'aide et qui ne sont plus considérés comme les plus sous-nutries ont pu bénéficiés avant d'aides alimentaire conséquentes."
   ]
  },
  {
   "cell_type": "code",
   "execution_count": null,
   "id": "83e28e6d",
   "metadata": {},
   "outputs": [],
   "source": []
  }
 ],
 "metadata": {
  "kernelspec": {
   "display_name": "Python 3 (ipykernel)",
   "language": "python",
   "name": "python3"
  },
  "language_info": {
   "codemirror_mode": {
    "name": "ipython",
    "version": 3
   },
   "file_extension": ".py",
   "mimetype": "text/x-python",
   "name": "python",
   "nbconvert_exporter": "python",
   "pygments_lexer": "ipython3",
   "version": "3.9.12"
  }
 },
 "nbformat": 4,
 "nbformat_minor": 5
}
