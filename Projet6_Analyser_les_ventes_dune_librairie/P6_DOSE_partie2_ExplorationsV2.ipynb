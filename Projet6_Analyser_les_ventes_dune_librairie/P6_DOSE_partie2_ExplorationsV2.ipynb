{
 "cells": [
  {
   "cell_type": "markdown",
   "id": "3881fe1b",
   "metadata": {},
   "source": [
    "<div style=\"display: flex; text-align:center; background-color: rgb(153,102,153);\" >\n",
    "<h1 style=\"margin: auto; padding: 30px; \">Analysez les ventes d'une librairie avec Python <br>\n",
    "</h1>\n",
    "</div>"
   ]
  },
  {
   "cell_type": "markdown",
   "id": "b134d7b5",
   "metadata": {},
   "source": [
    "<div style=\"display: flex; text-align:center; background-color: rgb(153,102,153);\" >\n",
    "<h1 style=\"margin: auto; padding: 30px; \">Partie 2 - Exploration / Analyse <br>\n",
    "</h1>\n",
    "</div>"
   ]
  },
  {
   "cell_type": "code",
   "execution_count": 1,
   "id": "c9eb479b",
   "metadata": {},
   "outputs": [],
   "source": [
    "import pandas as pd\n",
    "import numpy as np\n",
    "import matplotlib.pyplot as plt\n",
    "import seaborn as sns\n",
    "import datetime as datetime\n",
    "import scipy as scipy\n",
    "import scipy.stats as st"
   ]
  },
  {
   "cell_type": "code",
   "execution_count": 2,
   "id": "56811c4f",
   "metadata": {},
   "outputs": [],
   "source": [
    "rapport = pd.read_csv('rapport.csv')"
   ]
  },
  {
   "cell_type": "code",
   "execution_count": 3,
   "id": "899f288c",
   "metadata": {},
   "outputs": [
    {
     "data": {
      "text/html": [
       "<div>\n",
       "<style scoped>\n",
       "    .dataframe tbody tr th:only-of-type {\n",
       "        vertical-align: middle;\n",
       "    }\n",
       "\n",
       "    .dataframe tbody tr th {\n",
       "        vertical-align: top;\n",
       "    }\n",
       "\n",
       "    .dataframe thead th {\n",
       "        text-align: right;\n",
       "    }\n",
       "</style>\n",
       "<table border=\"1\" class=\"dataframe\">\n",
       "  <thead>\n",
       "    <tr style=\"text-align: right;\">\n",
       "      <th></th>\n",
       "      <th>id_prod</th>\n",
       "      <th>date</th>\n",
       "      <th>session_id</th>\n",
       "      <th>client_id</th>\n",
       "      <th>sex</th>\n",
       "      <th>birth</th>\n",
       "      <th>price</th>\n",
       "      <th>categ</th>\n",
       "      <th>transac_year</th>\n",
       "      <th>weekday</th>\n",
       "      <th>month</th>\n",
       "      <th>age</th>\n",
       "      <th>intervalle_age</th>\n",
       "    </tr>\n",
       "  </thead>\n",
       "  <tbody>\n",
       "    <tr>\n",
       "      <th>0</th>\n",
       "      <td>0_1518</td>\n",
       "      <td>2022-05-20 13:21:29.043970</td>\n",
       "      <td>s_211425</td>\n",
       "      <td>c_103</td>\n",
       "      <td>f</td>\n",
       "      <td>1986</td>\n",
       "      <td>4.18</td>\n",
       "      <td>0</td>\n",
       "      <td>2022</td>\n",
       "      <td>Friday</td>\n",
       "      <td>5</td>\n",
       "      <td>36</td>\n",
       "      <td>[30, 50)</td>\n",
       "    </tr>\n",
       "    <tr>\n",
       "      <th>1</th>\n",
       "      <td>0_1518</td>\n",
       "      <td>2021-07-20 13:21:29.043970</td>\n",
       "      <td>s_64849</td>\n",
       "      <td>c_103</td>\n",
       "      <td>f</td>\n",
       "      <td>1986</td>\n",
       "      <td>4.18</td>\n",
       "      <td>0</td>\n",
       "      <td>2021</td>\n",
       "      <td>Tuesday</td>\n",
       "      <td>7</td>\n",
       "      <td>35</td>\n",
       "      <td>[30, 50)</td>\n",
       "    </tr>\n",
       "    <tr>\n",
       "      <th>2</th>\n",
       "      <td>0_1518</td>\n",
       "      <td>2022-08-20 13:21:29.043970</td>\n",
       "      <td>s_255965</td>\n",
       "      <td>c_103</td>\n",
       "      <td>f</td>\n",
       "      <td>1986</td>\n",
       "      <td>4.18</td>\n",
       "      <td>0</td>\n",
       "      <td>2022</td>\n",
       "      <td>Saturday</td>\n",
       "      <td>8</td>\n",
       "      <td>36</td>\n",
       "      <td>[30, 50)</td>\n",
       "    </tr>\n",
       "    <tr>\n",
       "      <th>3</th>\n",
       "      <td>0_1518</td>\n",
       "      <td>2021-05-09 11:52:55.100386</td>\n",
       "      <td>s_32104</td>\n",
       "      <td>c_6714</td>\n",
       "      <td>f</td>\n",
       "      <td>1968</td>\n",
       "      <td>4.18</td>\n",
       "      <td>0</td>\n",
       "      <td>2021</td>\n",
       "      <td>Sunday</td>\n",
       "      <td>5</td>\n",
       "      <td>53</td>\n",
       "      <td>[50, 70)</td>\n",
       "    </tr>\n",
       "    <tr>\n",
       "      <th>4</th>\n",
       "      <td>0_1518</td>\n",
       "      <td>2022-05-30 01:17:07.487046</td>\n",
       "      <td>s_216118</td>\n",
       "      <td>c_6714</td>\n",
       "      <td>f</td>\n",
       "      <td>1968</td>\n",
       "      <td>4.18</td>\n",
       "      <td>0</td>\n",
       "      <td>2022</td>\n",
       "      <td>Monday</td>\n",
       "      <td>5</td>\n",
       "      <td>54</td>\n",
       "      <td>[50, 70)</td>\n",
       "    </tr>\n",
       "  </tbody>\n",
       "</table>\n",
       "</div>"
      ],
      "text/plain": [
       "  id_prod                        date session_id client_id sex  birth  price  \\\n",
       "0  0_1518  2022-05-20 13:21:29.043970   s_211425     c_103   f   1986   4.18   \n",
       "1  0_1518  2021-07-20 13:21:29.043970    s_64849     c_103   f   1986   4.18   \n",
       "2  0_1518  2022-08-20 13:21:29.043970   s_255965     c_103   f   1986   4.18   \n",
       "3  0_1518  2021-05-09 11:52:55.100386    s_32104    c_6714   f   1968   4.18   \n",
       "4  0_1518  2022-05-30 01:17:07.487046   s_216118    c_6714   f   1968   4.18   \n",
       "\n",
       "   categ  transac_year   weekday  month  age intervalle_age  \n",
       "0      0          2022    Friday      5   36       [30, 50)  \n",
       "1      0          2021   Tuesday      7   35       [30, 50)  \n",
       "2      0          2022  Saturday      8   36       [30, 50)  \n",
       "3      0          2021    Sunday      5   53       [50, 70)  \n",
       "4      0          2022    Monday      5   54       [50, 70)  "
      ]
     },
     "execution_count": 3,
     "metadata": {},
     "output_type": "execute_result"
    }
   ],
   "source": [
    "rapport.head()"
   ]
  },
  {
   "cell_type": "code",
   "execution_count": 4,
   "id": "21cccc25",
   "metadata": {},
   "outputs": [
    {
     "name": "stdout",
     "output_type": "stream",
     "text": [
      "(679332, 13)\n",
      "id_prod            object\n",
      "date               object\n",
      "session_id         object\n",
      "client_id          object\n",
      "sex                object\n",
      "birth               int64\n",
      "price             float64\n",
      "categ               int64\n",
      "transac_year        int64\n",
      "weekday            object\n",
      "month               int64\n",
      "age                 int64\n",
      "intervalle_age     object\n",
      "dtype: object\n"
     ]
    }
   ],
   "source": [
    "print(rapport.shape)\n",
    "print(rapport.dtypes)"
   ]
  },
  {
   "cell_type": "markdown",
   "id": "efb35afb",
   "metadata": {},
   "source": [
    "<div style=\"background-color: RGB(51,165,182);\" >\n",
    "<h2 style=\"margin: auto; padding: 20px; color:#fff; \">1 - Fonctions</h2>\n",
    "</div>"
   ]
  },
  {
   "cell_type": "markdown",
   "id": "ff5e017a",
   "metadata": {},
   "source": [
    "## Fonction statistique descriptive sur variable quanti améliorée (stats1) et simple (stats2)"
   ]
  },
  {
   "cell_type": "code",
   "execution_count": 5,
   "id": "22ab4c49",
   "metadata": {},
   "outputs": [],
   "source": [
    "# On aurait pu tout aussi bien utiliser describe() mais idéal pour s'entrainer sur les fcts\n",
    "def stats1(df, col):\n",
    "    print(\"+---------------------------------------------------------------------------------------------------------------------+\")\n",
    "    print(\"|                                  Analyse Univariée de la variable: \", str(col), \"                                          |\")\n",
    "    print(\"+--------+--------+--------+--------+--------+--------+--------+--------+--------+--------+---------+--------+--------+\")\n",
    "    print(\"|        |Observat|Mode    |Moyenne |Ecart-ty|  Min   |  Q1    | Median |  Q3    |  Max   |Variance |  Skw   |  Kur   |\")\n",
    "    print(\"+--------+--------+--------+--------+--------+--------+--------+--------+--------+--------+---------+--------+--------+\")\n",
    "    print(\"|Global  |{:8,d}|{:8,.2f}|{:8,.2f}|{:8,.2f}|{:8,.2f}|{:8,.2f}|{:8,.2f}|{:8,.2f}|{:8,.2f}|{:8,.2f} |{:8,.2f}|{:8,.2f}|\"      \n",
    "    .format( rapport[\"price\"].count(),\n",
    "               round(df[str(col)].mode()[0],2),\n",
    "               round(df[str(col)].mean(),2),\n",
    "               round(df[str(col)].std(ddof=0),2),\n",
    "               round(df[str(col)].min(),2),\n",
    "               round(df[str(col)].quantile(.25),2),\n",
    "               round(df[str(col)].quantile(.50),2),\n",
    "               round(df[str(col)].quantile(.75),2),\n",
    "               round(df[str(col)].max(),2),\n",
    "               round(df[str(col)].var(ddof=0),2),\n",
    "               round(df[str(col)].skew(),2), # coef d'applatissement\n",
    "               round(df[str(col)].kurtosis(),2),\n",
    "            ).replace(\",\", \" \"),\n",
    "         ),\n",
    "    print(),\n",
    "    print('Méthode intercartile :'),    #rajout pour le sous-échantillon (les 3 categ)\n",
    "    borne_inferieure = round((np.percentile(subset['price'],25)) - 1.5 * (np.percentile(subset['price'],75) - np.percentile(subset['price'],25)),2),\n",
    "    borne_superieure = round((np.percentile(subset['price'],75)) + 1.5 * (np.percentile(subset['price'],75) - np.percentile(subset['price'],25)),2),\n",
    "    print(\"Borne supérieure: \", str(borne_superieure)),\n",
    "    print(\"Borne inférieure: \", str(borne_inferieure)),\n",
    "    print(),\n",
    "    print(\"Potentiels outliers avant borne inférieure: \",len(subset[subset['price'] < borne_inferieure])),\n",
    "    print(\"Potentiels outliers après borne supérieure: \", len(subset[subset['price'] > borne_superieure])),\n",
    "    print()    \n",
    "        \n"
   ]
  },
  {
   "cell_type": "code",
   "execution_count": 6,
   "id": "10e1de8f",
   "metadata": {},
   "outputs": [],
   "source": [
    "def stats2(df, col):\n",
    "    print(\"+---------------------------------------------------------------------------------------------------------------------+\")\n",
    "    print(\"|                                  Analyse Univariée de la variable: \", str(col), \"                                          |\")\n",
    "    print(\"+--------+--------+--------+--------+--------+--------+--------+--------+--------+--------+---------+--------+--------+\")\n",
    "    print(\"|        |Observat|Mode    |Moyenne |Ecart-ty|  Min   |  Q1    | Median |  Q3    |  Max   |Variance |  Skw   |  Kur   |\")\n",
    "    print(\"+--------+--------+--------+--------+--------+--------+--------+--------+--------+--------+---------+--------+--------+\")\n",
    "    print(\"|Global  |{:8,d}|{:8,.2f}|{:8,.2f}|{:8,.2f}|{:8,.2f}|{:8,.2f}|{:8,.2f}|{:8,.2f}|{:8,.2f}|{:8,.2f} |{:8,.2f}|{:8,.2f}|\"      \n",
    "    .format( rapport[\"price\"].count(),\n",
    "               round(df[str(col)].mode()[0],2),\n",
    "               round(df[str(col)].mean(),2),\n",
    "               round(df[str(col)].std(ddof=0),2),\n",
    "               round(df[str(col)].min(),2),\n",
    "               round(df[str(col)].quantile(.25),2),\n",
    "               round(df[str(col)].quantile(.50),2),\n",
    "               round(df[str(col)].quantile(.75),2),\n",
    "               round(df[str(col)].max(),2),\n",
    "               round(df[str(col)].var(ddof=0),2),\n",
    "               round(df[str(col)].skew(),2), # coef d'applatissement\n",
    "               round(df[str(col)].kurtosis(),2),\n",
    "            ).replace(\",\", \" \"),\n",
    "         )"
   ]
  },
  {
   "cell_type": "markdown",
   "id": "aa249d02",
   "metadata": {},
   "source": [
    "## Fonction pour la courbe de Lorenz et l'indice de Gini"
   ]
  },
  {
   "cell_type": "code",
   "execution_count": 68,
   "id": "07997c38",
   "metadata": {},
   "outputs": [],
   "source": [
    "def Lorenz_gini(df):\n",
    "    new = rapport[[\"client_id\",\"price\"]].copy()\n",
    "    new = new.groupby(['client_id']).sum()\n",
    "    new.sort_values(\"client_id\", axis = 0, inplace = True)\n",
    "    print()\n",
    "    print(\"Courbe Lorenz : \")\n",
    "    price = new['price']\n",
    "    n = len(price)\n",
    "    lorenz = np.cumsum(np.sort(price)) / price.sum()\n",
    "    lorenz = np.append([0],lorenz) # La courbe de Lorenz commence à 0\n",
    "    plt.plot(np.linspace(0, 1, len(lorenz)), lorenz, label='CA par client')\n",
    "    plt.plot([0,1], [0,1], color='orange', label='Bissectrice') #tracer la bisséctrice\n",
    "    plt.vlines(0.75, 0, 0.5, ls='dotted', color='black')\n",
    "    plt.hlines(0.5, 0, 0.75, ls='dotted', color='black', label='Médiale')\n",
    "    plt.title(\"Répartition du CA entre client \",fontdict={'family': 'serif','color' : 'black','weight': 'bold','size': 18})\n",
    "    plt.legend()\n",
    "    \n",
    "    AUC = (lorenz.sum() -lorenz[-1]/2 -lorenz[0]/2)/n # Surface sous la courbe de Lorenz. Le premier segment (lorenz[0]) est à moitié en dessous de 0, on le coupe donc en 2, on fait de même pour le dernier segment lorenz[-1] qui est à moitié au dessus de 1.\n",
    "    S = 0.5 - AUC # surface entre la première bissectrice et le courbe de Lorenz\n",
    "    gini = round(2*S,2)\n",
    "    print(\"Gini : \", gini)"
   ]
  },
  {
   "cell_type": "markdown",
   "id": "f990c2cb",
   "metadata": {},
   "source": [
    "<div style=\"background-color: RGB(51,165,182);\" >\n",
    "<h2 style=\"margin: auto; padding: 20px; color:#fff; \">2 - Exploration </h2>\n",
    "</div>"
   ]
  },
  {
   "cell_type": "markdown",
   "id": "6b41c292",
   "metadata": {},
   "source": [
    "<div style=\"border: 1px solid RGB(51,165,182);\" >\n",
    "<h3 style=\"margin: auto; padding: 10px; color: RGB(51,165,182); \">2.1- Stat descriptive </h3>\n",
    "</div>"
   ]
  },
  {
   "cell_type": "code",
   "execution_count": 8,
   "id": "79d8b1f0",
   "metadata": {},
   "outputs": [
    {
     "name": "stdout",
     "output_type": "stream",
     "text": [
      "+---------------------------------------------------------------------------------------------------------------------+\n",
      "|                                  Analyse Univariée de la variable:  price                                           |\n",
      "+--------+--------+--------+--------+--------+--------+--------+--------+--------+--------+---------+--------+--------+\n",
      "|        |Observat|Mode    |Moyenne |Ecart-ty|  Min   |  Q1    | Median |  Q3    |  Max   |Variance |  Skw   |  Kur   |\n",
      "+--------+--------+--------+--------+--------+--------+--------+--------+--------+--------+---------+--------+--------+\n",
      "|Global  | 679 332|   15.99|   17.45|   18.33|    0.62|    8.87|   13.99|   18.99|  300.00|  335.86 |    5.39|   43.08|\n"
     ]
    },
    {
     "data": {
      "text/plain": [
       "(-100.0, 300.0)"
      ]
     },
     "execution_count": 8,
     "metadata": {},
     "output_type": "execute_result"
    },
    {
     "data": {
      "text/plain": [
       "<Figure size 1080x720 with 0 Axes>"
      ]
     },
     "metadata": {},
     "output_type": "display_data"
    },
    {
     "data": {
      "image/png": "[encoded data removed]",
      "text/plain": [
       "<Figure size 360x360 with 1 Axes>"
      ]
     },
     "metadata": {
      "needs_background": "light"
     },
     "output_type": "display_data"
    }
   ],
   "source": [
    "# Fonction stats2 sur variable Price :\n",
    "stats2(rapport, 'price')\n",
    "plt.figure(figsize=(15,10))\n",
    "sns.displot(rapport[\"price\"],bins=20, kde=True)\n",
    "plt.xlim(-100,300,50)"
   ]
  },
  {
   "cell_type": "code",
   "execution_count": 9,
   "id": "1dde7c75",
   "metadata": {
    "scrolled": false
   },
   "outputs": [
    {
     "name": "stdout",
     "output_type": "stream",
     "text": [
      "Catégorie : 0\n"
     ]
    },
    {
     "data": {
      "image/png": "[encoded data removed]",
      "text/plain": [
       "<Figure size 360x360 with 1 Axes>"
      ]
     },
     "metadata": {
      "needs_background": "light"
     },
     "output_type": "display_data"
    },
    {
     "name": "stdout",
     "output_type": "stream",
     "text": [
      "+---------------------------------------------------------------------------------------------------------------------+\n",
      "|                                  Analyse Univariée de la variable:  price                                           |\n",
      "+--------+--------+--------+--------+--------+--------+--------+--------+--------+--------+---------+--------+--------+\n",
      "|        |Observat|Mode    |Moyenne |Ecart-ty|  Min   |  Q1    | Median |  Q3    |  Max   |Variance |  Skw   |  Kur   |\n",
      "+--------+--------+--------+--------+--------+--------+--------+--------+--------+--------+---------+--------+--------+\n",
      "|Global  | 679 332|    4.99|   10.64|    4.93|    0.62|    6.29|    9.99|   14.45|   40.99|   24.33 |    0.42|   -0.39|\n",
      "\n",
      "Méthode intercartile :\n",
      "Borne supérieure:  (26.69,)\n",
      "Borne inférieure:  (-5.95,)\n",
      "\n",
      "Potentiels outliers avant borne inférieure:  0\n",
      "Potentiels outliers après borne supérieure:  839\n",
      "\n",
      "\n"
     ]
    },
    {
     "data": {
      "image/png": "[encoded data removed]",
      "text/plain": [
       "<Figure size 432x288 with 1 Axes>"
      ]
     },
     "metadata": {
      "needs_background": "light"
     },
     "output_type": "display_data"
    },
    {
     "name": "stdout",
     "output_type": "stream",
     "text": [
      "Catégorie : 1\n"
     ]
    },
    {
     "data": {
      "image/png": "[encoded data removed]",
      "text/plain": [
       "<Figure size 360x360 with 1 Axes>"
      ]
     },
     "metadata": {
      "needs_background": "light"
     },
     "output_type": "display_data"
    },
    {
     "name": "stdout",
     "output_type": "stream",
     "text": [
      "+---------------------------------------------------------------------------------------------------------------------+\n",
      "|                                  Analyse Univariée de la variable:  price                                           |\n",
      "+--------+--------+--------+--------+--------+--------+--------+--------+--------+--------+---------+--------+--------+\n",
      "|        |Observat|Mode    |Moyenne |Ecart-ty|  Min   |  Q1    | Median |  Q3    |  Max   |Variance |  Skw   |  Kur   |\n",
      "+--------+--------+--------+--------+--------+--------+--------+--------+--------+--------+---------+--------+--------+\n",
      "|Global  | 679 332|   15.99|   20.49|    7.58|    2.00|   15.81|   19.08|   24.98|   80.99|   57.53 |    1.73|    8.16|\n",
      "\n",
      "Méthode intercartile :\n",
      "Borne supérieure:  (38.74,)\n",
      "Borne inférieure:  (2.06,)\n",
      "\n",
      "Potentiels outliers avant borne inférieure:  25\n",
      "Potentiels outliers après borne supérieure:  4569\n",
      "\n",
      "\n"
     ]
    },
    {
     "data": {
      "image/png": "[encoded data removed]",
      "text/plain": [
       "<Figure size 432x288 with 1 Axes>"
      ]
     },
     "metadata": {
      "needs_background": "light"
     },
     "output_type": "display_data"
    },
    {
     "name": "stdout",
     "output_type": "stream",
     "text": [
      "Catégorie : 2\n"
     ]
    },
    {
     "data": {
      "image/png": "[encoded data removed]",
      "text/plain": [
       "<Figure size 360x360 with 1 Axes>"
      ]
     },
     "metadata": {
      "needs_background": "light"
     },
     "output_type": "display_data"
    },
    {
     "name": "stdout",
     "output_type": "stream",
     "text": [
      "+---------------------------------------------------------------------------------------------------------------------+\n",
      "|                                  Analyse Univariée de la variable:  price                                           |\n",
      "+--------+--------+--------+--------+--------+--------+--------+--------+--------+--------+---------+--------+--------+\n",
      "|        |Observat|Mode    |Moyenne |Ecart-ty|  Min   |  Q1    | Median |  Q3    |  Max   |Variance |  Skw   |  Kur   |\n",
      "+--------+--------+--------+--------+--------+--------+--------+--------+--------+--------+---------+--------+--------+\n",
      "|Global  | 679 332|   68.99|   76.21|   39.75|   30.99|   53.99|   62.83|   73.72|  300.00|1 579.94 |    2.18|    4.82|\n",
      "\n",
      "Méthode intercartile :\n",
      "Borne supérieure:  (103.32,)\n",
      "Borne inférieure:  (24.4,)\n",
      "\n",
      "Potentiels outliers avant borne inférieure:  0\n",
      "Potentiels outliers après borne supérieure:  6504\n",
      "\n",
      "\n"
     ]
    },
    {
     "data": {
      "image/png": "[encoded data removed]",
      "text/plain": [
       "<Figure size 432x288 with 1 Axes>"
      ]
     },
     "metadata": {
      "needs_background": "light"
     },
     "output_type": "display_data"
    }
   ],
   "source": [
    "# Pour la variable price par catégorie\n",
    "for categorie in rapport[\"categ\"].unique():\n",
    "    subset = rapport.loc[rapport.categ == categorie, :] # Création du sous-échantillon,\n",
    "    print(\"Catégorie : \"+ str(categorie)) \n",
    "    sns.displot(subset[\"price\"], bins=25, kde=True) # Crée l'histogramme\n",
    "    plt.show() # Affiche l'histogramme\n",
    "    stats1(subset,'price')\n",
    "    print()\n",
    "    subset.boxplot(column=\"price\", vert=False) # Crée le boxplot\n",
    "    plt.show() # Affiche le boxplot"
   ]
  },
  {
   "cell_type": "markdown",
   "id": "e745dc87",
   "metadata": {},
   "source": [
    "Categ 0 : skw de 0.42 (léger étal a dte) et kurto -39 (distri aplatie, observations moins concentrées)  mode < med < moy\n",
    "\n",
    "\n",
    "categ 1 : 1.73 kws (étalé a dte) et kurt 8.16 (distri moins aplatie que distri normale, observ très concentrées) mode <  med < moy\n",
    "\n",
    "\n",
    "categ 2 : skw 2.18 (grnd étalement a dte) et kurt 4.82 (distri pas du tt aplatie plutôt haute, obsr très concentré), mode > med <  med \n",
    "\n",
    "Concernant les potentiels outliers d'après les boxplots : on va vérifier visuellement ce que ça donne"
   ]
  },
  {
   "cell_type": "markdown",
   "id": "a8efa70e",
   "metadata": {},
   "source": [
    " "
   ]
  },
  {
   "cell_type": "code",
   "execution_count": 10,
   "id": "0b45ef61",
   "metadata": {},
   "outputs": [
    {
     "data": {
      "image/png": "[encoded data removed]",
      "text/plain": [
       "<Figure size 360x360 with 1 Axes>"
      ]
     },
     "metadata": {
      "needs_background": "light"
     },
     "output_type": "display_data"
    }
   ],
   "source": [
    "# graph distribution des prix par catégorie\n",
    "sns.catplot(data=rapport, x='categ', y='price')\n",
    "plt.title('Distribution des prix par catégorie',\n",
    "          fontdict={'family': 'serif', \n",
    "                    'color' : 'black',\n",
    "                    'weight': 'bold',\n",
    "                    'size': 18});\n",
    "plt.show()\n"
   ]
  },
  {
   "cell_type": "markdown",
   "id": "1290a70d",
   "metadata": {},
   "source": [
    "Ce que l'on sait : sur les 3 catégories, les prix se \"croisent\" et atteignent un max au delà la catégorie précédente. La categ 0 est la moinc chère.(de 0.62c a 40.99€) Probablement des romans, des petites cartes postales ou autre à - d'1€, livres pour enfants.. e-book...Categ 1 de 2 à 80.99€ probalement des livres plus volumineux, ou des livres de cultures, romans, de cours (techniques, droit, médecine, informatique...) puis categ 2 de 31 à 300€. On est dans le meme cas que la categ 1, livres techniques, très volumineux, peut-être même rare ce qui expliquerait un prix aussi élevé etc. On peut même imaginer que c'est un magasin comme la fnac ? Et dans ce cas là, du matériel electronique ?\n",
    "\n",
    "cependant : on va noter de potentiels outliers sur la categ 2. La moyenne des prix étant de 62.83€, l'écart-type est de 39.75 qui est très grand comparé aux autres catégories. \n",
    "\n",
    "\n",
    "D'après nos graphiques et notre méthode interquatile, nous allons constituer une liste des prix au delà de la borne supérieure que l'on fera vérifier par la suite."
   ]
  },
  {
   "cell_type": "code",
   "execution_count": 11,
   "id": "aff3f47e",
   "metadata": {},
   "outputs": [
    {
     "data": {
      "text/plain": [
       "id_prod\n",
       "2_0      104\n",
       "2_103      5\n",
       "2_105     16\n",
       "2_106     15\n",
       "2_11      13\n",
       "        ... \n",
       "2_89       4\n",
       "2_90       6\n",
       "2_94       8\n",
       "2_97      13\n",
       "2_98       1\n",
       "Name: price, Length: 114, dtype: int64"
      ]
     },
     "execution_count": 11,
     "metadata": {},
     "output_type": "execute_result"
    }
   ],
   "source": [
    "# Liste potentiels outliers categ 2 à faire vérifier:\n",
    "liste = rapport.loc[rapport[\"price\"] > 103.32]\n",
    "liste.groupby('id_prod')['price'].count()"
   ]
  },
  {
   "cell_type": "code",
   "execution_count": 12,
   "id": "a473c895",
   "metadata": {},
   "outputs": [
    {
     "name": "stdout",
     "output_type": "stream",
     "text": [
      "\n",
      "--------------------\n",
      "Catégorie : 0\n",
      "\n",
      "Les modalités :\n",
      "Nombre vente:\n",
      " 415680\n",
      "Nombre pdt unique:\n",
      " 2293\n",
      "Mode:\n",
      " 0_1422\n",
      "\n",
      "--------------------\n",
      "Catégorie : 1\n",
      "\n",
      "Les modalités :\n",
      "Nombre vente:\n",
      " 227169\n",
      "Nombre pdt unique:\n",
      " 737\n",
      "Mode:\n",
      " 1_369\n",
      "\n",
      "--------------------\n",
      "Catégorie : 2\n",
      "\n",
      "Les modalités :\n",
      "Nombre vente:\n",
      " 36483\n",
      "Nombre pdt unique:\n",
      " 236\n",
      "Mode:\n",
      " 2_102\n"
     ]
    }
   ],
   "source": [
    "#Analyse id_prod selon les catégories de produits \n",
    "\n",
    "for categorie in rapport[\"categ\"].unique():\n",
    "    subset = rapport.loc[rapport.categ == categorie, :] # Création du sous-échantillon\n",
    "    print()\n",
    "    print(\"-\"*20)\n",
    "    print(\"Catégorie : \"+ str(categorie))\n",
    "    print()\n",
    "    print(\"Les modalités :\")\n",
    "    print(\"Nombre vente:\\n\",(subset['id_prod'].count()))   \n",
    "    print(\"Nombre pdt unique:\\n\",(len(subset['id_prod'].unique())))\n",
    "    print(\"Mode:\\n\",(subset['id_prod'].mode()[0]))"
   ]
  },
  {
   "cell_type": "markdown",
   "id": "d1e69315",
   "metadata": {},
   "source": [
    "<div style=\"border: 1px solid RGB(51,165,182);\" >\n",
    "<h3 style=\"margin: auto; padding: 10px; color: RGB(51,165,182); \">2.2- Chiffres importants </h3>\n",
    "</div>"
   ]
  },
  {
   "cell_type": "markdown",
   "id": "8c9020f4",
   "metadata": {},
   "source": [
    "## Chiffres clés (sur toute la période donnée)"
   ]
  },
  {
   "cell_type": "code",
   "execution_count": 13,
   "id": "4510f264",
   "metadata": {},
   "outputs": [
    {
     "name": "stdout",
     "output_type": "stream",
     "text": [
      "Le nb de pdts disponibles en ligne est de : 3287\n",
      "Le nb de pdts uniques vendus est de : 3266\n",
      "\n",
      "Le CA global de la période donnée est de :  11856080.12 euros\n",
      "Le nombre de ventes totales est de : 679332\n",
      "\n",
      "Nb clients uniques : 8623\n",
      "Nb clients qui ont acheté : 8600\n",
      "Nb clients avec plus d'un achat : 8592\n",
      "Le trafic sur le site pour la période globale donnée est de : 342315\n",
      "\n",
      "CA par catégorie\n",
      "categ\n",
      "0    4422082.41\n",
      "1    4653722.69\n",
      "2    2780275.02\n",
      "Name: price, dtype: float64\n",
      "\n",
      "CA moyen :  categ\n",
      "0    10.64\n",
      "1    20.49\n",
      "2    76.21\n",
      "Name: price, dtype: float64\n",
      "\n",
      "Ventes par catégorie\n",
      "categ\n",
      "0    415680\n",
      "1    227169\n",
      "2     36483\n",
      "Name: session_id, dtype: int64\n"
     ]
    }
   ],
   "source": [
    "#Nombre de produits disponibles et vendus\n",
    "pdt_total = rapport['id_prod'].nunique() + 21\n",
    "print(\"Le nb de pdts disponibles en ligne est de :\", str(pdt_total))\n",
    "pdt_unique_vendu = rapport['id_prod'].nunique()\n",
    "print(\"Le nb de pdts uniques vendus est de :\", str(pdt_unique_vendu))\n",
    "\n",
    "print()\n",
    "#CA total:\n",
    "CA_global = rapport['price'].sum()\n",
    "print(\"Le CA global de la période donnée est de : \", str(round(CA_global,2)) , \"euros\")\n",
    "\n",
    "#Ventes totales:\n",
    "ventes_totales = rapport['session_id'].count() \n",
    "print('Le nombre de ventes totales est de : ' + str(ventes_totales))\n",
    "\n",
    "print()\n",
    "\n",
    "clients_unique = rapport['client_id'].nunique() + 23 #Nb clients qui n'ont pas acheté\n",
    "print(\"Nb clients uniques :\", str(clients_unique))\n",
    "client_achat = rapport['client_id'].nunique()\n",
    "print(\"Nb clients qui ont acheté :\", str(client_achat))\n",
    "clients_pls_achats = (rapport.groupby('client_id')['session_id'].count()>1).sum()\n",
    "print(\"Nb clients avec plus d'un achat :\", str(clients_pls_achats))\n",
    "#Trafic : on sait qu'une ligne session = 1 transaction, mais on peut faire plusieurs transactions le mm jour avec la mm session\n",
    "# =  nombre de visites ou de visiteurs sur une période donnée\n",
    "trafic = rapport['session_id'].nunique()\n",
    "print(\"Le trafic sur le site pour la période globale donnée est de :\", trafic)\n",
    "\n",
    "print()\n",
    "\n",
    "#CA par catégorie\n",
    "print(\"CA par catégorie\")\n",
    "print(rapport.groupby('categ')['price'].sum())\n",
    "print()\n",
    "print(\"CA moyen : \", round(rapport.groupby('categ')['price'].mean(),2))\n",
    "print()\n",
    "print('Ventes par catégorie')\n",
    "print(rapport.groupby('categ')['session_id'].count())"
   ]
  },
  {
   "cell_type": "code",
   "execution_count": 14,
   "id": "cd12c9cf",
   "metadata": {},
   "outputs": [
    {
     "name": "stdout",
     "output_type": "stream",
     "text": [
      "Panier moyen par année:\n",
      "transac_year\n",
      "2021    17.14\n",
      "2022    17.63\n",
      "2023    17.88\n",
      "Name: price, dtype: float64\n",
      "\n",
      "Fréquence d'achat par an \n",
      "transac_year\n",
      "2021    278335\n",
      "2022    346500\n",
      "2023     54497\n",
      "Name: session_id, dtype: int64\n",
      "\n",
      "CA par année :\n",
      "transac_year\n",
      "2021    4771752.24\n",
      "2022    6109958.61\n",
      "2023     974369.27\n",
      "Name: price, dtype: float64\n",
      "\n",
      "CA par année et par catégorie :\n",
      "transac_year  categ\n",
      "2021          0        1883946.13\n",
      "              1        1777995.85\n",
      "              2        1109810.26\n",
      "2022          0        2194247.26\n",
      "              1        2485275.19\n",
      "              2        1430436.16\n",
      "2023          0         343889.02\n",
      "              1         390451.65\n",
      "              2         240028.60\n",
      "Name: price, dtype: float64\n"
     ]
    }
   ],
   "source": [
    "#Par an :\n",
    "\n",
    "# Panier moyen= \n",
    "print(\"Panier moyen par année:\")\n",
    "panier_moyen = rapport.groupby('transac_year')['price'].mean()\n",
    "print(round(panier_moyen,2))\n",
    "\n",
    "print()\n",
    "\n",
    "# freq= nombre d'achats réalisé par un client sur une période donnée\n",
    "freq = rapport.groupby('transac_year')['session_id'].count()\n",
    "print(\"Fréquence d'achat par an \")\n",
    "print(freq)\n",
    "\n",
    "print()\n",
    "\n",
    "#CA par an :\n",
    "print('CA par année :')\n",
    "ca_an = rapport.groupby('transac_year')['price'].sum()\n",
    "print(round(ca_an,2))\n",
    "\n",
    "print()\n",
    "\n",
    "#CA par categ par an : \n",
    "print('CA par année et par catégorie :')\n",
    "ca_an_cat = rapport.groupby(['transac_year', 'categ'])['price'].sum()\n",
    "print(round(ca_an_cat,2))"
   ]
  },
  {
   "cell_type": "code",
   "execution_count": 15,
   "id": "842a4611",
   "metadata": {},
   "outputs": [
    {
     "data": {
      "text/plain": [
       "<matplotlib.legend.Legend at 0x170be0dadf0>"
      ]
     },
     "execution_count": 15,
     "metadata": {},
     "output_type": "execute_result"
    },
    {
     "data": {
      "image/png": "[encoded data removed]",
      "text/plain": [
       "<Figure size 648x648 with 1 Axes>"
      ]
     },
     "metadata": {},
     "output_type": "display_data"
    },
    {
     "data": {
      "image/png": "[encoded data removed]",
      "text/plain": [
       "<Figure size 648x648 with 1 Axes>"
      ]
     },
     "metadata": {},
     "output_type": "display_data"
    }
   ],
   "source": [
    "#Proportion des ventes par catégorie\n",
    "graph_ventes_par_categ = [415680, 227169, 36483]\n",
    "plt.figure(figsize=(9,9))\n",
    "plt.pie(graph_ventes_par_categ, labels=[\"Catégorie 0\",\"Catégorie 1\", \"Catégorie 2\"],colors=[\"orange\", \"blue\", \"red\"], \n",
    "         normalize = True,\n",
    "       autopct =lambda x: str(round(x, 2)) + '%' )\n",
    "my_circle=plt.Circle( (0,0), 0.7, color='white')\n",
    "p=plt.gcf()\n",
    "p.gca().add_artist(my_circle)\n",
    "plt.title(\"Proportion des ventes par catégorie de produit\",\n",
    "          fontdict={'family': 'serif', \n",
    "                    'color' : 'black',\n",
    "                    'weight': 'bold',\n",
    "                    'size': 18})\n",
    "plt.legend()\n",
    "\n",
    "\n",
    "#Proportion du CA par catégorie\n",
    "graph_CA_par_categ = [4422082.41, 4653722.69, 2780275.02]\n",
    "plt.figure(figsize=(9,9))\n",
    "plt.pie(graph_CA_par_categ, labels=[\"Catégorie 0\",\"Catégorie 1\", \"Catégorie 2\"],colors=[\"orange\", \"blue\", \"red\"], \n",
    "         normalize = True,\n",
    "       autopct =lambda x: str(round(x, 2)) + '%' )\n",
    "my_circle=plt.Circle( (0,0), 0.7, color='white')\n",
    "p=plt.gcf()\n",
    "p.gca().add_artist(my_circle)\n",
    "plt.title(\"Proportion du CA par catégorie de produit\",\n",
    "          fontdict={'family': 'serif', \n",
    "                    'color' : 'black',\n",
    "                    'weight': 'bold',\n",
    "                    'size': 18})\n",
    "plt.legend()\n"
   ]
  },
  {
   "cell_type": "markdown",
   "id": "a0cc2dd3",
   "metadata": {},
   "source": [
    "Les gens achètent bcp plus de pdts de la categ 0 (prix plus abordables?) et bcp - dans la categ 1. Le CA généré est similaire entre la categ 0 et 1 37-39% et relativement bon par rapport à vente de la categ 2 (23.45% car prix bien plus supérieur)."
   ]
  },
  {
   "cell_type": "markdown",
   "id": "6141f0a1",
   "metadata": {},
   "source": [
    "## Plus précisément par produits"
   ]
  },
  {
   "cell_type": "code",
   "execution_count": 16,
   "id": "a3d1bd2c",
   "metadata": {},
   "outputs": [
    {
     "name": "stdout",
     "output_type": "stream",
     "text": [
      "CA par produits :\n",
      "id_prod\n",
      "2_159     94893.50\n",
      "2_135     69334.95\n",
      "2_112     65407.76\n",
      "2_102     60736.78\n",
      "2_209     56971.86\n",
      "            ...   \n",
      "0_1601        1.99\n",
      "0_807         1.99\n",
      "0_1653        1.98\n",
      "0_1284        1.38\n",
      "0_1539        0.99\n",
      "Name: price, Length: 3266, dtype: float64\n",
      "\n",
      "Vente par produits :\n",
      "id_prod\n",
      "1_369     2252\n",
      "1_417     2189\n",
      "1_414     2180\n",
      "1_498     2128\n",
      "1_425     2096\n",
      "          ... \n",
      "0_1284       1\n",
      "0_549        1\n",
      "0_1498       1\n",
      "0_541        1\n",
      "0_886        1\n",
      "Name: session_id, Length: 3266, dtype: int64\n"
     ]
    }
   ],
   "source": [
    "# CA par produits :\n",
    "print(\"CA par produits :\")\n",
    "CA_pdts = rapport.groupby('id_prod')['price'].sum()\n",
    "print(CA_pdts.sort_values(ascending=False))\n",
    "\n",
    "print()\n",
    "\n",
    "# Vente par produits :\n",
    "print(\"Vente par produits :\")\n",
    "vente_pdts = rapport.groupby('id_prod')['session_id'].count()\n",
    "print(vente_pdts.sort_values(ascending=False))"
   ]
  },
  {
   "cell_type": "markdown",
   "id": "3b36b79e",
   "metadata": {},
   "source": [
    "# VOIR PARTIE 3 POUR ANALYSE CA DANS LE TEMPS"
   ]
  },
  {
   "cell_type": "markdown",
   "id": "c2e9143d",
   "metadata": {},
   "source": [
    "<div style=\"border: 1px solid RGB(51,165,182);\" >\n",
    "<h3 style=\"margin: auto; padding: 10px; color: RGB(51,165,182); \">2.3- Top et flop des produits </h3>\n",
    "</div>"
   ]
  },
  {
   "cell_type": "code",
   "execution_count": 17,
   "id": "e7351c49",
   "metadata": {},
   "outputs": [
    {
     "name": "stdout",
     "output_type": "stream",
     "text": [
      "--------------------\n",
      "Catégorie : 0\n",
      "\n",
      "Top CA:\n",
      " id_prod\n",
      "0_1441    23452.65\n",
      "0_1421    23008.49\n",
      "0_1414    22287.00\n",
      "0_1451    21689.15\n",
      "0_1417    21372.12\n",
      "Name: price, dtype: float64\n",
      "\n",
      "Flop CA :\n",
      " id_prod\n",
      "0_1539    0.99\n",
      "0_1284    1.38\n",
      "0_1653    1.98\n",
      "0_1601    1.99\n",
      "0_541     1.99\n",
      "Name: price, dtype: float64\n",
      "\n",
      "Prix pdt les plus chers :\n",
      " id_prod\n",
      "0_1629    [40.99]\n",
      "0_2147    [39.99]\n",
      "0_494     [39.58]\n",
      "0_1581    [37.99]\n",
      "0_1239    [37.99]\n",
      "Name: price, dtype: object\n",
      "--------------------\n",
      "Catégorie : 1\n",
      "\n",
      "Top CA:\n",
      " id_prod\n",
      "1_395    54356.25\n",
      "1_369    54025.48\n",
      "1_414    51949.40\n",
      "1_383    51486.24\n",
      "1_498    49731.36\n",
      "Name: price, dtype: float64\n",
      "\n",
      "Flop CA :\n",
      " id_prod\n",
      "1_420    14.24\n",
      "1_224    19.80\n",
      "1_470    21.64\n",
      "1_473    26.91\n",
      "1_404    29.55\n",
      "Name: price, dtype: float64\n",
      "\n",
      "Prix pdt les plus chers :\n",
      " id_prod\n",
      "1_13     [80.99]\n",
      "1_679    [79.99]\n",
      "1_10     [78.83]\n",
      "1_171    [73.99]\n",
      "1_608    [72.75]\n",
      "Name: price, dtype: object\n",
      "--------------------\n",
      "Catégorie : 2\n",
      "\n",
      "Top CA:\n",
      " id_prod\n",
      "2_159    94893.50\n",
      "2_135    69334.95\n",
      "2_112    65407.76\n",
      "2_102    60736.78\n",
      "2_209    56971.86\n",
      "Name: price, dtype: float64\n",
      "\n",
      "Flop CA :\n",
      " id_prod\n",
      "2_81      86.99\n",
      "2_23     115.99\n",
      "2_98     149.74\n",
      "2_93     157.98\n",
      "2_107    203.94\n",
      "Name: price, dtype: float64\n",
      "\n",
      "Prix pdt les plus chers :\n",
      " id_prod\n",
      "2_2       [300.0]\n",
      "2_76     [254.44]\n",
      "2_158    [247.22]\n",
      "2_167    [236.99]\n",
      "2_30     [233.54]\n",
      "Name: price, dtype: object\n"
     ]
    }
   ],
   "source": [
    "#TOP/FLOP du CA\n",
    "\n",
    "for categorie in rapport[\"categ\"].unique():\n",
    "    subset = rapport.loc[rapport.categ == categorie, :] # Création du sous-échantillon\n",
    "    print(\"-\"*20)\n",
    "    print(\"Catégorie : \"+ str(categorie))\n",
    "    print()\n",
    "    print(\"Top CA:\\n\" , subset.groupby('id_prod')['price'].sum().sort_values(ascending=False).head(5))\n",
    "    print()\n",
    "    print(\"Flop CA :\\n\", subset.groupby('id_prod')['price'].sum().sort_values(ascending=True).head(5))\n",
    "    print()\n",
    "    print(\"Prix pdt les plus chers :\\n\", subset.groupby('id_prod')['price'].unique().sort_values(ascending=False).head(5))"
   ]
  },
  {
   "cell_type": "markdown",
   "id": "cd27c0a0",
   "metadata": {},
   "source": [
    "On voit que les pdts qui ont les prix les plus élévés ne correspondent pas aux top CA "
   ]
  },
  {
   "cell_type": "code",
   "execution_count": 18,
   "id": "3c715926",
   "metadata": {},
   "outputs": [
    {
     "name": "stdout",
     "output_type": "stream",
     "text": [
      "--------------------\n",
      "Catégorie : 0\n",
      "\n",
      "Top ventes:\n",
      " id_prod\n",
      "0_1422    1292\n",
      "0_1431    1282\n",
      "0_1425    1266\n",
      "0_1432    1254\n",
      "0_1411    1246\n",
      "Name: session_id, dtype: int64\n",
      "\n",
      "Flop ventes:\n",
      " id_prod\n",
      "0_2201    1\n",
      "0_1633    1\n",
      "0_549     1\n",
      "0_1601    1\n",
      "0_1539    1\n",
      "Name: session_id, dtype: int64\n",
      "--------------------\n",
      "Catégorie : 1\n",
      "\n",
      "Top ventes:\n",
      " id_prod\n",
      "1_369    2252\n",
      "1_417    2189\n",
      "1_414    2180\n",
      "1_498    2128\n",
      "1_425    2096\n",
      "Name: session_id, dtype: int64\n",
      "\n",
      "Flop ventes:\n",
      " id_prod\n",
      "1_514    2\n",
      "1_420    2\n",
      "1_402    2\n",
      "1_146    3\n",
      "1_404    3\n",
      "Name: session_id, dtype: int64\n",
      "--------------------\n",
      "Catégorie : 2\n",
      "\n",
      "Top ventes:\n",
      " id_prod\n",
      "2_102    1027\n",
      "2_135    1005\n",
      "2_112     968\n",
      "2_39      915\n",
      "2_37      882\n",
      "Name: session_id, dtype: int64\n",
      "\n",
      "Flop ventes:\n",
      " id_prod\n",
      "2_98    1\n",
      "2_23    1\n",
      "2_81    1\n",
      "2_93    2\n",
      "2_77    2\n",
      "Name: session_id, dtype: int64\n"
     ]
    }
   ],
   "source": [
    "#TOP/FLOP des ventes\n",
    "for categorie in rapport[\"categ\"].unique():\n",
    "    subset = rapport.loc[rapport.categ == categorie, :] # Création du sous-échantillon\n",
    "    print(\"-\"*20)\n",
    "    print(\"Catégorie : \"+ str(categorie))\n",
    "    print()\n",
    "    print(\"Top ventes:\\n\" , subset.groupby('id_prod')['session_id'].count().sort_values(ascending=False).head(5))\n",
    "    print()\n",
    "    print(\"Flop ventes:\\n\", subset.groupby('id_prod')['session_id'].count().sort_values(ascending=True).head(5))"
   ]
  },
  {
   "cell_type": "code",
   "execution_count": 19,
   "id": "9c565420",
   "metadata": {},
   "outputs": [
    {
     "name": "stdout",
     "output_type": "stream",
     "text": [
      "Les 10 meilleurs clients niveau CA :\n",
      "               price\n",
      "client_id           \n",
      "c_1609     324033.35\n",
      "c_4958     289760.34\n",
      "c_6714     153662.76\n",
      "c_3454     113669.85\n",
      "c_3263       5276.87\n",
      "c_1570       5271.62\n",
      "c_2899       5214.05\n",
      "c_2140       5208.82\n",
      "c_7319       5155.77\n",
      "c_8026       5093.22\n",
      "\n",
      "Les 10 plus mauvais clients niveau CA :\n",
      "           price\n",
      "client_id       \n",
      "c_8351      6.31\n",
      "c_8140      8.30\n",
      "c_8114      9.98\n",
      "c_240      11.06\n",
      "c_4648     11.20\n",
      "c_4478     13.36\n",
      "c_5962     13.99\n",
      "c_6040     15.72\n",
      "c_5919     15.98\n",
      "c_5829     16.07\n"
     ]
    }
   ],
   "source": [
    "# Meilleurs clients :\n",
    "best_cli = rapport.groupby('client_id', )[['price', 'id_prod']].sum().sort_values(by='price',ascending=False).head(10)\n",
    "print('Les 10 meilleurs clients niveau CA :')\n",
    "print(best_cli)\n",
    "\n",
    "print()\n",
    "\n",
    "bad_cli = rapport.groupby('client_id', )[['price', 'id_prod']].sum().sort_values(by='price',ascending=True).head(10)\n",
    "print('Les 10 plus mauvais clients niveau CA :')\n",
    "print(bad_cli)"
   ]
  },
  {
   "cell_type": "code",
   "execution_count": 20,
   "id": "29804171",
   "metadata": {},
   "outputs": [
    {
     "name": "stdout",
     "output_type": "stream",
     "text": [
      "Les 10 clients qui ont achetés le plus :\n",
      "client_id\n",
      "c_1609    25488\n",
      "c_6714     9187\n",
      "c_3454     6773\n",
      "c_4958     5195\n",
      "c_3263      403\n",
      "c_2140      402\n",
      "c_2595      398\n",
      "c_2077      384\n",
      "c_1637      380\n",
      "c_7421      379\n",
      "Name: session_id, dtype: int64\n"
     ]
    }
   ],
   "source": [
    "# Meilleurs clients :\n",
    "best_cli_vente = rapport.groupby('client_id', )['session_id'].count().sort_values(ascending=False).head(10)\n",
    "print('Les 10 clients qui ont achetés le plus :')\n",
    "print(best_cli_vente)"
   ]
  },
  {
   "cell_type": "markdown",
   "id": "a7355eea",
   "metadata": {},
   "source": [
    "On voit que ce sont les mêmes que les 5 meilleurs clients. On peut se poser des questions... 324K Euros d'achat, 25k livres ??!!! "
   ]
  },
  {
   "cell_type": "code",
   "execution_count": 21,
   "id": "ac49538b",
   "metadata": {},
   "outputs": [
    {
     "name": "stdout",
     "output_type": "stream",
     "text": [
      "Client 1 :\n",
      "client_id  id_prod\n",
      "c_1609     0_1438     95\n",
      "           0_1360     79\n",
      "           0_1334     78\n",
      "           0_1424     75\n",
      "           0_1411     73\n",
      "                      ..\n",
      "           1_708       1\n",
      "           1_73        1\n",
      "           1_90        1\n",
      "           1_94        1\n",
      "           2_46        1\n",
      "Name: id_prod, Length: 1920, dtype: int64\n",
      "\n",
      "Client 2 :\n",
      "client_id  id_prod\n",
      "c_4958     2_39       94\n",
      "           2_37       93\n",
      "           2_110      89\n",
      "           2_109      85\n",
      "           2_209      84\n",
      "                      ..\n",
      "           2_49        1\n",
      "           2_64        1\n",
      "           2_66        1\n",
      "           2_88        1\n",
      "           2_94        1\n",
      "Name: id_prod, Length: 467, dtype: int64\n",
      "\n",
      "Client 3 :\n",
      "client_id  id_prod\n",
      "c_6714     1_498      48\n",
      "           1_403      42\n",
      "           1_383      39\n",
      "           1_400      38\n",
      "           1_389      37\n",
      "                      ..\n",
      "           2_215       1\n",
      "           2_217       1\n",
      "           2_223       1\n",
      "           2_26        1\n",
      "           2_57        1\n",
      "Name: id_prod, Length: 1381, dtype: int64\n",
      "\n",
      "Client 4 :\n",
      "client_id  id_prod\n",
      "c_3454     1_403      61\n",
      "           1_395      51\n",
      "           1_414      46\n",
      "           1_369      45\n",
      "           1_381      42\n",
      "                      ..\n",
      "           1_725       1\n",
      "           1_8         1\n",
      "           1_94        1\n",
      "           2_184       1\n",
      "           2_26        1\n",
      "Name: id_prod, Length: 1094, dtype: int64\n"
     ]
    }
   ],
   "source": [
    "# On va regarder les 4 premiers des meilleurs clients niveau CA\n",
    "\n",
    "client1= rapport.loc[rapport['client_id'] == 'c_1609']\n",
    "print(\"Client 1 :\")\n",
    "print(client1.groupby('client_id')['id_prod'].value_counts())\n",
    "\n",
    "print()\n",
    "\n",
    "client2= rapport.loc[rapport['client_id'] == 'c_4958']\n",
    "print(\"Client 2 :\")\n",
    "print(client2.groupby('client_id')['id_prod'].value_counts())\n",
    "\n",
    "print()\n",
    "\n",
    "client3= rapport.loc[rapport['client_id'] == 'c_6714']\n",
    "print(\"Client 3 :\")\n",
    "print(client3.groupby('client_id')['id_prod'].value_counts())\n",
    "\n",
    "print()\n",
    "\n",
    "client4= rapport.loc[rapport['client_id'] == 'c_3454']\n",
    "print(\"Client 4 :\")\n",
    "print(client4.groupby('client_id')['id_prod'].value_counts())\n"
   ]
  },
  {
   "cell_type": "markdown",
   "id": "b2d637fd",
   "metadata": {},
   "source": [
    "On voit que ce sont des grosses commandes. Une personne lambda, même si elle aime beaucoup lire n'acheterait pas 324k€ et encore moins 95 fois le même produit. Quelqu'un qui les revend à son tour, oui pourquoi pas. On peut penser que ces 4 clients sont en fait des professionnels (autres librairies, grandes surfaces, bureaux de tabac,... )"
   ]
  },
  {
   "cell_type": "code",
   "execution_count": 22,
   "id": "a39e8251",
   "metadata": {},
   "outputs": [
    {
     "name": "stdout",
     "output_type": "stream",
     "text": [
      "(46643, 13)\n"
     ]
    }
   ],
   "source": [
    "client_professionnel = rapport.loc[rapport['client_id'] == 'c_1609']\n",
    "a = rapport.loc[rapport['client_id'] == 'c_4958']\n",
    "b = rapport.loc[rapport['client_id'] == 'c_6714']\n",
    "c = rapport.loc[rapport['client_id'] == 'c_3454']\n",
    "\n",
    "client_professionnel = client_professionnel.append([a, b, c])\n",
    "print(client_professionnel.shape)"
   ]
  },
  {
   "cell_type": "code",
   "execution_count": 23,
   "id": "b6e75440",
   "metadata": {},
   "outputs": [
    {
     "data": {
      "text/plain": [
       "(632689, 13)"
      ]
     },
     "execution_count": 23,
     "metadata": {},
     "output_type": "execute_result"
    }
   ],
   "source": [
    "#On va donc les mettre à part pour ne pas influencer notre analyse : \n",
    "rapport.drop(rapport[rapport['client_id'] == 'c_1609'].index, inplace=True)\n",
    "rapport.drop(rapport[rapport['client_id'] == 'c_4958'].index, inplace=True)\n",
    "rapport.drop(rapport[rapport['client_id'] == 'c_6714'].index, inplace=True)\n",
    "rapport.drop(rapport[rapport['client_id'] == 'c_3454'].index, inplace=True)\n",
    "rapport.shape"
   ]
  },
  {
   "cell_type": "code",
   "execution_count": 24,
   "id": "949e0439",
   "metadata": {},
   "outputs": [
    {
     "name": "stdout",
     "output_type": "stream",
     "text": [
      "Le CA total des clients pro :\n",
      "881126.3\n",
      "\n",
      "Nombre d'achat total : 46643\n",
      "\n",
      "Le panier moyen des cli pro :  18.89\n",
      "\n",
      "Nb achat par categ :\n",
      "categ          0     1     2\n",
      "client_id                   \n",
      "c_1609     20167  5310    11\n",
      "c_3454      2700  4055    18\n",
      "c_4958         4  1888  3303\n",
      "c_6714      5316  3568   303\n",
      "\n",
      "Panier moyen par categ :\n",
      "categ          0      1       2\n",
      "client_id                      \n",
      "c_1609     10.63  20.35  136.47\n",
      "c_3454     10.67  20.61   70.85\n",
      "c_4958     12.19  20.86   75.79\n",
      "c_6714     10.78  20.53   76.23\n",
      "\n",
      "Nb de CA par categ :\n",
      "categ              0          1          2\n",
      "client_id                                 \n",
      "c_1609     214447.24  108084.90    1501.21\n",
      "c_3454      28811.61   83583.02    1275.22\n",
      "c_4958         48.76   39375.24  250336.34\n",
      "c_6714      57318.43   73246.54   23097.79\n"
     ]
    }
   ],
   "source": [
    "#On en profite pour regarder d'un peu plus prés les clients_pro : \n",
    "ca_tot_cli_pro = round(client_professionnel['price'].sum(),2)\n",
    "print(\"Le CA total des clients pro :\")\n",
    "print(ca_tot_cli_pro)\n",
    "\n",
    "print()\n",
    "\n",
    "nb_achat = client_professionnel['id_prod'].count()\n",
    "print(\"Nombre d'achat total :\", nb_achat)\n",
    "\n",
    "print()\n",
    "\n",
    "pan_moy = round(client_professionnel['price'].mean(),2)\n",
    "print(\"Le panier moyen des cli pro : \", str(pan_moy))\n",
    "\n",
    "print()\n",
    "\n",
    "print(\"Nb achat par categ :\")\n",
    "d = pd.crosstab(index=client_professionnel['client_id'], columns=client_professionnel['categ'])\n",
    "print(d)\n",
    "\n",
    "print()\n",
    "\n",
    "print(\"Panier moyen par categ :\")\n",
    "c = pd.crosstab(index=client_professionnel['client_id'], columns=client_professionnel['categ'], values=client_professionnel['price'], aggfunc='mean')\n",
    "print(round(c,2))\n",
    "\n",
    "print()\n",
    "\n",
    "print(\"Nb de CA par categ :\")\n",
    "e =pd.crosstab(index=client_professionnel['client_id'], columns=client_professionnel['categ'], values=client_professionnel['price'], aggfunc='sum')\n",
    "print(round(e,2))"
   ]
  },
  {
   "cell_type": "code",
   "execution_count": 25,
   "id": "8fcccda7",
   "metadata": {},
   "outputs": [
    {
     "name": "stdout",
     "output_type": "stream",
     "text": [
      "Les 5 meilleurs clients niveau CA :\n",
      "             price\n",
      "client_id         \n",
      "c_3263     5276.87\n",
      "c_1570     5271.62\n",
      "c_2899     5214.05\n",
      "c_2140     5208.82\n",
      "c_7319     5155.77\n"
     ]
    }
   ],
   "source": [
    "# On va refaire un top 5 des best cli :\n",
    "best_cli = rapport.groupby('client_id', )[['price', 'id_prod']].sum().sort_values(by='price',ascending=False).head()\n",
    "print('Les 5 meilleurs clients niveau CA :')\n",
    "print(best_cli)"
   ]
  },
  {
   "cell_type": "markdown",
   "id": "89583df8",
   "metadata": {},
   "source": [
    "On est bien sur des 5k, ça semble cohérent. "
   ]
  },
  {
   "cell_type": "markdown",
   "id": "cc188164",
   "metadata": {},
   "source": [
    "<div style=\"border: 1px solid RGB(51,165,182);\" >\n",
    "<h3 style=\"margin: auto; padding: 10px; color: RGB(51,165,182); \">3.4- Profil client </h3>\n",
    "</div>"
   ]
  },
  {
   "cell_type": "code",
   "execution_count": 26,
   "id": "68edb600",
   "metadata": {},
   "outputs": [
    {
     "name": "stdout",
     "output_type": "stream",
     "text": [
      "+---------------------------------------------------------------------------------------------------------------------+\n",
      "|                                  Analyse Univariée de la variable:  age                                           |\n",
      "+--------+--------+--------+--------+--------+--------+--------+--------+--------+--------+---------+--------+--------+\n",
      "|        |Observat|Mode    |Moyenne |Ecart-ty|  Min   |  Q1    | Median |  Q3    |  Max   |Variance |  Skw   |  Kur   |\n",
      "+--------+--------+--------+--------+--------+--------+--------+--------+--------+--------+---------+--------+--------+\n",
      "|Global  | 632 689|   43.00|   43.89|   13.84|   18.00|   35.00|   42.00|   51.00|   94.00|  191.67 |    0.60|    0.33|\n"
     ]
    },
    {
     "data": {
      "text/plain": [
       "<seaborn.axisgrid.FacetGrid at 0x170befdb190>"
      ]
     },
     "execution_count": 26,
     "metadata": {},
     "output_type": "execute_result"
    },
    {
     "data": {
      "image/png": "[encoded data removed]",
      "text/plain": [
       "<Figure size 360x360 with 1 Axes>"
      ]
     },
     "metadata": {
      "needs_background": "light"
     },
     "output_type": "display_data"
    }
   ],
   "source": [
    "# Distribution de la variable age \n",
    "stats2(rapport, 'age')\n",
    "#print(rapport['age'].hist())\n",
    "sns.displot(rapport['age'], bins=20, kde=True)"
   ]
  },
  {
   "cell_type": "markdown",
   "id": "5fccc10d",
   "metadata": {},
   "source": [
    "la moy et la médianne sont proche. Au niveau des mesures de forme, skewness (mesure asymétrie) est de 0.60 (>0) on a donc un très léger étalement vers la droite\n",
    "pour le kurtosis (mesure d'applatissement) 0.33 > 0 donc notre distri est moins aplatie que la distri normale, nos observations sont plus concentrées."
   ]
  },
  {
   "cell_type": "code",
   "execution_count": 27,
   "id": "25844f57",
   "metadata": {},
   "outputs": [
    {
     "name": "stdout",
     "output_type": "stream",
     "text": [
      "    age  Nb_achat  freq_achat\n",
      "0    18     15571    2.461083\n",
      "1    19      5409    0.854922\n",
      "2    20      4432    0.700502\n",
      "3    21      4306    0.680587\n",
      "4    22      4715    0.745232\n",
      "..  ...       ...         ...\n",
      "72   90       243    0.038407\n",
      "73   91       210    0.033192\n",
      "74   92       196    0.030979\n",
      "75   93       129    0.020389\n",
      "76   94        23    0.003635\n",
      "\n",
      "[77 rows x 3 columns]\n",
      "total :  632689\n"
     ]
    }
   ],
   "source": [
    "# Concernant la fréquence d'achat par âge\n",
    "age_freqAchat = rapport.groupby(['age'])['price'].count().reset_index()\n",
    "age_freqAchat.columns = ['age', 'Nb_achat']\n",
    "\n",
    "\n",
    "total = age_freqAchat.Nb_achat.sum()\n",
    "\n",
    "\n",
    "age_freqAchat['freq_achat'] = (age_freqAchat['Nb_achat'] * 100 )/ total\n",
    "print(age_freqAchat)\n",
    "print(\"total : \", total)"
   ]
  },
  {
   "cell_type": "code",
   "execution_count": 28,
   "id": "beeef052",
   "metadata": {},
   "outputs": [
    {
     "data": {
      "text/plain": [
       "intervalle_age\n",
       "[18, 30)     70909\n",
       "[30, 50)    386799\n",
       "[50, 70)    141761\n",
       "[70, 95)     33220\n",
       "Name: client_id, dtype: int64"
      ]
     },
     "execution_count": 28,
     "metadata": {},
     "output_type": "execute_result"
    }
   ],
   "source": [
    "# Nombre de personne par tranche d'âge :\n",
    "rapport.groupby('intervalle_age')['client_id'].count()"
   ]
  },
  {
   "cell_type": "code",
   "execution_count": 29,
   "id": "608f6cd5",
   "metadata": {},
   "outputs": [
    {
     "name": "stdout",
     "output_type": "stream",
     "text": [
      "  intervalle_age  Nb_achat  freq_achat\n",
      "0       [18, 30)     70909   11.207560\n",
      "1       [30, 50)    386799   61.135724\n",
      "2       [50, 70)    141761   22.406111\n",
      "3       [70, 95)     33220    5.250605\n",
      "total :  632689\n"
     ]
    }
   ],
   "source": [
    "#Nombre d'achat par tranche d'âge\n",
    "\n",
    "freqAchat_tranche = rapport.groupby('intervalle_age')['price'].count().reset_index()\n",
    "freqAchat_tranche.columns = ['intervalle_age', 'Nb_achat']\n",
    "freqAchat_tranche\n",
    "\n",
    "total = freqAchat_tranche.Nb_achat.sum()\n",
    "\n",
    "freqAchat_tranche['freq_achat'] = (freqAchat_tranche['Nb_achat'] * 100 )/ total\n",
    "print(freqAchat_tranche)\n",
    "print(\"total : \", total)"
   ]
  },
  {
   "cell_type": "code",
   "execution_count": 30,
   "id": "d7ffa256",
   "metadata": {},
   "outputs": [
    {
     "data": {
      "text/plain": [
       "Text(2.75, 45000, '33220')"
      ]
     },
     "execution_count": 30,
     "metadata": {},
     "output_type": "execute_result"
    },
    {
     "data": {
      "image/png": "[encoded data removed]",
      "text/plain": [
       "<Figure size 432x288 with 1 Axes>"
      ]
     },
     "metadata": {
      "needs_background": "light"
     },
     "output_type": "display_data"
    }
   ],
   "source": [
    "sns.barplot(data=freqAchat_tranche, x=freqAchat_tranche.intervalle_age, y=freqAchat_tranche.Nb_achat)\n",
    "plt.title(\"Nombre d'achat par tranche d'âge\",\n",
    "          fontdict={'family': 'serif', \n",
    "                    'color' : 'black',\n",
    "                    'weight': 'bold',\n",
    "                    'size': 18})\n",
    "plt.ylabel(\"Nombre de ventes\")\n",
    "plt.xticks([0, 1,2,3 ], [\"18-30\", \"30-50\", \"50-70\", \"70-95\"])\n",
    "plt.text(-0.18,82000, '70909')\n",
    "plt.text(0.8,360000, '386799')\n",
    "plt.text(1.8,150000, '141761')\n",
    "plt.text(2.75,45000, '33220')"
   ]
  },
  {
   "cell_type": "code",
   "execution_count": 31,
   "id": "acef2bac",
   "metadata": {},
   "outputs": [
    {
     "name": "stdout",
     "output_type": "stream",
     "text": [
      "Nombre de CA par tranche d'âge :\n",
      "  intervalle_age          ca  ca_pct\n",
      "0       [18, 30)  2855786.86   26.02\n",
      "1       [30, 50)  5220032.00   47.56\n",
      "2       [50, 70)  2344479.50   21.36\n",
      "3       [70, 95)   554655.46    5.05\n",
      "total :  10974953.82\n",
      "\n",
      "Panier moyen par tranche d'âge :\n",
      "intervalle_age\n",
      "[18, 30)    40.27\n",
      "[30, 50)    13.50\n",
      "[50, 70)    16.54\n",
      "[70, 95)    16.70\n",
      "Name: price, dtype: float64\n",
      "\n",
      "Panier moyen par tranche d'âge et categ :\n",
      "categ               0      1      2\n",
      "intervalle_age                     \n",
      "[18, 30)        10.65  20.50  75.47\n",
      "[30, 50)        10.63  20.46  81.41\n",
      "[50, 70)        10.66  20.50  82.38\n",
      "[70, 95)        10.68  20.47  72.00\n"
     ]
    }
   ],
   "source": [
    "# CA par tranche d'âge\n",
    "ca_age = rapport.groupby('intervalle_age')['price'].sum().reset_index()\n",
    "ca_age.columns = ['intervalle_age', 'ca']\n",
    "total = ca_age.ca.sum()\n",
    "ca_age['ca_pct'] = round((ca_age['ca'] * 100 )/ total,2)\n",
    "print(\"Nombre de CA par tranche d'âge :\")\n",
    "print(ca_age)\n",
    "print(\"total : \", total)\n",
    "\n",
    "print()\n",
    "\n",
    "#Panier moyen par tr d'âge :\n",
    "pan_age = rapport.groupby('intervalle_age')['price'].mean()\n",
    "print(\"Panier moyen par tranche d'âge :\")\n",
    "print(round(pan_age,2))\n",
    "\n",
    "print()\n",
    "\n",
    "pan_age_categ = pd.crosstab(index=rapport['intervalle_age'], columns=rapport['categ'], values=rapport['price'], aggfunc='mean')\n",
    "print(\"Panier moyen par tranche d'âge et categ :\")\n",
    "print(round(pan_age_categ,2))"
   ]
  },
  {
   "cell_type": "code",
   "execution_count": 32,
   "id": "a5388a29",
   "metadata": {},
   "outputs": [
    {
     "name": "stdout",
     "output_type": "stream",
     "text": [
      "\n"
     ]
    },
    {
     "data": {
      "text/plain": [
       "<matplotlib.legend.Legend at 0x170bf0cd340>"
      ]
     },
     "execution_count": 32,
     "metadata": {},
     "output_type": "execute_result"
    },
    {
     "data": {
      "image/png": "[encoded data removed]",
      "text/plain": [
       "<Figure size 648x648 with 1 Axes>"
      ]
     },
     "metadata": {},
     "output_type": "display_data"
    },
    {
     "data": {
      "image/png": "[encoded data removed]",
      "text/plain": [
       "<Figure size 648x648 with 1 Axes>"
      ]
     },
     "metadata": {},
     "output_type": "display_data"
    }
   ],
   "source": [
    "# Proportion de vente par tranche d'âge \n",
    "plt.figure(figsize=(9,9))\n",
    "plt.pie(freqAchat_tranche['Nb_achat'],labels=[\"18-30\",\"30-50\",\"50-70\",\"70-95\"],normalize = True,autopct =lambda x: str(round(x, 2)) + '%' )\n",
    "plt.title(\"Proportion de vente par tranche d'âge\",fontdict={'family': 'serif', 'color' : 'black','weight': 'bold','size': 18})\n",
    "my_circle=plt.Circle( (0,0), 0.7, color='white')\n",
    "p=plt.gcf()\n",
    "p.gca().add_artist(my_circle)\n",
    "plt.legend(loc='best')\n",
    "      \n",
    "print()\n",
    "      \n",
    "      \n",
    "plt.figure(figsize=(9,9))\n",
    "plt.pie(ca_age['ca'],labels=[\"18-30\",\"30-50\",\"50-70\",\"70-95\"],normalize = True,autopct =lambda x: str(round(x, 2)) + '%' )\n",
    "my_circle=plt.Circle( (0,0), 0.7, color='white')\n",
    "p=plt.gcf()\n",
    "p.gca().add_artist(my_circle)\n",
    "plt.title(\"Proportion de CA par tranche d'âge\",fontdict={'family': 'serif', 'color' : 'black','weight': 'bold','size': 18})\n",
    "plt.legend(loc='lower left')"
   ]
  },
  {
   "cell_type": "code",
   "execution_count": 33,
   "id": "3b1a6332",
   "metadata": {},
   "outputs": [
    {
     "name": "stdout",
     "output_type": "stream",
     "text": [
      "Vente par catégorie et tranche d'âge :\n",
      "intervalle_age  categ\n",
      "[18, 30)        0         15938\n",
      "                1         26610\n",
      "                2         28361\n",
      "[30, 50)        0        292302\n",
      "                1         91549\n",
      "                2          2948\n",
      "[50, 70)        0         64883\n",
      "                1         75637\n",
      "                2          1241\n",
      "[70, 95)        0         14370\n",
      "                1         18552\n",
      "                2           298\n",
      "Name: session_id, dtype: int64\n"
     ]
    }
   ],
   "source": [
    "vente_age_categ = rapport.groupby(['intervalle_age', 'categ'])['session_id'].count()\n",
    "print(\"Vente par catégorie et tranche d'âge :\")\n",
    "print(vente_age_categ)\n"
   ]
  },
  {
   "cell_type": "markdown",
   "id": "21fd9e8f",
   "metadata": {},
   "source": [
    "# Courbe de lorenz "
   ]
  },
  {
   "cell_type": "code",
   "execution_count": 69,
   "id": "c59dbdec",
   "metadata": {},
   "outputs": [
    {
     "name": "stdout",
     "output_type": "stream",
     "text": [
      "\n",
      "Courbe Lorenz : \n",
      "Gini :  0.4\n"
     ]
    },
    {
     "data": {
      "image/png": "[encoded data removed]",
      "text/plain": [
       "<Figure size 432x288 with 1 Axes>"
      ]
     },
     "metadata": {
      "needs_background": "light"
     },
     "output_type": "display_data"
    }
   ],
   "source": [
    "Lorenz_gini(rapport)"
   ]
  },
  {
   "cell_type": "markdown",
   "id": "f4e022fc",
   "metadata": {},
   "source": [
    "**Indice (ou coefficient) de gini :**\n",
    "Plus l'écart entre la courbe de Lorenz et la première bissectrice est grand, plus le coefficient de Gini est grand.\n",
    "0 = égalité parfaite, 1=inégalité extrême. \n",
    "Ici : 0.45. Nous sommes donc entre les deux, c a d 45% des clients rapportent 55% du CA "
   ]
  },
  {
   "cell_type": "markdown",
   "id": "592d5ce3",
   "metadata": {},
   "source": [
    "# Concernant le type "
   ]
  },
  {
   "cell_type": "code",
   "execution_count": 35,
   "id": "83d474b5",
   "metadata": {},
   "outputs": [
    {
     "name": "stdout",
     "output_type": "stream",
     "text": [
      "Type de clients\n",
      "f    329215\n",
      "m    303474\n",
      "Name: sex, dtype: int64\n",
      "Sur toutes les ventes, 303474 sont des hommes et 329215 sont des femmes\n",
      "\n",
      "\n",
      "Nb de vente par genre et tranche d'âge\n",
      "sex                  f       m\n",
      "intervalle_age                \n",
      "[18, 30)         36580   34329\n",
      "[30, 50)        200177  186622\n",
      "[50, 70)         73489   68272\n",
      "[70, 95)         18969   14251\n",
      "\n",
      "\n",
      "Nb de vente par catégorie\n",
      "sex         f       m\n",
      "categ                \n",
      "0      200904  186589\n",
      "1      111331  101017\n",
      "2       16980   15868\n",
      "\n",
      "\n",
      "Nb de vente par tranche d'âge et catégorie\n",
      "intervalle_age  [18, 30)  [30, 50)  [50, 70)  [70, 95)\n",
      "categ sex                                             \n",
      "0     f             8306    151116     33390      8092\n",
      "      m             7632    141186     31493      6278\n",
      "1     f            13703     47446     39475     10707\n",
      "      m            12907     44103     36162      7845\n",
      "2     f            14571      1615       624       170\n",
      "      m            13790      1333       617       128\n",
      "\n",
      "\n"
     ]
    },
    {
     "data": {
      "text/plain": [
       "<matplotlib.legend.Legend at 0x170cbed2a30>"
      ]
     },
     "execution_count": 35,
     "metadata": {},
     "output_type": "execute_result"
    },
    {
     "data": {
      "image/png": "[encoded data removed]",
      "text/plain": [
       "<Figure size 648x648 with 1 Axes>"
      ]
     },
     "metadata": {},
     "output_type": "display_data"
    }
   ],
   "source": [
    "# Pie chart pour femme et homme comparaison type clientèle\n",
    "print(\"Type de clients\")\n",
    "total_f_h = rapport['sex'].value_counts()\n",
    "print(total_f_h)\n",
    "print(\"Sur toutes les ventes, 303474 sont des hommes et 329215 sont des femmes\")\n",
    "\n",
    "print()\n",
    "print()\n",
    "\n",
    "print(\"Nb de vente par genre et tranche d'âge\")\n",
    "df_crosstab_type_age = pd.crosstab(rapport['intervalle_age'],\n",
    "                                    rapport['sex'])\n",
    "print(df_crosstab_type_age)\n",
    "\n",
    "print()\n",
    "print()\n",
    "\n",
    "print(\"Nb de vente par catégorie\")\n",
    "df_crosstab_type_categ = pd.crosstab(rapport['categ'],\n",
    "                                    rapport['sex'])\n",
    "print(df_crosstab_type_categ)\n",
    "\n",
    "print()\n",
    "print()\n",
    "\n",
    "print(\"Nb de vente par tranche d'âge et catégorie\")\n",
    "df_crosstab_type_categ_age = pd.crosstab([rapport.categ, rapport.sex],\n",
    "                                    rapport['intervalle_age'])\n",
    "print(df_crosstab_type_categ_age)\n",
    "\n",
    "print()\n",
    "print()\n",
    "\n",
    "graph_nb_type = [303474,329215]\n",
    "plt.figure(figsize=(9,9))\n",
    "plt.pie(graph_nb_type, labels=[\"Hommes\", \"Femmes\"], normalize = True,autopct =lambda x: str(round(x, 2)) + '%' )\n",
    "my_circle=plt.Circle( (0,0), 0.7, color='white')\n",
    "p=plt.gcf()\n",
    "p.gca().add_artist(my_circle)\n",
    "plt.title(\"Type de la clientèle\",fontdict={'family': 'serif', 'color' : 'black', 'weight': 'bold','size': 18})\n",
    "plt.legend()"
   ]
  },
  {
   "cell_type": "code",
   "execution_count": 36,
   "id": "f421892d",
   "metadata": {},
   "outputs": [
    {
     "name": "stdout",
     "output_type": "stream",
     "text": [
      "Nombre de vente par type client et catégorie :\n",
      "  sex  categ  session_id\n",
      "0   f      0      200904\n",
      "1   f      1      111331\n",
      "2   f      2       16980\n",
      "3   m      0      186589\n",
      "4   m      1      101017\n",
      "5   m      2       15868\n",
      "\n",
      "Nombre de CA par type client et âge :\n",
      "  sex  categ       price\n",
      "0   f      0  2133939.52\n",
      "1   f      1  2285170.48\n",
      "2   f      2  1288155.25\n",
      "3   m      0  1987516.85\n",
      "4   m      1  2064262.51\n",
      "5   m      2  1215909.21\n"
     ]
    }
   ],
   "source": [
    "# Nb de ventes totales par Type client et categ\n",
    "genre_vente = rapport.groupby(['sex', 'categ'], as_index=False)['session_id'].count()\n",
    "print(\"Nombre de vente par type client et catégorie :\")\n",
    "print(genre_vente)\n",
    "\n",
    "print()\n",
    "\n",
    "# CA global par type client et categ\n",
    "genre_prix = rapport.groupby(['sex', 'categ'], as_index=False)['price'].sum()\n",
    "print('Nombre de CA par type client et âge :')\n",
    "print(genre_prix)\n"
   ]
  },
  {
   "cell_type": "code",
   "execution_count": 37,
   "id": "54e21be7",
   "metadata": {},
   "outputs": [
    {
     "name": "stdout",
     "output_type": "stream",
     "text": [
      "Le CA global des femmes est de : 5707265.25\n",
      "Le CA global des hommes est de : 5267688.57\n",
      "\n"
     ]
    },
    {
     "data": {
      "text/plain": [
       "<matplotlib.legend.Legend at 0x170bf093670>"
      ]
     },
     "execution_count": 37,
     "metadata": {},
     "output_type": "execute_result"
    },
    {
     "data": {
      "image/png": "[encoded data removed]",
      "text/plain": [
       "<Figure size 648x648 with 1 Axes>"
      ]
     },
     "metadata": {},
     "output_type": "display_data"
    }
   ],
   "source": [
    "# On va faire deux df par genre pour si besoin mieux les manipuler par la suite\n",
    "\n",
    "femmes_df = rapport.loc[rapport['sex'] == 'f']\n",
    "total_CA_femmes = femmes_df.price.sum()\n",
    "print(\"Le CA global des femmes est de :\",round(total_CA_femmes,2))\n",
    "hommes_df = rapport.loc[rapport['sex'] == 'm']\n",
    "total_CA_hommes = hommes_df.price.sum()\n",
    "print(\"Le CA global des hommes est de :\",round(total_CA_hommes,2))\n",
    "\n",
    "\n",
    "print()\n",
    "\n",
    "\n",
    "graph=[5267688.57, 5707265.25 ]\n",
    "plt.figure(figsize=(9,9))\n",
    "plt.pie(graph, labels=[\"Hommes\", \"Femmes\"], normalize = True,autopct =lambda x: str(round(x, 2)) + '%' )\n",
    "my_circle=plt.Circle( (0,0), 0.7, color='white')\n",
    "p=plt.gcf()\n",
    "p.gca().add_artist(my_circle)\n",
    "plt.title(\"CA global par genre\",fontdict={'family': 'serif', 'color' : 'black', 'weight': 'bold','size': 18})\n",
    "plt.legend()"
   ]
  },
  {
   "cell_type": "code",
   "execution_count": 38,
   "id": "aedfeceb",
   "metadata": {},
   "outputs": [
    {
     "data": {
      "image/png": "[encoded data removed]",
      "text/plain": [
       "<Figure size 648x648 with 1 Axes>"
      ]
     },
     "metadata": {
      "needs_background": "light"
     },
     "output_type": "display_data"
    },
    {
     "data": {
      "image/png": "[encoded data removed]",
      "text/plain": [
       "<Figure size 648x648 with 1 Axes>"
      ]
     },
     "metadata": {
      "needs_background": "light"
     },
     "output_type": "display_data"
    }
   ],
   "source": [
    "# graph nb de ventes totales par Type client et categ\n",
    "y= [200904,111331,16980] # femmes\n",
    "x = [\"catégorie 0\", 'catégorie 1', 'catégorie 2']\n",
    "y1 = [186589, 101017,15868] # hommes\n",
    "x_pos = [0.5,1.5 ,2.5] # Permet de décaler le bar de femme bien à côté de y \n",
    "plt.figure(figsize=(9,9))\n",
    "plt.bar(x, y1, width=0.4 , label='Homme')\n",
    "plt.bar(x_pos, y, color='orange', width=-0.4, label='Femme')\n",
    "plt.title(\"Nombre de ventes totales par type et catégories\", pad=(20),fontdict={'family': 'serif', 'color' : 'black','weight': 'bold','size': 18});\n",
    "plt.ylabel('Nombre de vente')\n",
    "plt.xticks([0.25, 1.25,2.25], [\"catégorie 0\", 'catégorie 1', 'catégorie 2']) # Décale les étiquettes categ où on veut\n",
    "plt.legend()\n",
    "#plt.annotate(y[0], (1,y[0]/2), ha=\"center\")\n",
    "plt.annotate(y1[0], ( 0,y1[0]/2),ha=\"center\")\n",
    "plt.annotate(y1[1], (1,y[1]/2), ha=\"center\")\n",
    "plt.annotate(y1[2], (2,y[2]/2), ha=\"center\")\n",
    "plt.annotate(y[0], ( 0.5,y1[0]/2),ha=\"center\")\n",
    "plt.annotate(y[1], ( 1.5,y1[1]/2),ha=\"center\")\n",
    "plt.annotate(y[2], ( 2.5,y1[2]/2),ha=\"center\")\n",
    "plt.show()\n",
    "\n",
    "\n",
    "\n",
    "\n",
    "\n",
    "#Graph CA global par type client et categ\n",
    "y= [2133939.52,2285170.48,1288155.25] # femmes\n",
    "x = [\"catégorie 0\", 'catégorie 1', 'catégorie 2']\n",
    "y1 = [1987516.85, 2064262.51,1215909.21] # hommes\n",
    "x_pos = [0.5,1.5 ,2.5] # Permet de décaler le bar de femme bien à côté de y \n",
    "plt.figure(figsize=(9,9))\n",
    "plt.bar(x, y1, width=0.4 , label='Homme')\n",
    "plt.bar(x_pos, y, color='orange', width=-0.4, label='Femme')\n",
    "plt.title(\"Chiffre d'affaire global par type et catégories\", pad=(20),fontdict={'family': 'serif', 'color' : 'black','weight': 'bold','size': 18});\n",
    "plt.ylabel(\"Chiffre d'affaire (millions)\")\n",
    "plt.xticks([0.25, 1.25,2.25], [\"catégorie 0\", 'catégorie 1', 'catégorie 2']) # Décale les étiquettes categ où on veut\n",
    "plt.legend()\n",
    "#plt.annotate(y[0], (1,y[0]/2), ha=\"center\")\n",
    "plt.annotate(y1[0], ( 0,y1[0]/0.98),ha=\"center\")\n",
    "plt.annotate(y1[1], (1,y[1]/1.09), ha=\"center\")\n",
    "plt.annotate(y1[2], (2,y[2]/1.02), ha=\"center\")\n",
    "\n",
    "plt.annotate(y[0], ( 0.5,y1[0]/0.915),ha=\"center\")\n",
    "plt.annotate(y[1], ( 1.5,y1[1]/0.89),ha=\"center\")\n",
    "plt.annotate(y[2], ( 2.5,y1[2]/0.92),ha=\"center\")\n",
    "plt.show()"
   ]
  },
  {
   "cell_type": "code",
   "execution_count": 39,
   "id": "dd9cfb15",
   "metadata": {},
   "outputs": [
    {
     "name": "stdout",
     "output_type": "stream",
     "text": [
      "Panier moyen par genre :\n",
      "sex\n",
      "f    17.34\n",
      "m    17.36\n",
      "Name: price, dtype: float64\n",
      "\n",
      "Panier moyen par genre et categ\n",
      "sex  categ\n",
      "f    0        10.62\n",
      "     1        20.53\n",
      "     2        75.86\n",
      "m    0        10.65\n",
      "     1        20.43\n",
      "     2        76.63\n",
      "Name: price, dtype: float64\n"
     ]
    }
   ],
   "source": [
    "# Panier moyen selon type client : \n",
    "pan = rapport.groupby('sex')['price'].mean()\n",
    "print('Panier moyen par genre :')\n",
    "print(round(pan,2))\n",
    "\n",
    "print()\n",
    "\n",
    "#Panier moyen selon type client et par categ :\n",
    "pan_cat_h_f = rapport.groupby(['sex', 'categ'])['price'].mean()\n",
    "print(\"Panier moyen par genre et categ\")\n",
    "print(round(pan_cat_h_f,2))"
   ]
  },
  {
   "cell_type": "markdown",
   "id": "584590b8",
   "metadata": {},
   "source": [
    "<div style=\"background-color: RGB(51,165,182);\" >\n",
    "<h2 style=\"margin: auto; padding: 20px; color:#fff; \">2 - Corrélations </h2>\n",
    "</div>"
   ]
  },
  {
   "cell_type": "markdown",
   "id": "28764db9",
   "metadata": {},
   "source": [
    "Préambule :\n",
    "\n",
    "**Une corrélation** est une mesure statistique qui décrit la relation (lien) entre deux variables\n",
    "\n",
    "**Une causalité** affirme qu'une variable agit sur une autre. Il est important de préciser qu'on n'affirmera pas ici qu'il y a une causalité. Simplement une corrélation.\n",
    "    \n",
    "**Test para** : Les tests paramétriques sont des tests dont l'échantillon que nous étudions suit une certaine loi (loi normale par exemple (**Test de normalité**) ou vérifie un certain nombre d'hypothèses. Ils sont plus puissants mais nécessitent un certain nombres d'hypothèses à vérifier.\n",
    "\n",
    "**Test non para** : plus robuste, alternative aux tests para. Ils sont utiles lorsque l'hypothèse de normalité ne tient pas et que l'effectif d'échantillon est faible. \n",
    "    \n",
    "**Seuil de signification \"alpha\"** sera tjrs de 0.05 car on ne nous a pas précisé le niveau de confiance souhaité : par défaut ça sera 95% . Alpha étant la probabilité ou le risque (5% doit être < ou = à 0.05) de rejeter à tord l'H0.\n",
    "Si le le résultat est significatif : génère une p value < ou = au niveau de signification, un résultat est alors défini comme statistiquement significatif et ne sera donc pas considéré comme un événement fortuit. \n",
    "\n",
    "**P value** est la probabilité d'observer un résultat : permet de confirmer ou d'infirmer notre hypthèse selon alpha (seuil de signification)) Si pvalue < alpha = rejet H0, si p value > 0.05, H0 non rejetée.\n",
    "\n",
    "**test de normalité** : Lorsque la taille des échantillons est suffisamment grande (n >30), on peut ignorer le test de normalité sans problème majeur. Le théorème central limite nous dit que, la distribution de l’échantillonnage tend à suivre la loi normale lorsque la taille est grande ( n > 30). Mais on va quand même faire des tests de significativité :\n",
    "Le test de significativité compare la distribution d’un échantillon donné à celle de la loi normale et renvoie une p-value. Il y en a plein et chacun est différent : Chaque test calcule une statistique spécifique au test. \n",
    "ex : test de Kolmogorov-Smirnov \"K-S\" (variable continue) et le test de Shapiro-Wilk. (petit échantillon : jusqu'à 50 valeurs), normaltest (test de D'Agostino et Pearson qui combine skew et kurtosis)\n",
    "\n",
    "**loi normale** : Courbe \"gaussienne\" en cloche, symétrique, données situent autour de la moy sans biais à G ni à Dte, Z scores 65% des D -1+1, 95% -2+2 et 99%-3+3"
   ]
  },
  {
   "cell_type": "markdown",
   "id": "5c1b338d",
   "metadata": {},
   "source": [
    "**Méthodologie** :\n",
    "\n",
    "- Quelles sont le type de mes variables ? \n",
    "- Je choisie un test\n",
    "- Quelles sont les conditions pour que ce test soit applicable ? \n",
    "- Visuel \n",
    "- Optionnel : Si je n'ai pas les conditions réunies, quelles sont mes alternatives ? (non para ?)\n",
    "- Test et résultat"
   ]
  },
  {
   "cell_type": "markdown",
   "id": "592ba10e",
   "metadata": {},
   "source": [
    "<div style=\"border: 1px solid RGB(51,165,182);\" >\n",
    "<h3 style=\"margin: auto; padding: 10px; color: RGB(51,165,182); \">4.1- Type client par catégorie </h3>\n",
    "</div>"
   ]
  },
  {
   "cell_type": "markdown",
   "id": "de46151e",
   "metadata": {},
   "source": [
    "Type et categ sont deux variables qualitatives : **Test de Khi-2** indique si les fréquences d’observation d’une catégorie dépendent des modalités de l’autre catégorie (corrélation) "
   ]
  },
  {
   "cell_type": "markdown",
   "id": "f361a6ca",
   "metadata": {},
   "source": [
    "**Conditions test de khi-2**\n",
    "\n",
    "Comporte deux groupes (ou deux mesures) et vars qualitatives : va comparer les fréquences de ces deux groupes afin d'inférer une relation entre X et Y. \n",
    "Le khi-2 est un test para, assume que les échantillons suivent une loi normale.\n",
    "\n",
    "**Alternative** : test exact de fisher (non para)"
   ]
  },
  {
   "cell_type": "code",
   "execution_count": 40,
   "id": "acdb04a1",
   "metadata": {},
   "outputs": [
    {
     "data": {
      "text/html": [
       "<div>\n",
       "<style scoped>\n",
       "    .dataframe tbody tr th:only-of-type {\n",
       "        vertical-align: middle;\n",
       "    }\n",
       "\n",
       "    .dataframe tbody tr th {\n",
       "        vertical-align: top;\n",
       "    }\n",
       "\n",
       "    .dataframe thead th {\n",
       "        text-align: right;\n",
       "    }\n",
       "</style>\n",
       "<table border=\"1\" class=\"dataframe\">\n",
       "  <thead>\n",
       "    <tr style=\"text-align: right;\">\n",
       "      <th>categ</th>\n",
       "      <th>0</th>\n",
       "      <th>1</th>\n",
       "      <th>2</th>\n",
       "    </tr>\n",
       "    <tr>\n",
       "      <th>sex</th>\n",
       "      <th></th>\n",
       "      <th></th>\n",
       "      <th></th>\n",
       "    </tr>\n",
       "  </thead>\n",
       "  <tbody>\n",
       "    <tr>\n",
       "      <th>f</th>\n",
       "      <td>200904</td>\n",
       "      <td>111331</td>\n",
       "      <td>16980</td>\n",
       "    </tr>\n",
       "    <tr>\n",
       "      <th>m</th>\n",
       "      <td>186589</td>\n",
       "      <td>101017</td>\n",
       "      <td>15868</td>\n",
       "    </tr>\n",
       "  </tbody>\n",
       "</table>\n",
       "</div>"
      ],
      "text/plain": [
       "categ       0       1      2\n",
       "sex                         \n",
       "f      200904  111331  16980\n",
       "m      186589  101017  15868"
      ]
     },
     "execution_count": 40,
     "metadata": {},
     "output_type": "execute_result"
    }
   ],
   "source": [
    "# TABLEAU DE CONTINGENCE :\n",
    "#On avait déjà rélisé un groupby genre/categ mais j'ai voulu essayé avec crosstab\n",
    "#(Note à moi-même : margins=True, margins_name=\"total\")\n",
    "contigency=  pd.crosstab(index=rapport[\"sex\"], columns=rapport[\"categ\"] )\n",
    "contigency"
   ]
  },
  {
   "cell_type": "code",
   "execution_count": 41,
   "id": "2f733b0e",
   "metadata": {},
   "outputs": [
    {
     "data": {
      "text/html": [
       "<div>\n",
       "<style scoped>\n",
       "    .dataframe tbody tr th:only-of-type {\n",
       "        vertical-align: middle;\n",
       "    }\n",
       "\n",
       "    .dataframe tbody tr th {\n",
       "        vertical-align: top;\n",
       "    }\n",
       "\n",
       "    .dataframe thead th {\n",
       "        text-align: right;\n",
       "    }\n",
       "</style>\n",
       "<table border=\"1\" class=\"dataframe\">\n",
       "  <thead>\n",
       "    <tr style=\"text-align: right;\">\n",
       "      <th>categ</th>\n",
       "      <th>0</th>\n",
       "      <th>1</th>\n",
       "      <th>2</th>\n",
       "    </tr>\n",
       "    <tr>\n",
       "      <th>sex</th>\n",
       "      <th></th>\n",
       "      <th></th>\n",
       "      <th></th>\n",
       "    </tr>\n",
       "  </thead>\n",
       "  <tbody>\n",
       "    <tr>\n",
       "      <th>f</th>\n",
       "      <td>0.610252</td>\n",
       "      <td>0.338171</td>\n",
       "      <td>0.051577</td>\n",
       "    </tr>\n",
       "    <tr>\n",
       "      <th>m</th>\n",
       "      <td>0.614843</td>\n",
       "      <td>0.332869</td>\n",
       "      <td>0.052288</td>\n",
       "    </tr>\n",
       "  </tbody>\n",
       "</table>\n",
       "</div>"
      ],
      "text/plain": [
       "categ         0         1         2\n",
       "sex                                \n",
       "f      0.610252  0.338171  0.051577\n",
       "m      0.614843  0.332869  0.052288"
      ]
     },
     "execution_count": 41,
     "metadata": {},
     "output_type": "execute_result"
    }
   ],
   "source": [
    "# fréquence en %\n",
    "contigency_pct = pd.crosstab(rapport['sex'], rapport['categ'], normalize='index')\n",
    "contigency_pct"
   ]
  },
  {
   "cell_type": "code",
   "execution_count": 42,
   "id": "5ca756e6",
   "metadata": {},
   "outputs": [
    {
     "data": {
      "image/png": "[encoded data removed]",
      "text/plain": [
       "<Figure size 432x288 with 2 Axes>"
      ]
     },
     "metadata": {
      "needs_background": "light"
     },
     "output_type": "display_data"
    }
   ],
   "source": [
    "# Visuel heatmap\n",
    "sns.heatmap(contigency, cmap='rocket_r', annot=True, fmt='g');\n",
    "plt.title(\"Type de client par catégorie\", pad=(20),fontdict={'family': 'serif', 'color' : 'black','weight': 'bold','size': 18});\n"
   ]
  },
  {
   "cell_type": "markdown",
   "id": "f7a2c9ac",
   "metadata": {},
   "source": [
    "On constate qu'il y a un très léger écart entre homme et femme par catégorie.\n",
    "\n",
    "- Categ 0 = 0.004591 de différence soit 0.4%\n",
    "- Categ 1 = 0.005302 de différence soit 0.5%\n",
    "- Categ 2 = 0.0007106 de différence soit 0.07%\n",
    "\n"
   ]
  },
  {
   "cell_type": "markdown",
   "id": "041a8a3a",
   "metadata": {},
   "source": [
    "### **Test de normalité** :\n",
    "\n",
    "**H0** : nos échantillons suivent une loi normale\n",
    "\n",
    "**H1** : nos échantillons ne suivent pas une loi normale\n",
    "\n",
    "\n",
    "Test de Shapiro :  'statistic' = basé sur la corrélation, + il est proche de 1, mieux il montre que les données correspondent à la distribution normale et 'pvalue'."
   ]
  },
  {
   "cell_type": "code",
   "execution_count": 43,
   "id": "c1b4994a",
   "metadata": {},
   "outputs": [
    {
     "name": "stdout",
     "output_type": "stream",
     "text": [
      "statistic 0.888\n",
      "p-value 0.3066459894180298\n",
      "H0 non rejetée\n"
     ]
    }
   ],
   "source": [
    "# Test de Shapiro-Wilk : car échantillon de petite taille\n",
    "from scipy.stats import shapiro\n",
    "alpha=0.05 \n",
    "resultat = shapiro(contigency)\n",
    "print(\"statistic\", round(resultat[0],3))\n",
    "print(\"p-value\", resultat[1])\n",
    "if resultat[1] < alpha:\n",
    "    print('H0 rejetée')\n",
    "else:\n",
    "    print(\"H0 non rejetée\")"
   ]
  },
  {
   "cell_type": "markdown",
   "id": "06973a71",
   "metadata": {},
   "source": [
    "pvalue > alpha = **H0 non rejetée = nos échantillons suivent une loi normale**"
   ]
  },
  {
   "cell_type": "markdown",
   "id": "2f19597e",
   "metadata": {},
   "source": [
    "On va voir avec le khi-2 s'il semble vraiment y avoir un lien :  \n",
    "\n",
    "### Hypothèses :\n",
    "\n",
    "**H0** = Categ et le genre d'un client sont indépendants (pas de lien)\n",
    "\n",
    "\n",
    "**H1** = Le genre d'un client va influencer l'achat d'une des catégories de pdt (lien)"
   ]
  },
  {
   "cell_type": "code",
   "execution_count": 44,
   "id": "3530bbb7",
   "metadata": {},
   "outputs": [
    {
     "name": "stdout",
     "output_type": "stream",
     "text": [
      "stat de test (vraisemblance) 20.2\n",
      "p-value 0.0\n",
      "degré de liberté 2\n",
      "H0 rejetée\n"
     ]
    },
    {
     "data": {
      "image/png": "[encoded data removed]",
      "text/plain": [
       "<Figure size 432x288 with 2 Axes>"
      ]
     },
     "metadata": {
      "needs_background": "light"
     },
     "output_type": "display_data"
    }
   ],
   "source": [
    "# Chi-square test of independence\n",
    "from scipy.stats import chi2_contingency\n",
    "alpha = 0.05 \n",
    "\n",
    "chi2, p, dl, contingent_theorique = chi2_contingency(contigency) \n",
    "# chie2=coef de corrélation, dof=degré de liberté, pvalue\n",
    "\n",
    "#Dans les statistiques, les degrés de liberté sont utilisés pour définir le nombre de grandeurs indépendantes pouvant être affectées à une distribution statistique\n",
    "#\n",
    "\n",
    "print(\"stat de test (vraisemblance)\", round(chi2,3))\n",
    "print(\"p-value\", round(p,3))\n",
    "print(\"degré de liberté\", round(dl,3))\n",
    "#print(\"Valeurs théoriques :\", contingent_theorique)\n",
    "if p < alpha:\n",
    "    print('H0 rejetée')\n",
    "else:\n",
    "    print(\"H0 non rejetée\")\n",
    "    \n",
    "sns.heatmap(contingent_theorique, cmap='rocket_r', annot=True, fmt='g');\n",
    "plt.title('Fréquence théorique', pad=(20),fontdict={'family': 'serif', 'color' : 'black','weight': 'bold','size': 18});"
   ]
  },
  {
   "cell_type": "markdown",
   "id": "5ba93fc7",
   "metadata": {},
   "source": [
    "Pvalue < alpha = **H0 rejetée : Il semble y avoir un lien significatif** entre le genre d'un client et les catégories de pdts.\n",
    "\n",
    "Les fréquences théoriques sont relativement proche des fréquences obtenues dans le tableau de contingence.\n",
    "\n",
    "v cramer permet de mesurer la force de l'association entre deux variables nominales .\n",
    "0=aucune association, 1=très forte association"
   ]
  },
  {
   "cell_type": "code",
   "execution_count": 45,
   "id": "1c136a80",
   "metadata": {},
   "outputs": [
    {
     "name": "stdout",
     "output_type": "stream",
     "text": [
      "categ\n",
      "0    0.007\n",
      "1    0.010\n",
      "2    0.025\n",
      "dtype: float64\n"
     ]
    }
   ],
   "source": [
    "# V-Cramer = On connait le coeff de corrélation (20,20% = chi2) mais on ne sait pas sur quelle catégorie le lien est lep plus fort ? \n",
    "X2 = 20.200\n",
    "n = np.sum(contigency)\n",
    "minDim = min(contigency.shape)-1\n",
    "\n",
    "#calculate Cramer's V \n",
    "V = np.sqrt((X2/n) / minDim)\n",
    "\n",
    "#display Cramer's V\n",
    "print(round(V,3))\n"
   ]
  },
  {
   "cell_type": "markdown",
   "id": "38e88582",
   "metadata": {},
   "source": [
    "On note des associations très faibles, notamment 0.025 pour l'association la plus forte :la categ 2"
   ]
  },
  {
   "cell_type": "markdown",
   "id": "8ef7bdd2",
   "metadata": {},
   "source": [
    "<div style=\"border: 1px solid RGB(51,165,182);\" >\n",
    "<h3 style=\"margin: auto; padding: 10px; color: RGB(51,165,182); \">4.2- Montant (CA) et type </h3>\n",
    "</div>"
   ]
  },
  {
   "cell_type": "markdown",
   "id": "99b2428c",
   "metadata": {},
   "source": [
    "Variable quantitative et qualitative : **test de student** = va comparer les moyennes des deux echantillons (t-test) et estimer la probabilité que la différence entre ces deux échantillons soit due au hasard (la p-value).\n",
    "Plus la p-value est petite, plus l'intervention du hasard est peu probable et la différence certaine\n",
    "\n",
    "\n",
    "\n",
    "\n",
    "Conditions :\n",
    "Si les deux groupes d’échantillons (x et y), à comparer, suivent une loi normale;\n",
    "et si les variances des deux groupes égales. (alternative paramètre equal_var=False) \n",
    "\n",
    "\n",
    "Test alternatif : Man-Withney\n",
    "\n",
    "\n",
    "\n",
    "\n",
    "\n",
    "\n"
   ]
  },
  {
   "cell_type": "code",
   "execution_count": 46,
   "id": "9f8f98ab",
   "metadata": {},
   "outputs": [
    {
     "name": "stdout",
     "output_type": "stream",
     "text": [
      "RESULTAT TEST DE NORMALITE NormaltestResult(statistic=324306.357612918, pvalue=0.0)\n"
     ]
    },
    {
     "data": {
      "text/plain": [
       "Text(150, 25000, 'Normalité (p-val) : 0.0')"
      ]
     },
     "execution_count": 46,
     "metadata": {},
     "output_type": "execute_result"
    },
    {
     "data": {
      "text/plain": [
       "<Figure size 576x576 with 0 Axes>"
      ]
     },
     "metadata": {},
     "output_type": "display_data"
    },
    {
     "data": {
      "image/png": "[encoded data removed]",
      "text/plain": [
       "<Figure size 360x360 with 1 Axes>"
      ]
     },
     "metadata": {
      "needs_background": "light"
     },
     "output_type": "display_data"
    }
   ],
   "source": [
    "# D'abord un visuel pour les hommes: \n",
    "\n",
    "df_h = rapport.loc[rapport['sex']== 'm']\n",
    "x = df_h['price']\n",
    "\n",
    "df_f = rapport.loc[rapport['sex']== 'f']\n",
    "y = df_f['price']\n",
    "\n",
    "plt.figure(figsize=(8,8))\n",
    "h = sns.displot(x, bins=25, kde=True)\n",
    "plt.title('CA par hommes')\n",
    "\n",
    "# TEST DE LA NORMALITE\n",
    "t = scipy.stats.normaltest(x)\n",
    "print(\"RESULTAT TEST DE NORMALITE\", t)\n",
    "plt.text(150,25000,\"Normalité (p-val) : \" + str(t.pvalue))"
   ]
  },
  {
   "cell_type": "code",
   "execution_count": 47,
   "id": "9baa20a8",
   "metadata": {},
   "outputs": [
    {
     "name": "stdout",
     "output_type": "stream",
     "text": [
      "RESULTAT TEST DE NORMALITE NormaltestResult(statistic=350987.978824266, pvalue=0.0)\n"
     ]
    },
    {
     "data": {
      "text/plain": [
       "Text(150, 25000, 'Normalité (p-val) : 0.0')"
      ]
     },
     "execution_count": 47,
     "metadata": {},
     "output_type": "execute_result"
    },
    {
     "data": {
      "image/png": "[encoded data removed]",
      "text/plain": [
       "<Figure size 360x360 with 1 Axes>"
      ]
     },
     "metadata": {
      "needs_background": "light"
     },
     "output_type": "display_data"
    }
   ],
   "source": [
    "# Puis pour les femmes\n",
    "f = sns.displot(y, bins=25, kde=True)\n",
    "plt.title('CA par femmes')\n",
    "\n",
    "# TEST DE LA NORMALITE\n",
    "t = scipy.stats.normaltest(y)\n",
    "print(\"RESULTAT TEST DE NORMALITE\", t)\n",
    "plt.text(150,25000,\"Normalité (p-val) : \" + str(t.pvalue))"
   ]
  },
  {
   "cell_type": "markdown",
   "id": "e76ea469",
   "metadata": {},
   "source": [
    "**Test de normalité** :\n",
    "\n",
    "On a utilisé scipy.stats.normaltest()  : fct basé sur le test de D'Agostino et Pearson qui combine skew et kurtosis :\n",
    "\n",
    "**H0** : echantillon suit une loi normale\n",
    "\n",
    "**H1** : ne suit pas une loi normale\n",
    "\n",
    "alpha=0.05\n",
    "\n",
    "Nos deux pvalues sont à 0.00 soit < alpha, on peut rejeter H0 : nos échantillons ne suivent pas une loi normale.\n",
    "\n"
   ]
  },
  {
   "cell_type": "markdown",
   "id": "17ba9ed0",
   "metadata": {},
   "source": [
    "On va regarder **l'égalité des variances** : On va prendre un test non para (Fligner)\n",
    "\n",
    "**H0** : Variance x = variance y\n",
    "\n",
    "**H1** : Variance x =! de variance y"
   ]
  },
  {
   "cell_type": "code",
   "execution_count": 48,
   "id": "9fcfb7a4",
   "metadata": {},
   "outputs": [
    {
     "name": "stdout",
     "output_type": "stream",
     "text": [
      "stat de test 1.056\n",
      "p-value 0.3040176229216234\n",
      "H0 non rejetée\n"
     ]
    }
   ],
   "source": [
    "# On va tester l'égalité de nos variances :\n",
    "from scipy.stats import fligner\n",
    "alpha=0.05\n",
    "\n",
    "resultat = fligner(x, y, center='median')\n",
    "print(\"stat de test\", round(resultat[0],3))\n",
    "print(\"p-value\", resultat[1])\n",
    "if resultat[1] < alpha:\n",
    "    print('H0 rejetée')\n",
    "else:\n",
    "    print(\"H0 non rejetée\")"
   ]
  },
  {
   "cell_type": "markdown",
   "id": "7aa4b5ed",
   "metadata": {},
   "source": [
    "P value > alpha = non rejet de l'hypothèse H0 : Nos deux échantillons semblent avoir des variances égales.\n",
    "\n",
    "Nous avons donc une égalité des variances mais des échantillons qui ne suivent pas une loi normale : au vue du nombre de données que nous avons, nos données ne sont pas obligées de suivre une loi normale, nous pouvons continuer avec le t test "
   ]
  },
  {
   "cell_type": "markdown",
   "id": "48788e47",
   "metadata": {},
   "source": [
    "**Hypothèses pour le t test** :\n",
    "\n",
    "Etre un homme ou une femme influence-t'il le CA (ou montant des achats) ? \n",
    "\n",
    "**H0** = Le type d'un client ne va pas influencer le CA\n",
    "\n",
    "\n",
    "**H1** = Le type d'un client va influencer le CA"
   ]
  },
  {
   "cell_type": "code",
   "execution_count": 49,
   "id": "0df3c5ab",
   "metadata": {},
   "outputs": [
    {
     "name": "stdout",
     "output_type": "stream",
     "text": [
      "stat=0.483,  p=0.629, \n",
      "H0 non rejetée\n"
     ]
    }
   ],
   "source": [
    "# test student (t test) - compare les moyennes\n",
    "from scipy.stats import ttest_ind\n",
    "alpha = 0.05\n",
    "\n",
    "stat, p = ttest_ind(x, y , equal_var=True) #car variance ==\n",
    "\n",
    "print(f'stat=%.3f,  p=%.3f, ' % (stat, p))\n",
    "if p < alpha:\n",
    "    print('H0 rejetée')\n",
    "else:\n",
    "    print('H0 non rejetée')"
   ]
  },
  {
   "cell_type": "markdown",
   "id": "46403d81",
   "metadata": {},
   "source": [
    "p-value > alpha 0.05 = non rejet de l'hypothèse nulle donc pas de corrélation significative entre les deux, on peut maintenir que le type d'un client ne va a priori pas influencer sur le CA."
   ]
  },
  {
   "cell_type": "markdown",
   "id": "f11674c6",
   "metadata": {},
   "source": [
    "<div style=\"border: 1px solid RGB(51,165,182);\" >\n",
    "<h3 style=\"margin: auto; padding: 10px; color: RGB(51,165,182); \">4.3- Age et montant </h3>\n",
    "</div>"
   ]
  },
  {
   "cell_type": "markdown",
   "id": "0c5d6943",
   "metadata": {},
   "source": [
    "Variable quantitative (volonté de choisir age au lieu de var qualitative intervalle_age) pour avoir 2 quantitatives : \n",
    "\n",
    "**Coeff de Pearson** :(para) exprime l'intensité et le sens (positif ou négatif) de la relation linéaire entre deux variables quantitatives . Il assume des valeurs se situant dans l'intervalle qui va de - 1 (nég) à +1 (,0 = pas de corr. Plus ce coefficient est proche de -1 ou +1, plus l'association entre les deux variables est forte, jusqu'à être parfaite.)\n",
    "\n",
    "Conditions : l'existence d'une variance non-nulle sur chacune des deux variables, sous peine de division par zéro, et échantillon doit suivre une loi normale\n",
    "\n",
    "Alternative : Coeff de Spearman (non para)"
   ]
  },
  {
   "cell_type": "code",
   "execution_count": 50,
   "id": "688fd954",
   "metadata": {},
   "outputs": [
    {
     "data": {
      "text/plain": [
       "Text(0, 0.5, 'Montant CA (euros)')"
      ]
     },
     "execution_count": 50,
     "metadata": {},
     "output_type": "execute_result"
    },
    {
     "data": {
      "image/png": "[encoded data removed]",
      "text/plain": [
       "<Figure size 1224x576 with 1 Axes>"
      ]
     },
     "metadata": {
      "needs_background": "light"
     },
     "output_type": "display_data"
    }
   ],
   "source": [
    "# Visuel : \n",
    "ages_montant = rapport.groupby('age', as_index=False)['price'].sum()\n",
    "\n",
    "# Graph \n",
    "X = ages_montant.age\n",
    "Y = ages_montant.price\n",
    "plt.figure(figsize=(17,8))\n",
    "sns.barplot(x=X,y=Y, data=ages_montant)\n",
    "plt.title(\"Montant total par âge\", pad=(20),fontdict={'family': 'serif', 'color' : 'black','weight': 'bold','size': 18});\n",
    "plt.ylabel('Montant CA (euros)')"
   ]
  },
  {
   "cell_type": "markdown",
   "id": "da72bb3b",
   "metadata": {},
   "source": [
    "On constate un outlier (18 ans = tp de personnes agées de 18 ans ???? on se souvient avoir mis ceux de 17 ans dans la case des 18) comme c'est le seul outlier il ne va pas perturber le résultat du test. On ne le touche pas.\n",
    "\n",
    "\n",
    "On s'aperçoit également de deux tendances : de 18 à 43 ans environ, les clients achètent de plus en plus, mais le phénmène s'inverse de 43 à 94 ans. On va donc découper notre échantillon en deux pour les analyser séparemment."
   ]
  },
  {
   "cell_type": "code",
   "execution_count": 51,
   "id": "823f3cce",
   "metadata": {},
   "outputs": [
    {
     "data": {
      "text/html": [
       "<div>\n",
       "<style scoped>\n",
       "    .dataframe tbody tr th:only-of-type {\n",
       "        vertical-align: middle;\n",
       "    }\n",
       "\n",
       "    .dataframe tbody tr th {\n",
       "        vertical-align: top;\n",
       "    }\n",
       "\n",
       "    .dataframe thead th {\n",
       "        text-align: right;\n",
       "    }\n",
       "</style>\n",
       "<table border=\"1\" class=\"dataframe\">\n",
       "  <thead>\n",
       "    <tr style=\"text-align: right;\">\n",
       "      <th></th>\n",
       "      <th>age</th>\n",
       "      <th>price</th>\n",
       "    </tr>\n",
       "  </thead>\n",
       "  <tbody>\n",
       "    <tr>\n",
       "      <th>21</th>\n",
       "      <td>39</td>\n",
       "      <td>277055.87</td>\n",
       "    </tr>\n",
       "    <tr>\n",
       "      <th>22</th>\n",
       "      <td>40</td>\n",
       "      <td>267827.70</td>\n",
       "    </tr>\n",
       "    <tr>\n",
       "      <th>23</th>\n",
       "      <td>41</td>\n",
       "      <td>264307.03</td>\n",
       "    </tr>\n",
       "    <tr>\n",
       "      <th>24</th>\n",
       "      <td>42</td>\n",
       "      <td>304340.51</td>\n",
       "    </tr>\n",
       "    <tr>\n",
       "      <th>25</th>\n",
       "      <td>43</td>\n",
       "      <td>327571.29</td>\n",
       "    </tr>\n",
       "  </tbody>\n",
       "</table>\n",
       "</div>"
      ],
      "text/plain": [
       "    age      price\n",
       "21   39  277055.87\n",
       "22   40  267827.70\n",
       "23   41  264307.03\n",
       "24   42  304340.51\n",
       "25   43  327571.29"
      ]
     },
     "execution_count": 51,
     "metadata": {},
     "output_type": "execute_result"
    }
   ],
   "source": [
    "ages_montant1 = ages_montant.loc[ages_montant['age'] < 44]\n",
    "ages_montant1.tail()"
   ]
  },
  {
   "cell_type": "code",
   "execution_count": 52,
   "id": "98221e7a",
   "metadata": {},
   "outputs": [
    {
     "data": {
      "text/html": [
       "<div>\n",
       "<style scoped>\n",
       "    .dataframe tbody tr th:only-of-type {\n",
       "        vertical-align: middle;\n",
       "    }\n",
       "\n",
       "    .dataframe tbody tr th {\n",
       "        vertical-align: top;\n",
       "    }\n",
       "\n",
       "    .dataframe thead th {\n",
       "        text-align: right;\n",
       "    }\n",
       "</style>\n",
       "<table border=\"1\" class=\"dataframe\">\n",
       "  <thead>\n",
       "    <tr style=\"text-align: right;\">\n",
       "      <th></th>\n",
       "      <th>age</th>\n",
       "      <th>price</th>\n",
       "    </tr>\n",
       "  </thead>\n",
       "  <tbody>\n",
       "    <tr>\n",
       "      <th>26</th>\n",
       "      <td>44</td>\n",
       "      <td>300448.91</td>\n",
       "    </tr>\n",
       "    <tr>\n",
       "      <th>27</th>\n",
       "      <td>45</td>\n",
       "      <td>253474.32</td>\n",
       "    </tr>\n",
       "    <tr>\n",
       "      <th>28</th>\n",
       "      <td>46</td>\n",
       "      <td>230773.51</td>\n",
       "    </tr>\n",
       "    <tr>\n",
       "      <th>29</th>\n",
       "      <td>47</td>\n",
       "      <td>246362.52</td>\n",
       "    </tr>\n",
       "    <tr>\n",
       "      <th>30</th>\n",
       "      <td>48</td>\n",
       "      <td>240618.96</td>\n",
       "    </tr>\n",
       "  </tbody>\n",
       "</table>\n",
       "</div>"
      ],
      "text/plain": [
       "    age      price\n",
       "26   44  300448.91\n",
       "27   45  253474.32\n",
       "28   46  230773.51\n",
       "29   47  246362.52\n",
       "30   48  240618.96"
      ]
     },
     "execution_count": 52,
     "metadata": {},
     "output_type": "execute_result"
    }
   ],
   "source": [
    "ages_montant2 = ages_montant.loc[ages_montant['age'] > 43]\n",
    "ages_montant2.head()"
   ]
  },
  {
   "cell_type": "markdown",
   "id": "428338a8",
   "metadata": {},
   "source": [
    "**Test de normalité** : Smirnov-Kolmogorov\n",
    "\n",
    "**H0** : échantillon suit une loi normale\n",
    "\n",
    "**H1** : échantillon ne suit pas une loi normale"
   ]
  },
  {
   "cell_type": "code",
   "execution_count": 53,
   "id": "fde3d057",
   "metadata": {},
   "outputs": [
    {
     "name": "stdout",
     "output_type": "stream",
     "text": [
      "stat de test 0.8627450980392157\n",
      "p-value 1.2179146580137967e-13\n",
      "H0 rejetée\n"
     ]
    }
   ],
   "source": [
    "# Test de KS :\n",
    "alpha = 0.05\n",
    "resultat = scipy.stats.kstest(ages_montant1.price, ages_montant2.price, 'norm')\n",
    "print(\"stat de test\", resultat[0])\n",
    "print(\"p-value\", resultat[1])\n",
    "if resultat[1] < alpha:\n",
    "    print('H0 rejetée')\n",
    "else:\n",
    "    print(\"H0 non rejetée\")"
   ]
  },
  {
   "cell_type": "markdown",
   "id": "baadebcd",
   "metadata": {},
   "source": [
    "A priori, on peut rejeter l'hypothèse nulle car pvalue < alpha : nos données ne suivent pas une loi normale. On va pouvori néanmoins utiliser le test de corrélation de Pearson du fait de notre grands nombres d'observations."
   ]
  },
  {
   "cell_type": "markdown",
   "id": "c8f03b10",
   "metadata": {},
   "source": [
    "Hypothèses :\n",
    "\n",
    "**H0** : Il n'y a pas de lien entre l'âge des clients et les montants dépensés\n",
    "\n",
    "**H1** : L'âge des clients semblent être influant sur les montants dépensés"
   ]
  },
  {
   "cell_type": "code",
   "execution_count": 54,
   "id": "a5859039",
   "metadata": {},
   "outputs": [
    {
     "name": "stdout",
     "output_type": "stream",
     "text": [
      "stat de test 0.093\n",
      "p-value 0.6523253053407325\n",
      "H0 non rejetée\n"
     ]
    }
   ],
   "source": [
    "resultat = scipy.stats.pearsonr(ages_montant1.age, ages_montant1.price)\n",
    "print(\"stat de test\", round(resultat[0],3))\n",
    "print(\"p-value\", resultat[1])\n",
    "if resultat[1] < alpha:\n",
    "    print('H0 rejetée')\n",
    "else:\n",
    "    print(\"H0 non rejetée\")"
   ]
  },
  {
   "cell_type": "code",
   "execution_count": 55,
   "id": "508caa29",
   "metadata": {},
   "outputs": [
    {
     "name": "stdout",
     "output_type": "stream",
     "text": [
      "stat de test -0.935\n",
      "p-value 1.009317815679102e-23\n",
      "H0 rejetée\n"
     ]
    }
   ],
   "source": [
    "resultat = scipy.stats.pearsonr(ages_montant2.age,ages_montant2.price)\n",
    "print(\"stat de test\", round(resultat[0],3))\n",
    "print(\"p-value\", resultat[1])\n",
    "if resultat[1] < alpha:\n",
    "    print('H0 rejetée')\n",
    "else:\n",
    "    print(\"H0 non rejetée\")"
   ]
  },
  {
   "cell_type": "markdown",
   "id": "72d15645",
   "metadata": {},
   "source": [
    "Pour le 1er groupe 18-43 ans : La stat du test est proche de 0, montre très peu de corrélation. Et pvalue > alpha : on ne peut pas rejeter H0 donc il n'y a pas de lien significatif entre l'âge des clients et les montants dépensés.\n",
    "\n",
    "Pour le 2ème groupe 44-94 ans : on voit une corrélation linéaire négative (proche de -1) et une pvalue < alpha, on peut rejeter l'H0 : il semble y avoir un lien significatif entre l'âge des clients et les montants dépensés. Plus ils avancent dans l'âge, moins ils vont dépenser (x augmente mais y diminue)\n"
   ]
  },
  {
   "cell_type": "markdown",
   "id": "c0e9cd89",
   "metadata": {},
   "source": [
    "<div style=\"border: 1px solid RGB(51,165,182);\" >\n",
    "<h3 style=\"margin: auto; padding: 10px; color: RGB(51,165,182); \">4.4- Age et catégorie </h3>\n",
    "</div>"
   ]
  },
  {
   "cell_type": "markdown",
   "id": "06f59e56",
   "metadata": {},
   "source": [
    "Deux variables qualitatives + une quanti : **test d'ANOVA** : L’analyse de la variance (ANOVA) peut déterminer si les moyennes de trois groupes ou plus sont différentes. ANOVA utilise des tests F pour tester statistiquement l’égalité des moyennes\n",
    "\n",
    "**Conditions** : test F valide si échantillons indépendants, suivent une loi normale et s'ils sont homoscédastique (variance ==)\n",
    "\n",
    "**Alternative** : test de Kruskal-Wallis (test non para) Va determiner si les différents échantillons sont issus de la mm population."
   ]
  },
  {
   "cell_type": "code",
   "execution_count": 56,
   "id": "7c23b422",
   "metadata": {},
   "outputs": [
    {
     "data": {
      "text/html": [
       "<div>\n",
       "<style scoped>\n",
       "    .dataframe tbody tr th:only-of-type {\n",
       "        vertical-align: middle;\n",
       "    }\n",
       "\n",
       "    .dataframe tbody tr th {\n",
       "        vertical-align: top;\n",
       "    }\n",
       "\n",
       "    .dataframe thead th {\n",
       "        text-align: right;\n",
       "    }\n",
       "</style>\n",
       "<table border=\"1\" class=\"dataframe\">\n",
       "  <thead>\n",
       "    <tr style=\"text-align: right;\">\n",
       "      <th>categ</th>\n",
       "      <th>0</th>\n",
       "      <th>1</th>\n",
       "      <th>2</th>\n",
       "    </tr>\n",
       "    <tr>\n",
       "      <th>intervalle_age</th>\n",
       "      <th></th>\n",
       "      <th></th>\n",
       "      <th></th>\n",
       "    </tr>\n",
       "  </thead>\n",
       "  <tbody>\n",
       "    <tr>\n",
       "      <th>[18, 30)</th>\n",
       "      <td>15938</td>\n",
       "      <td>26610</td>\n",
       "      <td>28361</td>\n",
       "    </tr>\n",
       "    <tr>\n",
       "      <th>[30, 50)</th>\n",
       "      <td>292302</td>\n",
       "      <td>91549</td>\n",
       "      <td>2948</td>\n",
       "    </tr>\n",
       "    <tr>\n",
       "      <th>[50, 70)</th>\n",
       "      <td>64883</td>\n",
       "      <td>75637</td>\n",
       "      <td>1241</td>\n",
       "    </tr>\n",
       "    <tr>\n",
       "      <th>[70, 95)</th>\n",
       "      <td>14370</td>\n",
       "      <td>18552</td>\n",
       "      <td>298</td>\n",
       "    </tr>\n",
       "  </tbody>\n",
       "</table>\n",
       "</div>"
      ],
      "text/plain": [
       "categ                0      1      2\n",
       "intervalle_age                      \n",
       "[18, 30)         15938  26610  28361\n",
       "[30, 50)        292302  91549   2948\n",
       "[50, 70)         64883  75637   1241\n",
       "[70, 95)         14370  18552    298"
      ]
     },
     "execution_count": 56,
     "metadata": {},
     "output_type": "execute_result"
    }
   ],
   "source": [
    "crosstab = pd.crosstab(index=rapport['intervalle_age'], columns=rapport['categ'], values=rapport['date'], aggfunc='count')\n",
    "crosstab"
   ]
  },
  {
   "cell_type": "code",
   "execution_count": 57,
   "id": "7fc6034d",
   "metadata": {},
   "outputs": [
    {
     "data": {
      "text/html": [
       "<div>\n",
       "<style scoped>\n",
       "    .dataframe tbody tr th:only-of-type {\n",
       "        vertical-align: middle;\n",
       "    }\n",
       "\n",
       "    .dataframe tbody tr th {\n",
       "        vertical-align: top;\n",
       "    }\n",
       "\n",
       "    .dataframe thead th {\n",
       "        text-align: right;\n",
       "    }\n",
       "</style>\n",
       "<table border=\"1\" class=\"dataframe\">\n",
       "  <thead>\n",
       "    <tr style=\"text-align: right;\">\n",
       "      <th>categ</th>\n",
       "      <th>0</th>\n",
       "      <th>1</th>\n",
       "      <th>2</th>\n",
       "    </tr>\n",
       "    <tr>\n",
       "      <th>intervalle_age</th>\n",
       "      <th></th>\n",
       "      <th></th>\n",
       "      <th></th>\n",
       "    </tr>\n",
       "  </thead>\n",
       "  <tbody>\n",
       "    <tr>\n",
       "      <th>[18, 30)</th>\n",
       "      <td>0.025191</td>\n",
       "      <td>0.042059</td>\n",
       "      <td>0.044826</td>\n",
       "    </tr>\n",
       "    <tr>\n",
       "      <th>[30, 50)</th>\n",
       "      <td>0.461999</td>\n",
       "      <td>0.144698</td>\n",
       "      <td>0.004659</td>\n",
       "    </tr>\n",
       "    <tr>\n",
       "      <th>[50, 70)</th>\n",
       "      <td>0.102551</td>\n",
       "      <td>0.119548</td>\n",
       "      <td>0.001961</td>\n",
       "    </tr>\n",
       "    <tr>\n",
       "      <th>[70, 95)</th>\n",
       "      <td>0.022713</td>\n",
       "      <td>0.029322</td>\n",
       "      <td>0.000471</td>\n",
       "    </tr>\n",
       "  </tbody>\n",
       "</table>\n",
       "</div>"
      ],
      "text/plain": [
       "categ                  0         1         2\n",
       "intervalle_age                              \n",
       "[18, 30)        0.025191  0.042059  0.044826\n",
       "[30, 50)        0.461999  0.144698  0.004659\n",
       "[50, 70)        0.102551  0.119548  0.001961\n",
       "[70, 95)        0.022713  0.029322  0.000471"
      ]
     },
     "execution_count": 57,
     "metadata": {},
     "output_type": "execute_result"
    }
   ],
   "source": [
    "crosstab_pct = pd.crosstab(index=rapport['intervalle_age'], columns=rapport['categ'], values=rapport['date'], aggfunc='count', normalize='all')\n",
    "crosstab_pct"
   ]
  },
  {
   "cell_type": "code",
   "execution_count": 58,
   "id": "10104f97",
   "metadata": {
    "scrolled": true
   },
   "outputs": [
    {
     "data": {
      "image/png": "[encoded data removed]",
      "text/plain": [
       "<Figure size 432x288 with 1 Axes>"
      ]
     },
     "metadata": {
      "needs_background": "light"
     },
     "output_type": "display_data"
    }
   ],
   "source": [
    "bars0 = [15938, 292302, 64883, 14370]\n",
    "bars1 = [26610, 91549, 75637, 18552]\n",
    "bars2 = [28361, 2948, 1241, 298]\n",
    "\n",
    "# set width of bars\n",
    "barWidth = 0.25\n",
    "#Position of bar x\n",
    "r0 = np.arange(len(bars0))\n",
    "r1 = [x + barWidth for x in r0]\n",
    "r2 = [x + barWidth for x in r1]\n",
    "\n",
    "# Make the plot\n",
    "plt.bar(r0, bars0,  width=barWidth, edgecolor='white', label='Categ 0')\n",
    "plt.bar(r1, bars1,  width=barWidth, edgecolor='white', label='Categ 1')\n",
    "plt.bar(r2, bars2,  width=barWidth, edgecolor='white', label='Categ 2')\n",
    "\n",
    "plt.title(\"Fréquence d'achat par âge et catégorie\", pad=(20),fontdict={'family': 'serif', 'color' : 'black','weight': 'bold','size': 18});\n",
    "plt.grid(axis='y') \n",
    "\n",
    "# Add xticks on the middle of the group bars\n",
    "plt.xlabel('Intervalle_age', fontweight='bold')\n",
    "plt.xticks([r + barWidth for r in range(len(bars1))], ['18-30', '30-50', '50-70', '70-95'])\n",
    "plt.ylabel(\"Nombre d'achats\")\n",
    "\n",
    "# Create legend & Show graphic\n",
    "plt.legend()\n",
    "plt.show()"
   ]
  },
  {
   "cell_type": "markdown",
   "id": "47461fbc",
   "metadata": {},
   "source": [
    "**test de normalité** : Shapiro wilk : \n",
    "\n",
    "**H0** : Nos échantillons suivent une loi normale\n",
    "\n",
    "**H1** : Nos échantillons ne suivent pas une loi normale"
   ]
  },
  {
   "cell_type": "code",
   "execution_count": 59,
   "id": "9a0f4bfa",
   "metadata": {},
   "outputs": [
    {
     "name": "stdout",
     "output_type": "stream",
     "text": [
      "statistic 0.644\n",
      "p-value 0.00025444349739700556\n",
      "H0 rejetée\n"
     ]
    }
   ],
   "source": [
    "# test de normalité KS :\n",
    "from scipy.stats import shapiro\n",
    "alpha=0.05\n",
    "resultat = shapiro(crosstab.values)\n",
    "print(\"statistic\", round(resultat[0],3))\n",
    "print(\"p-value\", resultat[1])\n",
    "if resultat[1] < alpha:\n",
    "    print('H0 rejetée')\n",
    "else:\n",
    "    print(\"H0 non rejetée\")"
   ]
  },
  {
   "cell_type": "markdown",
   "id": "fd4eb72f",
   "metadata": {},
   "source": [
    "Nos échantillons ne suivent pas une loi normale. On va regarder l'égalité des variances : "
   ]
  },
  {
   "cell_type": "markdown",
   "id": "71711963",
   "metadata": {},
   "source": [
    "**Test d'égalité des variances** :  homogénéité de la variance = homoscédasticité\n",
    "\n",
    "**H0** : La variance des groupes sont égales \n",
    "\n",
    "**H1** : La variance des groupes sont différentes"
   ]
  },
  {
   "cell_type": "code",
   "execution_count": 60,
   "id": "3e060987",
   "metadata": {},
   "outputs": [
    {
     "name": "stdout",
     "output_type": "stream",
     "text": [
      "stat de test 1.988\n",
      "p-value 0.19437832073007952\n",
      "H0 non rejetée\n"
     ]
    }
   ],
   "source": [
    "# Echantillons :\n",
    "a = [15938, 26610, 28361] #18_30\n",
    "b = [292302, 91549, 2948] #30_50\n",
    "c = [64883, 75637, 1241] #50_70 \n",
    "d = [14370, 18552, 298] #70_95 \n",
    "\n",
    "\n",
    "# Test de levene : \n",
    "alpha = 0.05\n",
    "\n",
    "resultat = st.levene(a,b,c,d, center = 'median')\n",
    "print(\"stat de test\", round(resultat[0],3))\n",
    "print(\"p-value\", resultat[1])\n",
    "if resultat[1] < alpha:\n",
    "    print('H0 rejetée')\n",
    "else:\n",
    "    print(\"H0 non rejetée\")"
   ]
  },
  {
   "cell_type": "markdown",
   "id": "0b986c7c",
   "metadata": {},
   "source": [
    "Pvalue > alpha, non rejet de l'H0 donc les variances des groupes sembles être ==\n",
    "\n",
    "Les conditions de l'ANOVA ne sont donc pas remplies au niveau de la loi normale et nos échantillons sont de petites tailles: on va faire le test alternatif Kruskal-Wallis"
   ]
  },
  {
   "cell_type": "markdown",
   "id": "e978a91c",
   "metadata": {},
   "source": [
    "**Test alternatif Kruskal-Wallis**\n",
    "Hypothèses :\n",
    "\n",
    "**H0** : L'age et les catégories ne sont pas correlés\n",
    "\n",
    "**H1** : L'age et les catégories sont correlés"
   ]
  },
  {
   "cell_type": "code",
   "execution_count": 61,
   "id": "7206678e",
   "metadata": {},
   "outputs": [
    {
     "name": "stdout",
     "output_type": "stream",
     "text": [
      "stat de test 3.0\n",
      "p-value 0.3916251762710877\n",
      "H0 non rejetée\n"
     ]
    }
   ],
   "source": [
    "# Test de Kruskal-Wallis\n",
    "alpha = 0.05\n",
    "\n",
    "resultat = st.kruskal(a,b,c,d)\n",
    "print(\"stat de test\", round(resultat[0],3))\n",
    "print(\"p-value\", resultat[1])\n",
    "if resultat[1] < alpha:\n",
    "    print('H0 rejetée')\n",
    "else:\n",
    "    print(\"H0 non rejetée\")"
   ]
  },
  {
   "cell_type": "markdown",
   "id": "c0c1055a",
   "metadata": {},
   "source": [
    "Il semble ne pas y avoir de lien significatif entre les catégories et l'âge"
   ]
  },
  {
   "cell_type": "markdown",
   "id": "e5eaeb51",
   "metadata": {},
   "source": [
    "<div style=\"border: 1px solid RGB(51,165,182);\" >\n",
    "<h3 style=\"margin: auto; padding: 10px; color: RGB(51,165,182); \">4.5- Panier moyen et fréquence </h3>\n",
    "</div>"
   ]
  },
  {
   "cell_type": "markdown",
   "id": "bbfaaea9",
   "metadata": {},
   "source": [
    "2 var quanti : **Coeff de Pearson**\n",
    "\n",
    "**conditions** : données doivent suivre une loi normale\n",
    "\n",
    "**test alternatif** : Spearman"
   ]
  },
  {
   "cell_type": "code",
   "execution_count": 62,
   "id": "daf30b70",
   "metadata": {},
   "outputs": [
    {
     "data": {
      "text/html": [
       "<div>\n",
       "<style scoped>\n",
       "    .dataframe tbody tr th:only-of-type {\n",
       "        vertical-align: middle;\n",
       "    }\n",
       "\n",
       "    .dataframe tbody tr th {\n",
       "        vertical-align: top;\n",
       "    }\n",
       "\n",
       "    .dataframe thead th {\n",
       "        text-align: right;\n",
       "    }\n",
       "</style>\n",
       "<table border=\"1\" class=\"dataframe\">\n",
       "  <thead>\n",
       "    <tr style=\"text-align: right;\">\n",
       "      <th></th>\n",
       "      <th>client_id</th>\n",
       "      <th>panier_moyen</th>\n",
       "      <th>frequence_achat</th>\n",
       "    </tr>\n",
       "  </thead>\n",
       "  <tbody>\n",
       "    <tr>\n",
       "      <th>0</th>\n",
       "      <td>c_1</td>\n",
       "      <td>14.31</td>\n",
       "      <td>39</td>\n",
       "    </tr>\n",
       "    <tr>\n",
       "      <th>1</th>\n",
       "      <td>c_10</td>\n",
       "      <td>23.34</td>\n",
       "      <td>58</td>\n",
       "    </tr>\n",
       "    <tr>\n",
       "      <th>2</th>\n",
       "      <td>c_100</td>\n",
       "      <td>31.86</td>\n",
       "      <td>8</td>\n",
       "    </tr>\n",
       "    <tr>\n",
       "      <th>3</th>\n",
       "      <td>c_1000</td>\n",
       "      <td>18.10</td>\n",
       "      <td>125</td>\n",
       "    </tr>\n",
       "    <tr>\n",
       "      <th>4</th>\n",
       "      <td>c_1001</td>\n",
       "      <td>17.77</td>\n",
       "      <td>102</td>\n",
       "    </tr>\n",
       "    <tr>\n",
       "      <th>...</th>\n",
       "      <td>...</td>\n",
       "      <td>...</td>\n",
       "      <td>...</td>\n",
       "    </tr>\n",
       "    <tr>\n",
       "      <th>8591</th>\n",
       "      <td>c_995</td>\n",
       "      <td>13.53</td>\n",
       "      <td>14</td>\n",
       "    </tr>\n",
       "    <tr>\n",
       "      <th>8592</th>\n",
       "      <td>c_996</td>\n",
       "      <td>17.11</td>\n",
       "      <td>95</td>\n",
       "    </tr>\n",
       "    <tr>\n",
       "      <th>8593</th>\n",
       "      <td>c_997</td>\n",
       "      <td>25.25</td>\n",
       "      <td>59</td>\n",
       "    </tr>\n",
       "    <tr>\n",
       "      <th>8594</th>\n",
       "      <td>c_998</td>\n",
       "      <td>52.45</td>\n",
       "      <td>53</td>\n",
       "    </tr>\n",
       "    <tr>\n",
       "      <th>8595</th>\n",
       "      <td>c_999</td>\n",
       "      <td>15.25</td>\n",
       "      <td>46</td>\n",
       "    </tr>\n",
       "  </tbody>\n",
       "</table>\n",
       "<p>8596 rows × 3 columns</p>\n",
       "</div>"
      ],
      "text/plain": [
       "     client_id  panier_moyen  frequence_achat\n",
       "0          c_1         14.31               39\n",
       "1         c_10         23.34               58\n",
       "2        c_100         31.86                8\n",
       "3       c_1000         18.10              125\n",
       "4       c_1001         17.77              102\n",
       "...        ...           ...              ...\n",
       "8591     c_995         13.53               14\n",
       "8592     c_996         17.11               95\n",
       "8593     c_997         25.25               59\n",
       "8594     c_998         52.45               53\n",
       "8595     c_999         15.25               46\n",
       "\n",
       "[8596 rows x 3 columns]"
      ]
     },
     "execution_count": 62,
     "metadata": {},
     "output_type": "execute_result"
    }
   ],
   "source": [
    "#Panier moyen par client\n",
    "x = round(rapport.groupby('client_id',as_index=False)['price'].mean(),2)\n",
    "x.columns = ['client_id', 'panier_moyen']\n",
    "\n",
    "# Fréquence d'achat par client \n",
    "y = rapport.groupby('client_id', as_index=False)['price'].count()\n",
    "y.columns = ['client_id', 'frequence_achat']\n",
    "\n",
    "# Merge :\n",
    "xy = pd.merge(left=x, \n",
    "             right=y, how='inner', on='client_id')\n",
    "xy"
   ]
  },
  {
   "cell_type": "code",
   "execution_count": 63,
   "id": "f3d91aab",
   "metadata": {},
   "outputs": [
    {
     "data": {
      "image/png": "[encoded data removed]",
      "text/plain": [
       "<Figure size 720x576 with 1 Axes>"
      ]
     },
     "metadata": {
      "needs_background": "light"
     },
     "output_type": "display_data"
    }
   ],
   "source": [
    "#Visuel panier / freq achat par client:\n",
    "plt.figure(figsize=(10,8))\n",
    "h = sns.histplot(xy, kde=True, bins=35)"
   ]
  },
  {
   "cell_type": "markdown",
   "id": "2063acec",
   "metadata": {},
   "source": [
    "### Test de normalité : KS \n",
    "\n",
    "**H0** : Nos deux variables suivent une loi normale\n",
    "\n",
    "**H1** : Nos deux variables ne suivent pas une loi normale"
   ]
  },
  {
   "cell_type": "code",
   "execution_count": 64,
   "id": "4db3baba",
   "metadata": {},
   "outputs": [
    {
     "name": "stdout",
     "output_type": "stream",
     "text": [
      "stat de test 0.566\n",
      "p-value 0.0\n",
      "H0 rejetée\n"
     ]
    }
   ],
   "source": [
    "#Test de normalité KS : \n",
    "alpha = 0.05\n",
    "resultat = st.kstest(x.panier_moyen, y.frequence_achat, 'norm')\n",
    "print(\"stat de test\", round(resultat[0],3))\n",
    "print(\"p-value\", resultat[1])\n",
    "if resultat[1] < alpha:\n",
    "    print('H0 rejetée')\n",
    "else:\n",
    "    print(\"H0 non rejetée\")"
   ]
  },
  {
   "cell_type": "markdown",
   "id": "cc2e87cb",
   "metadata": {},
   "source": [
    "P value à 0 < alpha donc rejet de l'H0 : nos deux variables ne suivent à priori pas une loi normale. Au vue du nombre de données que l'on a, on va pouvoir tout de même effectuer le test paramétrique de Pearson : "
   ]
  },
  {
   "cell_type": "markdown",
   "id": "5d916246",
   "metadata": {},
   "source": [
    "Hypothèses :\n",
    "\n",
    "**H0** : Il n'y a pas de lien entre le panier moyen et la fréquence d'achat des clients\n",
    "\n",
    "**H1** : Il y a un lien entre le panier moyen et la fréquence d'achat des clients"
   ]
  },
  {
   "cell_type": "code",
   "execution_count": 65,
   "id": "f2620aed",
   "metadata": {},
   "outputs": [
    {
     "name": "stdout",
     "output_type": "stream",
     "text": [
      "stat de test -0.338\n",
      "p-value 1.600580000891157e-228\n",
      "H0 rejetée\n"
     ]
    }
   ],
   "source": [
    "#test de Pearson :\n",
    "resultat = scipy.stats.pearsonr(x.panier_moyen, y.frequence_achat)\n",
    "print(\"stat de test\", round(resultat[0],3))\n",
    "print(\"p-value\", resultat[1])\n",
    "if resultat[1] < alpha:\n",
    "    print('H0 rejetée')\n",
    "else:\n",
    "    print(\"H0 non rejetée\")"
   ]
  },
  {
   "cell_type": "markdown",
   "id": "052279bf",
   "metadata": {},
   "source": [
    "Coeff de -0.34 = légère corrélation linéaire négative, pvalue < alpha nous pouvons donc rejeter l'hypothèse nulle. D'après le test, il y a un lien significatif entre le panier moyen et la fréquence des clients. Il semblerait que plus le panier moyen des clients augmente (x), plus la fréquence d'achat des clients diminue (y) --> (corr linéaire négative)"
   ]
  },
  {
   "cell_type": "code",
   "execution_count": null,
   "id": "ce7174a1",
   "metadata": {},
   "outputs": [],
   "source": []
  }
 ],
 "metadata": {
  "kernelspec": {
   "display_name": "Python 3 (ipykernel)",
   "language": "python",
   "name": "python3"
  },
  "language_info": {
   "codemirror_mode": {
    "name": "ipython",
    "version": 3
   },
   "file_extension": ".py",
   "mimetype": "text/x-python",
   "name": "python",
   "nbconvert_exporter": "python",
   "pygments_lexer": "ipython3",
   "version": "3.9.12"
  }
 },
 "nbformat": 4,
 "nbformat_minor": 5
}
